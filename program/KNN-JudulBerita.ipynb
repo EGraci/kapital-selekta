{
  "cells": [
    {
      "cell_type": "markdown",
      "id": "f6d8f9fa",
      "metadata": {},
      "source": [
        "# Liputan 6\n",
        "## Klasifikasi jenis berita berdasarkan judul"
      ]
    },
    {
      "cell_type": "code",
      "execution_count": 1,
      "id": "c0bc7ec7",
      "metadata": {},
      "outputs": [
        {
          "name": "stdout",
          "output_type": "stream",
          "text": [
            "Defaulting to user installation because normal site-packages is not writeable\n",
            "Requirement already satisfied: pandas in c:\\users\\aku\\appdata\\roaming\\python\\python310\\site-packages (1.5.1)\n",
            "Requirement already satisfied: python-dateutil>=2.8.1 in c:\\users\\aku\\appdata\\roaming\\python\\python310\\site-packages (from pandas) (2.8.2)\n",
            "Requirement already satisfied: numpy>=1.21.0 in c:\\users\\aku\\appdata\\roaming\\python\\python310\\site-packages (from pandas) (1.23.4)\n",
            "Requirement already satisfied: pytz>=2020.1 in c:\\users\\aku\\appdata\\roaming\\python\\python310\\site-packages (from pandas) (2022.5)\n",
            "Requirement already satisfied: six>=1.5 in c:\\users\\aku\\appdata\\roaming\\python\\python310\\site-packages (from python-dateutil>=2.8.1->pandas) (1.16.0)\n",
            "Defaulting to user installation because normal site-packages is not writeable\n",
            "Requirement already satisfied: numpy in c:\\users\\aku\\appdata\\roaming\\python\\python310\\site-packages (1.23.4)\n",
            "Defaulting to user installation because normal site-packages is not writeable\n",
            "Requirement already satisfied: nltk in c:\\users\\aku\\appdata\\roaming\\python\\python310\\site-packages (3.7)\n",
            "Requirement already satisfied: joblib in c:\\users\\aku\\appdata\\roaming\\python\\python310\\site-packages (from nltk) (1.2.0)\n",
            "Requirement already satisfied: tqdm in c:\\users\\aku\\appdata\\roaming\\python\\python310\\site-packages (from nltk) (4.64.1)\n",
            "Requirement already satisfied: click in c:\\users\\aku\\appdata\\roaming\\python\\python310\\site-packages (from nltk) (8.1.3)\n",
            "Requirement already satisfied: regex>=2021.8.3 in c:\\users\\aku\\appdata\\roaming\\python\\python310\\site-packages (from nltk) (2022.10.31)\n",
            "Requirement already satisfied: colorama in c:\\users\\aku\\appdata\\roaming\\python\\python310\\site-packages (from click->nltk) (0.4.5)\n",
            "Defaulting to user installation because normal site-packages is not writeable\n",
            "Requirement already satisfied: Sastrawi in c:\\users\\aku\\appdata\\roaming\\python\\python310\\site-packages (1.0.1)\n",
            "Defaulting to user installation because normal site-packages is not writeable\n",
            "Requirement already satisfied: sklearn in c:\\users\\aku\\appdata\\roaming\\python\\python310\\site-packages (0.0.post1)\n"
          ]
        }
      ],
      "source": [
        "# install libarary\n",
        "! pip install pandas\n",
        "! pip install numpy\n",
        "! pip install nltk\n",
        "! pip install Sastrawi\n",
        "! pip install sklearn\n"
      ]
    },
    {
      "cell_type": "code",
      "execution_count": 98,
      "id": "55ec4964",
      "metadata": {
        "id": "55ec4964"
      },
      "outputs": [],
      "source": [
        "# import library\n",
        "\n",
        "import pandas as pd\n",
        "import numpy as np\n",
        "from nltk.tokenize import word_tokenize\n",
        "from nltk.tokenize import sent_tokenize\n",
        "from Sastrawi.Stemmer.StemmerFactory import StemmerFactory\n",
        "from Sastrawi.StopWordRemover.StopWordRemoverFactory import StopWordRemoverFactory, StopWordRemover, ArrayDictionary\n",
        "from sklearn.feature_extraction.text import TfidfVectorizer\n",
        "from sklearn.metrics import classification_report\n",
        "from sklearn.model_selection import train_test_split\n",
        "from sklearn.neighbors import KNeighborsClassifier\n",
        "# nltk.download()"
      ]
    },
    {
      "cell_type": "code",
      "execution_count": 99,
      "id": "7fde0acf",
      "metadata": {
        "id": "7fde0acf",
        "outputId": "c7370cc9-5817-47e9-b78f-74e65699861b"
      },
      "outputs": [
        {
          "data": {
            "text/html": [
              "<div>\n",
              "<style scoped>\n",
              "    .dataframe tbody tr th:only-of-type {\n",
              "        vertical-align: middle;\n",
              "    }\n",
              "\n",
              "    .dataframe tbody tr th {\n",
              "        vertical-align: top;\n",
              "    }\n",
              "\n",
              "    .dataframe thead th {\n",
              "        text-align: right;\n",
              "    }\n",
              "</style>\n",
              "<table border=\"1\" class=\"dataframe\">\n",
              "  <thead>\n",
              "    <tr style=\"text-align: right;\">\n",
              "      <th></th>\n",
              "      <th>Judul</th>\n",
              "      <th>Jenis</th>\n",
              "      <th>User Aktif</th>\n",
              "    </tr>\n",
              "  </thead>\n",
              "  <tbody>\n",
              "    <tr>\n",
              "      <th>0</th>\n",
              "      <td>Penyebab Wanita Gagal Raih Orgasme Saat Bercin...</td>\n",
              "      <td>Health</td>\n",
              "      <td>9</td>\n",
              "    </tr>\n",
              "    <tr>\n",
              "      <th>1</th>\n",
              "      <td>6 Potret Perayaan Ulang Tahun Okie Agustina ke...</td>\n",
              "      <td>Hot</td>\n",
              "      <td>7</td>\n",
              "    </tr>\n",
              "    <tr>\n",
              "      <th>2</th>\n",
              "      <td>Bacaan Doa Setelah Sholat Tahajud Rasulullah S...</td>\n",
              "      <td>Islami</td>\n",
              "      <td>7</td>\n",
              "    </tr>\n",
              "    <tr>\n",
              "      <th>3</th>\n",
              "      <td>Ternyata Pihak-Pihak Ini yang Disebut Punya Bi...</td>\n",
              "      <td>Crypto</td>\n",
              "      <td>6</td>\n",
              "    </tr>\n",
              "    <tr>\n",
              "      <th>4</th>\n",
              "      <td>Rekomendasi Film-Film Seru di Bioskop Sepanjan...</td>\n",
              "      <td>Regional</td>\n",
              "      <td>6</td>\n",
              "    </tr>\n",
              "  </tbody>\n",
              "</table>\n",
              "</div>"
            ],
            "text/plain": [
              "                                               Judul     Jenis  User Aktif\n",
              "0  Penyebab Wanita Gagal Raih Orgasme Saat Bercin...    Health           9\n",
              "1  6 Potret Perayaan Ulang Tahun Okie Agustina ke...       Hot           7\n",
              "2  Bacaan Doa Setelah Sholat Tahajud Rasulullah S...    Islami           7\n",
              "3  Ternyata Pihak-Pihak Ini yang Disebut Punya Bi...    Crypto           6\n",
              "4  Rekomendasi Film-Film Seru di Bioskop Sepanjan...  Regional           6"
            ]
          },
          "execution_count": 99,
          "metadata": {},
          "output_type": "execute_result"
        }
      ],
      "source": [
        "# load data\n",
        "\n",
        "df = pd.read_csv(\"raw.csv\")\n",
        "df.head()"
      ]
    },
    {
      "cell_type": "code",
      "execution_count": 100,
      "id": "49ade5e9",
      "metadata": {
        "id": "49ade5e9"
      },
      "outputs": [
        {
          "data": {
            "text/html": [
              "<div>\n",
              "<style scoped>\n",
              "    .dataframe tbody tr th:only-of-type {\n",
              "        vertical-align: middle;\n",
              "    }\n",
              "\n",
              "    .dataframe tbody tr th {\n",
              "        vertical-align: top;\n",
              "    }\n",
              "\n",
              "    .dataframe thead th {\n",
              "        text-align: right;\n",
              "    }\n",
              "</style>\n",
              "<table border=\"1\" class=\"dataframe\">\n",
              "  <thead>\n",
              "    <tr style=\"text-align: right;\">\n",
              "      <th></th>\n",
              "      <th>Judul</th>\n",
              "      <th>Jenis</th>\n",
              "    </tr>\n",
              "  </thead>\n",
              "  <tbody>\n",
              "    <tr>\n",
              "      <th>0</th>\n",
              "      <td>Penyebab Wanita Gagal Raih Orgasme Saat Bercin...</td>\n",
              "      <td>Health</td>\n",
              "    </tr>\n",
              "    <tr>\n",
              "      <th>1</th>\n",
              "      <td>6 Potret Perayaan Ulang Tahun Okie Agustina ke...</td>\n",
              "      <td>Hot</td>\n",
              "    </tr>\n",
              "    <tr>\n",
              "      <th>2</th>\n",
              "      <td>Bacaan Doa Setelah Sholat Tahajud Rasulullah S...</td>\n",
              "      <td>Islami</td>\n",
              "    </tr>\n",
              "    <tr>\n",
              "      <th>3</th>\n",
              "      <td>Ternyata Pihak-Pihak Ini yang Disebut Punya Bi...</td>\n",
              "      <td>Crypto</td>\n",
              "    </tr>\n",
              "    <tr>\n",
              "      <th>4</th>\n",
              "      <td>Rekomendasi Film-Film Seru di Bioskop Sepanjan...</td>\n",
              "      <td>Regional</td>\n",
              "    </tr>\n",
              "  </tbody>\n",
              "</table>\n",
              "</div>"
            ],
            "text/plain": [
              "                                               Judul     Jenis\n",
              "0  Penyebab Wanita Gagal Raih Orgasme Saat Bercin...    Health\n",
              "1  6 Potret Perayaan Ulang Tahun Okie Agustina ke...       Hot\n",
              "2  Bacaan Doa Setelah Sholat Tahajud Rasulullah S...    Islami\n",
              "3  Ternyata Pihak-Pihak Ini yang Disebut Punya Bi...    Crypto\n",
              "4  Rekomendasi Film-Film Seru di Bioskop Sepanjan...  Regional"
            ]
          },
          "execution_count": 100,
          "metadata": {},
          "output_type": "execute_result"
        }
      ],
      "source": [
        "# memilih kolom-kolom yang akan di drop \n",
        "\n",
        "to_drop = ['User Aktif']\n",
        "\n",
        "# melakukan drop pada data yang dipilih\n",
        "\n",
        "df.drop(to_drop, inplace=True, axis=1)\n",
        "\n",
        "# Hasil penghilenang kolom\n",
        "df.head()"
      ]
    },
    {
      "cell_type": "code",
      "execution_count": 101,
      "id": "fea27921",
      "metadata": {
        "id": "fea27921",
        "outputId": "661c161f-7484-406f-ec28-04b842ee5299",
        "scrolled": true
      },
      "outputs": [
        {
          "data": {
            "text/html": [
              "<div>\n",
              "<style scoped>\n",
              "    .dataframe tbody tr th:only-of-type {\n",
              "        vertical-align: middle;\n",
              "    }\n",
              "\n",
              "    .dataframe tbody tr th {\n",
              "        vertical-align: top;\n",
              "    }\n",
              "\n",
              "    .dataframe thead th {\n",
              "        text-align: right;\n",
              "    }\n",
              "</style>\n",
              "<table border=\"1\" class=\"dataframe\">\n",
              "  <thead>\n",
              "    <tr style=\"text-align: right;\">\n",
              "      <th></th>\n",
              "      <th>Judul</th>\n",
              "      <th>Jenis</th>\n",
              "    </tr>\n",
              "  </thead>\n",
              "  <tbody>\n",
              "    <tr>\n",
              "      <th>count</th>\n",
              "      <td>2286</td>\n",
              "      <td>2286</td>\n",
              "    </tr>\n",
              "    <tr>\n",
              "      <th>unique</th>\n",
              "      <td>2099</td>\n",
              "      <td>17</td>\n",
              "    </tr>\n",
              "    <tr>\n",
              "      <th>top</th>\n",
              "      <td>Senam Lantai: Pengertian Sejarah Manfaat dan M...</td>\n",
              "      <td>Hot</td>\n",
              "    </tr>\n",
              "    <tr>\n",
              "      <th>freq</th>\n",
              "      <td>5</td>\n",
              "      <td>514</td>\n",
              "    </tr>\n",
              "  </tbody>\n",
              "</table>\n",
              "</div>"
            ],
            "text/plain": [
              "                                                    Judul Jenis\n",
              "count                                                2286  2286\n",
              "unique                                               2099    17\n",
              "top     Senam Lantai: Pengertian Sejarah Manfaat dan M...   Hot\n",
              "freq                                                    5   514"
            ]
          },
          "execution_count": 101,
          "metadata": {},
          "output_type": "execute_result"
        }
      ],
      "source": [
        "# melihat statistik dasar \n",
        "\n",
        "df.describe()"
      ]
    },
    {
      "cell_type": "code",
      "execution_count": 102,
      "id": "dac3843c",
      "metadata": {},
      "outputs": [
        {
          "data": {
            "text/html": [
              "<div>\n",
              "<style scoped>\n",
              "    .dataframe tbody tr th:only-of-type {\n",
              "        vertical-align: middle;\n",
              "    }\n",
              "\n",
              "    .dataframe tbody tr th {\n",
              "        vertical-align: top;\n",
              "    }\n",
              "\n",
              "    .dataframe thead th {\n",
              "        text-align: right;\n",
              "    }\n",
              "</style>\n",
              "<table border=\"1\" class=\"dataframe\">\n",
              "  <thead>\n",
              "    <tr style=\"text-align: right;\">\n",
              "      <th></th>\n",
              "      <th>Judul</th>\n",
              "      <th>Jenis</th>\n",
              "    </tr>\n",
              "  </thead>\n",
              "  <tbody>\n",
              "    <tr>\n",
              "      <th>count</th>\n",
              "      <td>1961</td>\n",
              "      <td>1961</td>\n",
              "    </tr>\n",
              "    <tr>\n",
              "      <th>unique</th>\n",
              "      <td>1961</td>\n",
              "      <td>17</td>\n",
              "    </tr>\n",
              "    <tr>\n",
              "      <th>top</th>\n",
              "      <td>Penyebab Wanita Gagal Raih Orgasme Saat Bercin...</td>\n",
              "      <td>Hot</td>\n",
              "    </tr>\n",
              "    <tr>\n",
              "      <th>freq</th>\n",
              "      <td>1</td>\n",
              "      <td>416</td>\n",
              "    </tr>\n",
              "  </tbody>\n",
              "</table>\n",
              "</div>"
            ],
            "text/plain": [
              "                                                    Judul Jenis\n",
              "count                                                1961  1961\n",
              "unique                                               1961    17\n",
              "top     Penyebab Wanita Gagal Raih Orgasme Saat Bercin...   Hot\n",
              "freq                                                    1   416"
            ]
          },
          "execution_count": 102,
          "metadata": {},
          "output_type": "execute_result"
        }
      ],
      "source": [
        "# menghilangkan data judul yang sama\n",
        "df.drop_duplicates(subset=\"Judul\", keep=False, inplace=True)\n",
        "df.describe()"
      ]
    },
    {
      "cell_type": "markdown",
      "id": "a9592cbf",
      "metadata": {},
      "source": [
        "# Case folding"
      ]
    },
    {
      "cell_type": "code",
      "execution_count": 103,
      "id": "d0135f48",
      "metadata": {},
      "outputs": [
        {
          "data": {
            "text/html": [
              "<div>\n",
              "<style scoped>\n",
              "    .dataframe tbody tr th:only-of-type {\n",
              "        vertical-align: middle;\n",
              "    }\n",
              "\n",
              "    .dataframe tbody tr th {\n",
              "        vertical-align: top;\n",
              "    }\n",
              "\n",
              "    .dataframe thead th {\n",
              "        text-align: right;\n",
              "    }\n",
              "</style>\n",
              "<table border=\"1\" class=\"dataframe\">\n",
              "  <thead>\n",
              "    <tr style=\"text-align: right;\">\n",
              "      <th></th>\n",
              "      <th>Judul</th>\n",
              "      <th>Jenis</th>\n",
              "    </tr>\n",
              "  </thead>\n",
              "  <tbody>\n",
              "    <tr>\n",
              "      <th>0</th>\n",
              "      <td>penyebab wanita gagal raih orgasme saat bercin...</td>\n",
              "      <td>health</td>\n",
              "    </tr>\n",
              "    <tr>\n",
              "      <th>1</th>\n",
              "      <td>6 potret perayaan ulang tahun okie agustina ke...</td>\n",
              "      <td>hot</td>\n",
              "    </tr>\n",
              "    <tr>\n",
              "      <th>3</th>\n",
              "      <td>ternyata pihak-pihak ini yang disebut punya bi...</td>\n",
              "      <td>crypto</td>\n",
              "    </tr>\n",
              "    <tr>\n",
              "      <th>4</th>\n",
              "      <td>rekomendasi film-film seru di bioskop sepanjan...</td>\n",
              "      <td>regional</td>\n",
              "    </tr>\n",
              "    <tr>\n",
              "      <th>5</th>\n",
              "      <td>manfaat sholat istikharah tata cara niat doa d...</td>\n",
              "      <td>regional</td>\n",
              "    </tr>\n",
              "  </tbody>\n",
              "</table>\n",
              "</div>"
            ],
            "text/plain": [
              "                                               Judul     Jenis\n",
              "0  penyebab wanita gagal raih orgasme saat bercin...    health\n",
              "1  6 potret perayaan ulang tahun okie agustina ke...       hot\n",
              "3  ternyata pihak-pihak ini yang disebut punya bi...    crypto\n",
              "4  rekomendasi film-film seru di bioskop sepanjan...  regional\n",
              "5  manfaat sholat istikharah tata cara niat doa d...  regional"
            ]
          },
          "execution_count": 103,
          "metadata": {},
          "output_type": "execute_result"
        }
      ],
      "source": [
        "# mengubah ke lower case\n",
        "df['Judul'] = df['Judul'].str.lower()\n",
        "df['Jenis'] = df['Jenis'].str.lower()\n",
        "\n",
        "df.head()"
      ]
    },
    {
      "cell_type": "code",
      "execution_count": 104,
      "id": "161dae7b",
      "metadata": {},
      "outputs": [
        {
          "name": "stderr",
          "output_type": "stream",
          "text": [
            "C:\\Users\\AKU\\AppData\\Local\\Temp\\ipykernel_6244\\2487329922.py:2: FutureWarning: The default value of regex will change from True to False in a future version.\n",
            "  df['Judul'] = df['Judul'].str.replace('\\d*', '')\n",
            "C:\\Users\\AKU\\AppData\\Local\\Temp\\ipykernel_6244\\2487329922.py:3: FutureWarning: The default value of regex will change from True to False in a future version.\n",
            "  df['Judul'] = df['Judul'].str.replace('[^\\w\\s]', ' ')\n"
          ]
        },
        {
          "data": {
            "text/html": [
              "<div>\n",
              "<style scoped>\n",
              "    .dataframe tbody tr th:only-of-type {\n",
              "        vertical-align: middle;\n",
              "    }\n",
              "\n",
              "    .dataframe tbody tr th {\n",
              "        vertical-align: top;\n",
              "    }\n",
              "\n",
              "    .dataframe thead th {\n",
              "        text-align: right;\n",
              "    }\n",
              "</style>\n",
              "<table border=\"1\" class=\"dataframe\">\n",
              "  <thead>\n",
              "    <tr style=\"text-align: right;\">\n",
              "      <th></th>\n",
              "      <th>Judul</th>\n",
              "      <th>Jenis</th>\n",
              "    </tr>\n",
              "  </thead>\n",
              "  <tbody>\n",
              "    <tr>\n",
              "      <th>0</th>\n",
              "      <td>penyebab wanita gagal raih orgasme saat bercin...</td>\n",
              "      <td>health</td>\n",
              "    </tr>\n",
              "    <tr>\n",
              "      <th>1</th>\n",
              "      <td>potret perayaan ulang tahun okie agustina ke  ...</td>\n",
              "      <td>hot</td>\n",
              "    </tr>\n",
              "    <tr>\n",
              "      <th>3</th>\n",
              "      <td>ternyata pihak pihak ini yang disebut punya bi...</td>\n",
              "      <td>crypto</td>\n",
              "    </tr>\n",
              "    <tr>\n",
              "      <th>4</th>\n",
              "      <td>rekomendasi film film seru di bioskop sepanjan...</td>\n",
              "      <td>regional</td>\n",
              "    </tr>\n",
              "    <tr>\n",
              "      <th>5</th>\n",
              "      <td>manfaat sholat istikharah tata cara niat doa d...</td>\n",
              "      <td>regional</td>\n",
              "    </tr>\n",
              "  </tbody>\n",
              "</table>\n",
              "</div>"
            ],
            "text/plain": [
              "                                               Judul     Jenis\n",
              "0  penyebab wanita gagal raih orgasme saat bercin...    health\n",
              "1  potret perayaan ulang tahun okie agustina ke  ...       hot\n",
              "3  ternyata pihak pihak ini yang disebut punya bi...    crypto\n",
              "4  rekomendasi film film seru di bioskop sepanjan...  regional\n",
              "5  manfaat sholat istikharah tata cara niat doa d...  regional"
            ]
          },
          "execution_count": 104,
          "metadata": {},
          "output_type": "execute_result"
        }
      ],
      "source": [
        "# menghilangkan karakter special dan numerik\n",
        "df['Judul'] = df['Judul'].str.replace('\\d*', '')\n",
        "df['Judul'] = df['Judul'].str.replace('[^\\w\\s]', ' ')\n",
        "df['Judul'] = df['Judul'].str.strip()\n",
        "df.head()"
      ]
    },
    {
      "cell_type": "markdown",
      "id": "3b6039e3",
      "metadata": {},
      "source": [
        "# Tokenizing and Stemming"
      ]
    },
    {
      "cell_type": "code",
      "execution_count": 105,
      "id": "846b9307",
      "metadata": {},
      "outputs": [
        {
          "data": {
            "text/html": [
              "<div>\n",
              "<style scoped>\n",
              "    .dataframe tbody tr th:only-of-type {\n",
              "        vertical-align: middle;\n",
              "    }\n",
              "\n",
              "    .dataframe tbody tr th {\n",
              "        vertical-align: top;\n",
              "    }\n",
              "\n",
              "    .dataframe thead th {\n",
              "        text-align: right;\n",
              "    }\n",
              "</style>\n",
              "<table border=\"1\" class=\"dataframe\">\n",
              "  <thead>\n",
              "    <tr style=\"text-align: right;\">\n",
              "      <th></th>\n",
              "      <th>Judul</th>\n",
              "      <th>Jenis</th>\n",
              "    </tr>\n",
              "  </thead>\n",
              "  <tbody>\n",
              "    <tr>\n",
              "      <th>0</th>\n",
              "      <td>sebab wanita gagal raih orgasme cinta salah sa...</td>\n",
              "      <td>health</td>\n",
              "    </tr>\n",
              "    <tr>\n",
              "      <th>1</th>\n",
              "      <td>potret raya ulang tahun okie agustina rias bik...</td>\n",
              "      <td>hot</td>\n",
              "    </tr>\n",
              "    <tr>\n",
              "      <th>3</th>\n",
              "      <td>nyata pihak pihak yang sebut punya bitcoin ban...</td>\n",
              "      <td>crypto</td>\n",
              "    </tr>\n",
              "    <tr>\n",
              "      <th>4</th>\n",
              "      <td>rekomendasi film film seru bioskop panjang sep...</td>\n",
              "      <td>regional</td>\n",
              "    </tr>\n",
              "    <tr>\n",
              "      <th>5</th>\n",
              "      <td>manfaat sholat istikharah tata cara niat doa w...</td>\n",
              "      <td>regional</td>\n",
              "    </tr>\n",
              "  </tbody>\n",
              "</table>\n",
              "</div>"
            ],
            "text/plain": [
              "                                               Judul     Jenis\n",
              "0  sebab wanita gagal raih orgasme cinta salah sa...    health\n",
              "1  potret raya ulang tahun okie agustina rias bik...       hot\n",
              "3  nyata pihak pihak yang sebut punya bitcoin ban...    crypto\n",
              "4  rekomendasi film film seru bioskop panjang sep...  regional\n",
              "5  manfaat sholat istikharah tata cara niat doa w...  regional"
            ]
          },
          "execution_count": 105,
          "metadata": {},
          "output_type": "execute_result"
        }
      ],
      "source": [
        "# stemming and tokenizing function to sastrawati\n",
        "def funSastrawati(val):\n",
        "    stop_factory = ArrayDictionary(StopWordRemoverFactory().get_stop_words())\n",
        "    str = StopWordRemover(stop_factory)\n",
        "    factory = StemmerFactory()\n",
        "    stemmer = factory.create_stemmer()\n",
        "    word = stemmer.stem(str.remove(val))\n",
        "    return word\n",
        "# Apply stemming and tokenizing\n",
        "df['Judul'] = df['Judul'].apply(funSastrawati)\n",
        "df.head()"
      ]
    },
    {
      "cell_type": "code",
      "execution_count": 106,
      "id": "c2661696",
      "metadata": {},
      "outputs": [
        {
          "data": {
            "text/plain": [
              "Judul      string\n",
              "Jenis    category\n",
              "dtype: object"
            ]
          },
          "execution_count": 106,
          "metadata": {},
          "output_type": "execute_result"
        }
      ],
      "source": [
        "df['Judul'] = df['Judul'].astype('string')\n",
        "df['Jenis'] = df['Jenis'].astype('category')\n",
        "df.dtypes"
      ]
    },
    {
      "cell_type": "code",
      "execution_count": 107,
      "id": "b65eb4a9",
      "metadata": {},
      "outputs": [],
      "source": [
        "df.to_csv(r'P:\\UKDC\\Kapital Selekta\\program\\clean.csv', index=False, header=True)"
      ]
    },
    {
      "cell_type": "code",
      "execution_count": 108,
      "id": "66863c5f",
      "metadata": {},
      "outputs": [
        {
          "data": {
            "text/plain": [
              "hot          416\n",
              "citizen6     283\n",
              "bisnis       192\n",
              "health       172\n",
              "global       158\n",
              "showbiz      128\n",
              "lifestyle    106\n",
              "bola          93\n",
              "tekno         75\n",
              "regional      68\n",
              "news          67\n",
              "kabar         63\n",
              "islami        58\n",
              "otomotif      35\n",
              "fashion       22\n",
              "crypto        15\n",
              "surabaya      10\n",
              "Name: Jenis, dtype: int64"
            ]
          },
          "execution_count": 108,
          "metadata": {},
          "output_type": "execute_result"
        }
      ],
      "source": [
        "# Mengetahui jumlah jenis berita\n",
        "df['Jenis'].value_counts()"
      ]
    },
    {
      "cell_type": "code",
      "execution_count": 109,
      "id": "ebf79654",
      "metadata": {},
      "outputs": [
        {
          "data": {
            "text/html": [
              "<div>\n",
              "<style scoped>\n",
              "    .dataframe tbody tr th:only-of-type {\n",
              "        vertical-align: middle;\n",
              "    }\n",
              "\n",
              "    .dataframe tbody tr th {\n",
              "        vertical-align: top;\n",
              "    }\n",
              "\n",
              "    .dataframe thead th {\n",
              "        text-align: right;\n",
              "    }\n",
              "</style>\n",
              "<table border=\"1\" class=\"dataframe\">\n",
              "  <thead>\n",
              "    <tr style=\"text-align: right;\">\n",
              "      <th></th>\n",
              "      <th>Judul</th>\n",
              "      <th>Jenis</th>\n",
              "      <th>Label</th>\n",
              "    </tr>\n",
              "  </thead>\n",
              "  <tbody>\n",
              "    <tr>\n",
              "      <th>0</th>\n",
              "      <td>sebab wanita gagal raih orgasme cinta salah sa...</td>\n",
              "      <td>health</td>\n",
              "      <td>3</td>\n",
              "    </tr>\n",
              "    <tr>\n",
              "      <th>1</th>\n",
              "      <td>potret raya ulang tahun okie agustina rias bik...</td>\n",
              "      <td>hot</td>\n",
              "      <td>0</td>\n",
              "    </tr>\n",
              "    <tr>\n",
              "      <th>3</th>\n",
              "      <td>nyata pihak pihak yang sebut punya bitcoin ban...</td>\n",
              "      <td>crypto</td>\n",
              "      <td>15</td>\n",
              "    </tr>\n",
              "    <tr>\n",
              "      <th>4</th>\n",
              "      <td>rekomendasi film film seru bioskop panjang sep...</td>\n",
              "      <td>regional</td>\n",
              "      <td>9</td>\n",
              "    </tr>\n",
              "    <tr>\n",
              "      <th>5</th>\n",
              "      <td>manfaat sholat istikharah tata cara niat doa w...</td>\n",
              "      <td>regional</td>\n",
              "      <td>9</td>\n",
              "    </tr>\n",
              "  </tbody>\n",
              "</table>\n",
              "</div>"
            ],
            "text/plain": [
              "                                               Judul     Jenis Label\n",
              "0  sebab wanita gagal raih orgasme cinta salah sa...    health     3\n",
              "1  potret raya ulang tahun okie agustina rias bik...       hot     0\n",
              "3  nyata pihak pihak yang sebut punya bitcoin ban...    crypto    15\n",
              "4  rekomendasi film film seru bioskop panjang sep...  regional     9\n",
              "5  manfaat sholat istikharah tata cara niat doa w...  regional     9"
            ]
          },
          "execution_count": 109,
          "metadata": {},
          "output_type": "execute_result"
        }
      ],
      "source": [
        "df['Label'] = df['Jenis'].map({\n",
        "    'hot' : 0,\n",
        "    'citizen6' : 1,\n",
        "    'bisnis' : 2,\n",
        "    'health' : 3,\n",
        "    'global' : 4,\n",
        "    'showbiz' : 5,\n",
        "    'lifestyle' : 6,\n",
        "    'bola' : 7,\n",
        "    'tekno' : 8,\n",
        "    'regional' : 9,\n",
        "    'news' : 10,\n",
        "    'kabar' : 11,\n",
        "    'islami' : 12,\n",
        "    'otomotif' : 13,\n",
        "    'fashion' : 14,\n",
        "    'crypto' : 15,\n",
        "    'surabaya' : 16,\n",
        "})\n",
        "df.head()"
      ]
    },
    {
      "cell_type": "code",
      "execution_count": 110,
      "id": "60b1ca28",
      "metadata": {},
      "outputs": [],
      "source": [
        "# Spliting data (pemodelan)\n",
        "\n",
        "X_train, X_test, y_train, y_test = train_test_split(df['Judul'].values, df['Label'].values, test_size=0.2, random_state = 42, stratify=df['Label'].values)"
      ]
    },
    {
      "cell_type": "markdown",
      "id": "08d464fc",
      "metadata": {},
      "source": [
        "# TF-IDF"
      ]
    },
    {
      "cell_type": "code",
      "execution_count": 111,
      "id": "1c657dac",
      "metadata": {},
      "outputs": [],
      "source": [
        "# tf-idf\n",
        "tf = TfidfVectorizer()\n",
        "tfidf_train = tf.fit_transform(X_train)\n",
        "tfidf_test = tf.transform(X_test)\n"
      ]
    },
    {
      "cell_type": "markdown",
      "id": "9951b499",
      "metadata": {},
      "source": [
        "# KNN"
      ]
    },
    {
      "cell_type": "code",
      "execution_count": 112,
      "id": "37837708",
      "metadata": {},
      "outputs": [
        {
          "data": {
            "text/html": [
              "<style>#sk-container-id-5 {color: black;background-color: white;}#sk-container-id-5 pre{padding: 0;}#sk-container-id-5 div.sk-toggleable {background-color: white;}#sk-container-id-5 label.sk-toggleable__label {cursor: pointer;display: block;width: 100%;margin-bottom: 0;padding: 0.3em;box-sizing: border-box;text-align: center;}#sk-container-id-5 label.sk-toggleable__label-arrow:before {content: \"▸\";float: left;margin-right: 0.25em;color: #696969;}#sk-container-id-5 label.sk-toggleable__label-arrow:hover:before {color: black;}#sk-container-id-5 div.sk-estimator:hover label.sk-toggleable__label-arrow:before {color: black;}#sk-container-id-5 div.sk-toggleable__content {max-height: 0;max-width: 0;overflow: hidden;text-align: left;background-color: #f0f8ff;}#sk-container-id-5 div.sk-toggleable__content pre {margin: 0.2em;color: black;border-radius: 0.25em;background-color: #f0f8ff;}#sk-container-id-5 input.sk-toggleable__control:checked~div.sk-toggleable__content {max-height: 200px;max-width: 100%;overflow: auto;}#sk-container-id-5 input.sk-toggleable__control:checked~label.sk-toggleable__label-arrow:before {content: \"▾\";}#sk-container-id-5 div.sk-estimator input.sk-toggleable__control:checked~label.sk-toggleable__label {background-color: #d4ebff;}#sk-container-id-5 div.sk-label input.sk-toggleable__control:checked~label.sk-toggleable__label {background-color: #d4ebff;}#sk-container-id-5 input.sk-hidden--visually {border: 0;clip: rect(1px 1px 1px 1px);clip: rect(1px, 1px, 1px, 1px);height: 1px;margin: -1px;overflow: hidden;padding: 0;position: absolute;width: 1px;}#sk-container-id-5 div.sk-estimator {font-family: monospace;background-color: #f0f8ff;border: 1px dotted black;border-radius: 0.25em;box-sizing: border-box;margin-bottom: 0.5em;}#sk-container-id-5 div.sk-estimator:hover {background-color: #d4ebff;}#sk-container-id-5 div.sk-parallel-item::after {content: \"\";width: 100%;border-bottom: 1px solid gray;flex-grow: 1;}#sk-container-id-5 div.sk-label:hover label.sk-toggleable__label {background-color: #d4ebff;}#sk-container-id-5 div.sk-serial::before {content: \"\";position: absolute;border-left: 1px solid gray;box-sizing: border-box;top: 0;bottom: 0;left: 50%;z-index: 0;}#sk-container-id-5 div.sk-serial {display: flex;flex-direction: column;align-items: center;background-color: white;padding-right: 0.2em;padding-left: 0.2em;position: relative;}#sk-container-id-5 div.sk-item {position: relative;z-index: 1;}#sk-container-id-5 div.sk-parallel {display: flex;align-items: stretch;justify-content: center;background-color: white;position: relative;}#sk-container-id-5 div.sk-item::before, #sk-container-id-5 div.sk-parallel-item::before {content: \"\";position: absolute;border-left: 1px solid gray;box-sizing: border-box;top: 0;bottom: 0;left: 50%;z-index: -1;}#sk-container-id-5 div.sk-parallel-item {display: flex;flex-direction: column;z-index: 1;position: relative;background-color: white;}#sk-container-id-5 div.sk-parallel-item:first-child::after {align-self: flex-end;width: 50%;}#sk-container-id-5 div.sk-parallel-item:last-child::after {align-self: flex-start;width: 50%;}#sk-container-id-5 div.sk-parallel-item:only-child::after {width: 0;}#sk-container-id-5 div.sk-dashed-wrapped {border: 1px dashed gray;margin: 0 0.4em 0.5em 0.4em;box-sizing: border-box;padding-bottom: 0.4em;background-color: white;}#sk-container-id-5 div.sk-label label {font-family: monospace;font-weight: bold;display: inline-block;line-height: 1.2em;}#sk-container-id-5 div.sk-label-container {text-align: center;}#sk-container-id-5 div.sk-container {/* jupyter's `normalize.less` sets `[hidden] { display: none; }` but bootstrap.min.css set `[hidden] { display: none !important; }` so we also need the `!important` here to be able to override the default hidden behavior on the sphinx rendered scikit-learn.org. See: https://github.com/scikit-learn/scikit-learn/issues/21755 */display: inline-block !important;position: relative;}#sk-container-id-5 div.sk-text-repr-fallback {display: none;}</style><div id=\"sk-container-id-5\" class=\"sk-top-container\"><div class=\"sk-text-repr-fallback\"><pre>KNeighborsClassifier(n_neighbors=3, weights=&#x27;distance&#x27;)</pre><b>In a Jupyter environment, please rerun this cell to show the HTML representation or trust the notebook. <br />On GitHub, the HTML representation is unable to render, please try loading this page with nbviewer.org.</b></div><div class=\"sk-container\" hidden><div class=\"sk-item\"><div class=\"sk-estimator sk-toggleable\"><input class=\"sk-toggleable__control sk-hidden--visually\" id=\"sk-estimator-id-5\" type=\"checkbox\" checked><label for=\"sk-estimator-id-5\" class=\"sk-toggleable__label sk-toggleable__label-arrow\">KNeighborsClassifier</label><div class=\"sk-toggleable__content\"><pre>KNeighborsClassifier(n_neighbors=3, weights=&#x27;distance&#x27;)</pre></div></div></div></div></div>"
            ],
            "text/plain": [
              "KNeighborsClassifier(n_neighbors=3, weights='distance')"
            ]
          },
          "execution_count": 112,
          "metadata": {},
          "output_type": "execute_result"
        }
      ],
      "source": [
        "# implementasi data train kedalam KNN\n",
        "modelknn = KNeighborsClassifier(n_neighbors=3, weights='distance')\n",
        "modelknn.fit(tfidf_train,y_train)"
      ]
    },
    {
      "cell_type": "code",
      "execution_count": 113,
      "id": "792c7b3d",
      "metadata": {},
      "outputs": [
        {
          "name": "stdout",
          "output_type": "stream",
          "text": [
            "              precision    recall  f1-score   support\n",
            "\n",
            "           0       0.56      0.58      0.57        83\n",
            "           1       0.23      0.26      0.24        57\n",
            "           2       0.58      0.50      0.54        38\n",
            "           3       0.32      0.35      0.33        34\n",
            "           4       0.24      0.19      0.21        32\n",
            "           5       0.47      0.54      0.50        26\n",
            "           6       0.16      0.19      0.17        21\n",
            "           7       0.56      0.79      0.65        19\n",
            "           8       0.59      0.67      0.62        15\n",
            "           9       0.12      0.07      0.09        14\n",
            "          10       0.50      0.31      0.38        13\n",
            "          11       0.71      0.92      0.80        13\n",
            "          12       0.38      0.25      0.30        12\n",
            "          13       0.00      0.00      0.00         7\n",
            "          14       0.00      0.00      0.00         4\n",
            "          15       1.00      0.67      0.80         3\n",
            "          16       0.00      0.00      0.00         2\n",
            "\n",
            "    accuracy                           0.42       393\n",
            "   macro avg       0.38      0.37      0.37       393\n",
            "weighted avg       0.41      0.42      0.41       393\n",
            "\n"
          ]
        },
        {
          "name": "stderr",
          "output_type": "stream",
          "text": [
            "C:\\Users\\AKU\\AppData\\Roaming\\Python\\Python310\\site-packages\\sklearn\\metrics\\_classification.py:1334: UndefinedMetricWarning: Precision and F-score are ill-defined and being set to 0.0 in labels with no predicted samples. Use `zero_division` parameter to control this behavior.\n",
            "  _warn_prf(average, modifier, msg_start, len(result))\n",
            "C:\\Users\\AKU\\AppData\\Roaming\\Python\\Python310\\site-packages\\sklearn\\metrics\\_classification.py:1334: UndefinedMetricWarning: Precision and F-score are ill-defined and being set to 0.0 in labels with no predicted samples. Use `zero_division` parameter to control this behavior.\n",
            "  _warn_prf(average, modifier, msg_start, len(result))\n",
            "C:\\Users\\AKU\\AppData\\Roaming\\Python\\Python310\\site-packages\\sklearn\\metrics\\_classification.py:1334: UndefinedMetricWarning: Precision and F-score are ill-defined and being set to 0.0 in labels with no predicted samples. Use `zero_division` parameter to control this behavior.\n",
            "  _warn_prf(average, modifier, msg_start, len(result))\n"
          ]
        }
      ],
      "source": [
        "# melakuakan test KNN\n",
        "y_pred = modelknn.predict(tfidf_test)\n",
        "print(classification_report(y_test,y_pred))"
      ]
    },
    {
      "cell_type": "code",
      "execution_count": 114,
      "id": "07cacbb5",
      "metadata": {},
      "outputs": [
        {
          "data": {
            "text/plain": [
              "<StringArray>\n",
              "['mau buka usaha bimbel modal nol rupiah yuk ikut langkah',\n",
              "      'bintang piala dunia follower banyak medsos favorit',\n",
              "   'adu musikalitas tren genre musik band ajar yogyakarta',\n",
              "   'cara dapat set top box stb tv digital gratis perintah',\n",
              "                                   'beda pria sunat tidak']\n",
              "Length: 5, dtype: string"
            ]
          },
          "execution_count": 114,
          "metadata": {},
          "output_type": "execute_result"
        }
      ],
      "source": [
        "X_test[:5]"
      ]
    },
    {
      "cell_type": "code",
      "execution_count": 115,
      "id": "102bf512",
      "metadata": {},
      "outputs": [
        {
          "data": {
            "text/plain": [
              "array([2, 7, 0, 8, 1], dtype=int64)"
            ]
          },
          "execution_count": 115,
          "metadata": {},
          "output_type": "execute_result"
        }
      ],
      "source": [
        "y_pred[:5]"
      ]
    },
    {
      "cell_type": "markdown",
      "id": "ea9a72b2",
      "metadata": {},
      "source": [
        "# Test Sample"
      ]
    },
    {
      "cell_type": "code",
      "execution_count": 116,
      "id": "53797d2c",
      "metadata": {},
      "outputs": [
        {
          "data": {
            "text/html": [
              "<div>\n",
              "<style scoped>\n",
              "    .dataframe tbody tr th:only-of-type {\n",
              "        vertical-align: middle;\n",
              "    }\n",
              "\n",
              "    .dataframe tbody tr th {\n",
              "        vertical-align: top;\n",
              "    }\n",
              "\n",
              "    .dataframe thead th {\n",
              "        text-align: right;\n",
              "    }\n",
              "</style>\n",
              "<table border=\"1\" class=\"dataframe\">\n",
              "  <thead>\n",
              "    <tr style=\"text-align: right;\">\n",
              "      <th></th>\n",
              "      <th>Judul</th>\n",
              "    </tr>\n",
              "  </thead>\n",
              "  <tbody>\n",
              "    <tr>\n",
              "      <th>0</th>\n",
              "      <td>Berikut adalah potret para pemenang yang berha...</td>\n",
              "    </tr>\n",
              "    <tr>\n",
              "      <th>1</th>\n",
              "      <td>Selain Sandrinna Michelle masih ada sembilan p...</td>\n",
              "    </tr>\n",
              "    <tr>\n",
              "      <th>2</th>\n",
              "      <td>Berikut ini daftar pemenang SCTV Awards 2022 l...</td>\n",
              "    </tr>\n",
              "    <tr>\n",
              "      <th>3</th>\n",
              "      <td>Berikutini Link Live Streaming SCTV Awards 202...</td>\n",
              "    </tr>\n",
              "    <tr>\n",
              "      <th>4</th>\n",
              "      <td>SCTV award 2022 menganugerahkan aktor Cinta Br...</td>\n",
              "    </tr>\n",
              "  </tbody>\n",
              "</table>\n",
              "</div>"
            ],
            "text/plain": [
              "                                               Judul\n",
              "0  Berikut adalah potret para pemenang yang berha...\n",
              "1  Selain Sandrinna Michelle masih ada sembilan p...\n",
              "2  Berikut ini daftar pemenang SCTV Awards 2022 l...\n",
              "3  Berikutini Link Live Streaming SCTV Awards 202...\n",
              "4  SCTV award 2022 menganugerahkan aktor Cinta Br..."
            ]
          },
          "execution_count": 116,
          "metadata": {},
          "output_type": "execute_result"
        }
      ],
      "source": [
        "test = pd.read_csv(\"train.csv\")\n",
        "test.head()"
      ]
    },
    {
      "cell_type": "code",
      "execution_count": 117,
      "id": "8b77cf98",
      "metadata": {},
      "outputs": [
        {
          "name": "stderr",
          "output_type": "stream",
          "text": [
            "C:\\Users\\AKU\\AppData\\Local\\Temp\\ipykernel_6244\\1742386158.py:2: FutureWarning: The default value of regex will change from True to False in a future version.\n",
            "  test['Judul'] = test['Judul'].str.replace('\\d*', '')\n",
            "C:\\Users\\AKU\\AppData\\Local\\Temp\\ipykernel_6244\\1742386158.py:3: FutureWarning: The default value of regex will change from True to False in a future version.\n",
            "  test['Judul'] = test['Judul'].str.replace('[^\\w\\s]', ' ')\n"
          ]
        },
        {
          "data": {
            "text/html": [
              "<div>\n",
              "<style scoped>\n",
              "    .dataframe tbody tr th:only-of-type {\n",
              "        vertical-align: middle;\n",
              "    }\n",
              "\n",
              "    .dataframe tbody tr th {\n",
              "        vertical-align: top;\n",
              "    }\n",
              "\n",
              "    .dataframe thead th {\n",
              "        text-align: right;\n",
              "    }\n",
              "</style>\n",
              "<table border=\"1\" class=\"dataframe\">\n",
              "  <thead>\n",
              "    <tr style=\"text-align: right;\">\n",
              "      <th></th>\n",
              "      <th>Judul</th>\n",
              "    </tr>\n",
              "  </thead>\n",
              "  <tbody>\n",
              "    <tr>\n",
              "      <th>0</th>\n",
              "      <td>ikut potret menang hasil abadi tim kapanlagi c...</td>\n",
              "    </tr>\n",
              "    <tr>\n",
              "      <th>1</th>\n",
              "      <td>selain sandrinna michelle ada sembilan menang ...</td>\n",
              "    </tr>\n",
              "    <tr>\n",
              "      <th>2</th>\n",
              "      <td>ikut daftar menang sctv awards lengkap kategor...</td>\n",
              "    </tr>\n",
              "    <tr>\n",
              "      <th>3</th>\n",
              "      <td>berikutini link live streaming sctv awards tay...</td>\n",
              "    </tr>\n",
              "    <tr>\n",
              "      <th>4</th>\n",
              "      <td>sctv award anugerah aktor cinta brian aktor ut...</td>\n",
              "    </tr>\n",
              "  </tbody>\n",
              "</table>\n",
              "</div>"
            ],
            "text/plain": [
              "                                               Judul\n",
              "0  ikut potret menang hasil abadi tim kapanlagi c...\n",
              "1  selain sandrinna michelle ada sembilan menang ...\n",
              "2  ikut daftar menang sctv awards lengkap kategor...\n",
              "3  berikutini link live streaming sctv awards tay...\n",
              "4  sctv award anugerah aktor cinta brian aktor ut..."
            ]
          },
          "execution_count": 117,
          "metadata": {},
          "output_type": "execute_result"
        }
      ],
      "source": [
        "# menghilangkan karakter special dan numerik\n",
        "test['Judul'] = test['Judul'].str.replace('\\d*', '')\n",
        "test['Judul'] = test['Judul'].str.replace('[^\\w\\s]', ' ')\n",
        "test['Judul'] = test['Judul'].str.strip()\n",
        "\n",
        "# Apply stemming and tokenizing\n",
        "test['Judul'] = test['Judul'].apply(funSastrawati)\n",
        "test.head()"
      ]
    },
    {
      "cell_type": "code",
      "execution_count": 118,
      "id": "2f1c889c",
      "metadata": {},
      "outputs": [
        {
          "data": {
            "text/html": [
              "<div>\n",
              "<style scoped>\n",
              "    .dataframe tbody tr th:only-of-type {\n",
              "        vertical-align: middle;\n",
              "    }\n",
              "\n",
              "    .dataframe tbody tr th {\n",
              "        vertical-align: top;\n",
              "    }\n",
              "\n",
              "    .dataframe thead th {\n",
              "        text-align: right;\n",
              "    }\n",
              "</style>\n",
              "<table border=\"1\" class=\"dataframe\">\n",
              "  <thead>\n",
              "    <tr style=\"text-align: right;\">\n",
              "      <th></th>\n",
              "      <th>Judul</th>\n",
              "      <th>Jenis</th>\n",
              "    </tr>\n",
              "  </thead>\n",
              "  <tbody>\n",
              "    <tr>\n",
              "      <th>0</th>\n",
              "      <td>ikut potret menang hasil abadi tim kapanlagi c...</td>\n",
              "      <td>bola</td>\n",
              "    </tr>\n",
              "    <tr>\n",
              "      <th>1</th>\n",
              "      <td>selain sandrinna michelle ada sembilan menang ...</td>\n",
              "      <td>hot</td>\n",
              "    </tr>\n",
              "    <tr>\n",
              "      <th>2</th>\n",
              "      <td>ikut daftar menang sctv awards lengkap kategor...</td>\n",
              "      <td>regional</td>\n",
              "    </tr>\n",
              "    <tr>\n",
              "      <th>3</th>\n",
              "      <td>berikutini link live streaming sctv awards tay...</td>\n",
              "      <td>showbiz</td>\n",
              "    </tr>\n",
              "    <tr>\n",
              "      <th>4</th>\n",
              "      <td>sctv award anugerah aktor cinta brian aktor ut...</td>\n",
              "      <td>showbiz</td>\n",
              "    </tr>\n",
              "    <tr>\n",
              "      <th>...</th>\n",
              "      <td>...</td>\n",
              "      <td>...</td>\n",
              "    </tr>\n",
              "    <tr>\n",
              "      <th>126</th>\n",
              "      <td>dramatis marseille curi poin kandang as monaco...</td>\n",
              "      <td>bola</td>\n",
              "    </tr>\n",
              "    <tr>\n",
              "      <th>127</th>\n",
              "      <td>sead kolasinac buat marseille curi tiga poin k...</td>\n",
              "      <td>lifestyle</td>\n",
              "    </tr>\n",
              "    <tr>\n",
              "      <th>128</th>\n",
              "      <td>jakarta gol menit akhir sead kolasinac bawa ma...</td>\n",
              "      <td>global</td>\n",
              "    </tr>\n",
              "    <tr>\n",
              "      <th>129</th>\n",
              "      <td>marseille hadap as monaco tanding ligue stade ...</td>\n",
              "      <td>news</td>\n",
              "    </tr>\n",
              "    <tr>\n",
              "      <th>130</th>\n",
              "      <td>ac mil hasil kalah fiorentina berkat gol rafae...</td>\n",
              "      <td>bola</td>\n",
              "    </tr>\n",
              "  </tbody>\n",
              "</table>\n",
              "<p>131 rows × 2 columns</p>\n",
              "</div>"
            ],
            "text/plain": [
              "                                                 Judul      Jenis\n",
              "0    ikut potret menang hasil abadi tim kapanlagi c...       bola\n",
              "1    selain sandrinna michelle ada sembilan menang ...        hot\n",
              "2    ikut daftar menang sctv awards lengkap kategor...   regional\n",
              "3    berikutini link live streaming sctv awards tay...    showbiz\n",
              "4    sctv award anugerah aktor cinta brian aktor ut...    showbiz\n",
              "..                                                 ...        ...\n",
              "126  dramatis marseille curi poin kandang as monaco...       bola\n",
              "127  sead kolasinac buat marseille curi tiga poin k...  lifestyle\n",
              "128  jakarta gol menit akhir sead kolasinac bawa ma...     global\n",
              "129  marseille hadap as monaco tanding ligue stade ...       news\n",
              "130  ac mil hasil kalah fiorentina berkat gol rafae...       bola\n",
              "\n",
              "[131 rows x 2 columns]"
            ]
          },
          "execution_count": 118,
          "metadata": {},
          "output_type": "execute_result"
        }
      ],
      "source": [
        "# prediksi berita\n",
        "prediksi = modelknn.predict(tf.transform(test['Judul'].values))\n",
        "test['Jenis'] = prediksi\n",
        "test['Jenis'] = test['Jenis'].map({\n",
        "    0 : 'hot',\n",
        "    1 : 'citizen6',\n",
        "    2 : 'bisnis',\n",
        "    3 : 'health',\n",
        "    4 : 'global',\n",
        "    5 : 'showbiz',\n",
        "    6 : 'lifestyle',\n",
        "    7 : 'bola',\n",
        "    8 : 'tekno',\n",
        "    9 : 'regional',\n",
        "    10 : 'news',\n",
        "    11 : 'kabar',\n",
        "    12 : 'islami',\n",
        "    13 : 'otomotif',\n",
        "    14 : 'fashion',\n",
        "    15 : 'crypto',\n",
        "    16 : 'surabaya',\n",
        "})\n",
        "test"
      ]
    },
    {
      "cell_type": "code",
      "execution_count": 119,
      "id": "29d48e04",
      "metadata": {},
      "outputs": [],
      "source": [
        "test.to_csv(r'P:\\UKDC\\Kapital Selekta\\program\\result.csv', index=False, header=True)"
      ]
    }
  ],
  "metadata": {
    "colab": {
      "provenance": []
    },
    "kernelspec": {
      "display_name": "Python 3.10.2 64-bit",
      "language": "python",
      "name": "python3"
    },
    "language_info": {
      "codemirror_mode": {
        "name": "ipython",
        "version": 3
      },
      "file_extension": ".py",
      "mimetype": "text/x-python",
      "name": "python",
      "nbconvert_exporter": "python",
      "pygments_lexer": "ipython3",
      "version": "3.10.2"
    },
    "vscode": {
      "interpreter": {
        "hash": "26de051ba29f2982a8de78e945f0abaf191376122a1563185a90213a26c5da77"
      }
    }
  },
  "nbformat": 4,
  "nbformat_minor": 5
}
