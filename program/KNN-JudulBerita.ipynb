{
  "cells": [
    {
      "cell_type": "markdown",
      "id": "f6d8f9fa",
      "metadata": {},
      "source": [
        "# Liputan 6\n",
        "## Klasifikasi jenis berita berdasarkan judul"
      ]
    },
    {
      "cell_type": "code",
      "execution_count": 1,
      "id": "c0bc7ec7",
      "metadata": {},
      "outputs": [
        {
          "name": "stdout",
          "output_type": "stream",
          "text": [
            "Defaulting to user installation because normal site-packages is not writeable\n",
            "Requirement already satisfied: pandas in c:\\users\\aku\\appdata\\roaming\\python\\python310\\site-packages (1.5.1)\n",
            "Requirement already satisfied: python-dateutil>=2.8.1 in c:\\users\\aku\\appdata\\roaming\\python\\python310\\site-packages (from pandas) (2.8.2)\n",
            "Requirement already satisfied: numpy>=1.21.0 in c:\\users\\aku\\appdata\\roaming\\python\\python310\\site-packages (from pandas) (1.23.4)\n",
            "Requirement already satisfied: pytz>=2020.1 in c:\\users\\aku\\appdata\\roaming\\python\\python310\\site-packages (from pandas) (2022.5)\n",
            "Requirement already satisfied: six>=1.5 in c:\\users\\aku\\appdata\\roaming\\python\\python310\\site-packages (from python-dateutil>=2.8.1->pandas) (1.16.0)\n",
            "Defaulting to user installation because normal site-packages is not writeable\n",
            "Requirement already satisfied: numpy in c:\\users\\aku\\appdata\\roaming\\python\\python310\\site-packages (1.23.4)\n",
            "Defaulting to user installation because normal site-packages is not writeable\n",
            "Requirement already satisfied: nltk in c:\\users\\aku\\appdata\\roaming\\python\\python310\\site-packages (3.7)\n",
            "Requirement already satisfied: joblib in c:\\users\\aku\\appdata\\roaming\\python\\python310\\site-packages (from nltk) (1.2.0)\n",
            "Requirement already satisfied: tqdm in c:\\users\\aku\\appdata\\roaming\\python\\python310\\site-packages (from nltk) (4.64.1)\n",
            "Requirement already satisfied: click in c:\\users\\aku\\appdata\\roaming\\python\\python310\\site-packages (from nltk) (8.1.3)\n",
            "Requirement already satisfied: regex>=2021.8.3 in c:\\users\\aku\\appdata\\roaming\\python\\python310\\site-packages (from nltk) (2022.10.31)\n",
            "Requirement already satisfied: colorama in c:\\users\\aku\\appdata\\roaming\\python\\python310\\site-packages (from click->nltk) (0.4.5)\n",
            "Defaulting to user installation because normal site-packages is not writeable\n",
            "Requirement already satisfied: Sastrawi in c:\\users\\aku\\appdata\\roaming\\python\\python310\\site-packages (1.0.1)\n",
            "Defaulting to user installation because normal site-packages is not writeable\n",
            "Requirement already satisfied: sklearn in c:\\users\\aku\\appdata\\roaming\\python\\python310\\site-packages (0.0.post1)\n"
          ]
        }
      ],
      "source": [
        "# install libarary\n",
        "! pip install pandas\n",
        "! pip install numpy\n",
        "! pip install nltk\n",
        "! pip install Sastrawi\n",
        "! pip install sklearn\n"
      ]
    },
    {
      "cell_type": "code",
      "execution_count": 73,
      "id": "55ec4964",
      "metadata": {
        "id": "55ec4964"
      },
      "outputs": [],
      "source": [
        "# import library\n",
        "\n",
        "import pandas as pd\n",
        "import numpy as np\n",
        "from nltk.tokenize import word_tokenize\n",
        "from nltk.tokenize import sent_tokenize\n",
        "from Sastrawi.Stemmer.StemmerFactory import StemmerFactory\n",
        "from Sastrawi.StopWordRemover.StopWordRemoverFactory import StopWordRemoverFactory, StopWordRemover, ArrayDictionary\n",
        "from sklearn.feature_extraction.text import TfidfVectorizer\n",
        "from sklearn.metrics import confusion_matrix, classification_report\n",
        "from sklearn.model_selection import train_test_split\n",
        "from sklearn.linear_model import SGDClassifier\n",
        "# nltk.download()"
      ]
    },
    {
      "cell_type": "code",
      "execution_count": 3,
      "id": "7fde0acf",
      "metadata": {
        "id": "7fde0acf",
        "outputId": "c7370cc9-5817-47e9-b78f-74e65699861b"
      },
      "outputs": [
        {
          "data": {
            "text/html": [
              "<div>\n",
              "<style scoped>\n",
              "    .dataframe tbody tr th:only-of-type {\n",
              "        vertical-align: middle;\n",
              "    }\n",
              "\n",
              "    .dataframe tbody tr th {\n",
              "        vertical-align: top;\n",
              "    }\n",
              "\n",
              "    .dataframe thead th {\n",
              "        text-align: right;\n",
              "    }\n",
              "</style>\n",
              "<table border=\"1\" class=\"dataframe\">\n",
              "  <thead>\n",
              "    <tr style=\"text-align: right;\">\n",
              "      <th></th>\n",
              "      <th>Judul</th>\n",
              "      <th>Jenis</th>\n",
              "      <th>User Aktif</th>\n",
              "    </tr>\n",
              "  </thead>\n",
              "  <tbody>\n",
              "    <tr>\n",
              "      <th>0</th>\n",
              "      <td>Wajah Istri Sultan Kelantan yang Pernah Bersen...</td>\n",
              "      <td>Lifestyle</td>\n",
              "      <td>7</td>\n",
              "    </tr>\n",
              "    <tr>\n",
              "      <th>1</th>\n",
              "      <td>Nonton Video Porno Bareng Pasangan Beri Dampak...</td>\n",
              "      <td>Health</td>\n",
              "      <td>7</td>\n",
              "    </tr>\n",
              "    <tr>\n",
              "      <th>2</th>\n",
              "      <td>Cuek dengan Isu Perselingkuhan Behati Prinsloo...</td>\n",
              "      <td>Health</td>\n",
              "      <td>5</td>\n",
              "    </tr>\n",
              "    <tr>\n",
              "      <th>3</th>\n",
              "      <td>Skrining Hormon Tiroid pada Bayi Baru Lahir Bi...</td>\n",
              "      <td>Health</td>\n",
              "      <td>5</td>\n",
              "    </tr>\n",
              "    <tr>\n",
              "      <th>4</th>\n",
              "      <td>Dibayangi Resesi Harga Emas Bakal Melambung di...</td>\n",
              "      <td>Bisnis</td>\n",
              "      <td>5</td>\n",
              "    </tr>\n",
              "  </tbody>\n",
              "</table>\n",
              "</div>"
            ],
            "text/plain": [
              "                                               Judul      Jenis  User Aktif\n",
              "0  Wajah Istri Sultan Kelantan yang Pernah Bersen...  Lifestyle           7\n",
              "1  Nonton Video Porno Bareng Pasangan Beri Dampak...     Health           7\n",
              "2  Cuek dengan Isu Perselingkuhan Behati Prinsloo...     Health           5\n",
              "3  Skrining Hormon Tiroid pada Bayi Baru Lahir Bi...     Health           5\n",
              "4  Dibayangi Resesi Harga Emas Bakal Melambung di...     Bisnis           5"
            ]
          },
          "execution_count": 3,
          "metadata": {},
          "output_type": "execute_result"
        }
      ],
      "source": [
        "# load data\n",
        "df = pd.read_csv(\"raw.csv\")\n",
        "df.head()"
      ]
    },
    {
      "cell_type": "code",
      "execution_count": 4,
      "id": "49ade5e9",
      "metadata": {
        "id": "49ade5e9"
      },
      "outputs": [
        {
          "data": {
            "text/html": [
              "<div>\n",
              "<style scoped>\n",
              "    .dataframe tbody tr th:only-of-type {\n",
              "        vertical-align: middle;\n",
              "    }\n",
              "\n",
              "    .dataframe tbody tr th {\n",
              "        vertical-align: top;\n",
              "    }\n",
              "\n",
              "    .dataframe thead th {\n",
              "        text-align: right;\n",
              "    }\n",
              "</style>\n",
              "<table border=\"1\" class=\"dataframe\">\n",
              "  <thead>\n",
              "    <tr style=\"text-align: right;\">\n",
              "      <th></th>\n",
              "      <th>Judul</th>\n",
              "      <th>Jenis</th>\n",
              "    </tr>\n",
              "  </thead>\n",
              "  <tbody>\n",
              "    <tr>\n",
              "      <th>0</th>\n",
              "      <td>Wajah Istri Sultan Kelantan yang Pernah Bersen...</td>\n",
              "      <td>Lifestyle</td>\n",
              "    </tr>\n",
              "    <tr>\n",
              "      <th>1</th>\n",
              "      <td>Nonton Video Porno Bareng Pasangan Beri Dampak...</td>\n",
              "      <td>Health</td>\n",
              "    </tr>\n",
              "    <tr>\n",
              "      <th>2</th>\n",
              "      <td>Cuek dengan Isu Perselingkuhan Behati Prinsloo...</td>\n",
              "      <td>Health</td>\n",
              "    </tr>\n",
              "    <tr>\n",
              "      <th>3</th>\n",
              "      <td>Skrining Hormon Tiroid pada Bayi Baru Lahir Bi...</td>\n",
              "      <td>Health</td>\n",
              "    </tr>\n",
              "    <tr>\n",
              "      <th>4</th>\n",
              "      <td>Dibayangi Resesi Harga Emas Bakal Melambung di...</td>\n",
              "      <td>Bisnis</td>\n",
              "    </tr>\n",
              "  </tbody>\n",
              "</table>\n",
              "</div>"
            ],
            "text/plain": [
              "                                               Judul      Jenis\n",
              "0  Wajah Istri Sultan Kelantan yang Pernah Bersen...  Lifestyle\n",
              "1  Nonton Video Porno Bareng Pasangan Beri Dampak...     Health\n",
              "2  Cuek dengan Isu Perselingkuhan Behati Prinsloo...     Health\n",
              "3  Skrining Hormon Tiroid pada Bayi Baru Lahir Bi...     Health\n",
              "4  Dibayangi Resesi Harga Emas Bakal Melambung di...     Bisnis"
            ]
          },
          "execution_count": 4,
          "metadata": {},
          "output_type": "execute_result"
        }
      ],
      "source": [
        "# memilih kolom-kolom yang akan di drop \n",
        "\n",
        "to_drop = ['User Aktif']\n",
        "\n",
        "# melakukan drop pada data yang dipilih\n",
        "\n",
        "df.drop(to_drop, inplace=True, axis=1)\n",
        "\n",
        "# Hasil penghilenang kolom\n",
        "df.head()"
      ]
    },
    {
      "cell_type": "code",
      "execution_count": 5,
      "id": "fea27921",
      "metadata": {
        "id": "fea27921",
        "outputId": "661c161f-7484-406f-ec28-04b842ee5299",
        "scrolled": true
      },
      "outputs": [
        {
          "data": {
            "text/html": [
              "<div>\n",
              "<style scoped>\n",
              "    .dataframe tbody tr th:only-of-type {\n",
              "        vertical-align: middle;\n",
              "    }\n",
              "\n",
              "    .dataframe tbody tr th {\n",
              "        vertical-align: top;\n",
              "    }\n",
              "\n",
              "    .dataframe thead th {\n",
              "        text-align: right;\n",
              "    }\n",
              "</style>\n",
              "<table border=\"1\" class=\"dataframe\">\n",
              "  <thead>\n",
              "    <tr style=\"text-align: right;\">\n",
              "      <th></th>\n",
              "      <th>Judul</th>\n",
              "      <th>Jenis</th>\n",
              "    </tr>\n",
              "  </thead>\n",
              "  <tbody>\n",
              "    <tr>\n",
              "      <th>count</th>\n",
              "      <td>800</td>\n",
              "      <td>800</td>\n",
              "    </tr>\n",
              "    <tr>\n",
              "      <th>unique</th>\n",
              "      <td>800</td>\n",
              "      <td>4</td>\n",
              "    </tr>\n",
              "    <tr>\n",
              "      <th>top</th>\n",
              "      <td>Wajah Istri Sultan Kelantan yang Pernah Bersen...</td>\n",
              "      <td>Lifestyle</td>\n",
              "    </tr>\n",
              "    <tr>\n",
              "      <th>freq</th>\n",
              "      <td>1</td>\n",
              "      <td>200</td>\n",
              "    </tr>\n",
              "  </tbody>\n",
              "</table>\n",
              "</div>"
            ],
            "text/plain": [
              "                                                    Judul      Jenis\n",
              "count                                                 800        800\n",
              "unique                                                800          4\n",
              "top     Wajah Istri Sultan Kelantan yang Pernah Bersen...  Lifestyle\n",
              "freq                                                    1        200"
            ]
          },
          "execution_count": 5,
          "metadata": {},
          "output_type": "execute_result"
        }
      ],
      "source": [
        "# melihat statistik dasar \n",
        "\n",
        "df.describe()"
      ]
    },
    {
      "cell_type": "code",
      "execution_count": 6,
      "id": "dac3843c",
      "metadata": {},
      "outputs": [
        {
          "data": {
            "text/html": [
              "<div>\n",
              "<style scoped>\n",
              "    .dataframe tbody tr th:only-of-type {\n",
              "        vertical-align: middle;\n",
              "    }\n",
              "\n",
              "    .dataframe tbody tr th {\n",
              "        vertical-align: top;\n",
              "    }\n",
              "\n",
              "    .dataframe thead th {\n",
              "        text-align: right;\n",
              "    }\n",
              "</style>\n",
              "<table border=\"1\" class=\"dataframe\">\n",
              "  <thead>\n",
              "    <tr style=\"text-align: right;\">\n",
              "      <th></th>\n",
              "      <th>Judul</th>\n",
              "      <th>Jenis</th>\n",
              "    </tr>\n",
              "  </thead>\n",
              "  <tbody>\n",
              "    <tr>\n",
              "      <th>count</th>\n",
              "      <td>800</td>\n",
              "      <td>800</td>\n",
              "    </tr>\n",
              "    <tr>\n",
              "      <th>unique</th>\n",
              "      <td>800</td>\n",
              "      <td>4</td>\n",
              "    </tr>\n",
              "    <tr>\n",
              "      <th>top</th>\n",
              "      <td>Wajah Istri Sultan Kelantan yang Pernah Bersen...</td>\n",
              "      <td>Lifestyle</td>\n",
              "    </tr>\n",
              "    <tr>\n",
              "      <th>freq</th>\n",
              "      <td>1</td>\n",
              "      <td>200</td>\n",
              "    </tr>\n",
              "  </tbody>\n",
              "</table>\n",
              "</div>"
            ],
            "text/plain": [
              "                                                    Judul      Jenis\n",
              "count                                                 800        800\n",
              "unique                                                800          4\n",
              "top     Wajah Istri Sultan Kelantan yang Pernah Bersen...  Lifestyle\n",
              "freq                                                    1        200"
            ]
          },
          "execution_count": 6,
          "metadata": {},
          "output_type": "execute_result"
        }
      ],
      "source": [
        "# menghilangkan data judul yang sama\n",
        "df.drop_duplicates(subset=\"Judul\", keep=False, inplace=True)\n",
        "df.describe()   "
      ]
    },
    {
      "cell_type": "markdown",
      "id": "a9592cbf",
      "metadata": {},
      "source": [
        "# Case folding"
      ]
    },
    {
      "cell_type": "code",
      "execution_count": 7,
      "id": "d0135f48",
      "metadata": {},
      "outputs": [
        {
          "data": {
            "text/html": [
              "<div>\n",
              "<style scoped>\n",
              "    .dataframe tbody tr th:only-of-type {\n",
              "        vertical-align: middle;\n",
              "    }\n",
              "\n",
              "    .dataframe tbody tr th {\n",
              "        vertical-align: top;\n",
              "    }\n",
              "\n",
              "    .dataframe thead th {\n",
              "        text-align: right;\n",
              "    }\n",
              "</style>\n",
              "<table border=\"1\" class=\"dataframe\">\n",
              "  <thead>\n",
              "    <tr style=\"text-align: right;\">\n",
              "      <th></th>\n",
              "      <th>Judul</th>\n",
              "      <th>Jenis</th>\n",
              "    </tr>\n",
              "  </thead>\n",
              "  <tbody>\n",
              "    <tr>\n",
              "      <th>0</th>\n",
              "      <td>wajah istri sultan kelantan yang pernah bersen...</td>\n",
              "      <td>lifestyle</td>\n",
              "    </tr>\n",
              "    <tr>\n",
              "      <th>1</th>\n",
              "      <td>nonton video porno bareng pasangan beri dampak...</td>\n",
              "      <td>health</td>\n",
              "    </tr>\n",
              "    <tr>\n",
              "      <th>2</th>\n",
              "      <td>cuek dengan isu perselingkuhan behati prinsloo...</td>\n",
              "      <td>health</td>\n",
              "    </tr>\n",
              "    <tr>\n",
              "      <th>3</th>\n",
              "      <td>skrining hormon tiroid pada bayi baru lahir bi...</td>\n",
              "      <td>health</td>\n",
              "    </tr>\n",
              "    <tr>\n",
              "      <th>4</th>\n",
              "      <td>dibayangi resesi harga emas bakal melambung di...</td>\n",
              "      <td>bisnis</td>\n",
              "    </tr>\n",
              "  </tbody>\n",
              "</table>\n",
              "</div>"
            ],
            "text/plain": [
              "                                               Judul      Jenis\n",
              "0  wajah istri sultan kelantan yang pernah bersen...  lifestyle\n",
              "1  nonton video porno bareng pasangan beri dampak...     health\n",
              "2  cuek dengan isu perselingkuhan behati prinsloo...     health\n",
              "3  skrining hormon tiroid pada bayi baru lahir bi...     health\n",
              "4  dibayangi resesi harga emas bakal melambung di...     bisnis"
            ]
          },
          "execution_count": 7,
          "metadata": {},
          "output_type": "execute_result"
        }
      ],
      "source": [
        "# mengubah ke lower case\n",
        "df['Judul'] = df['Judul'].str.lower()\n",
        "df['Jenis'] = df['Jenis'].str.lower()\n",
        "\n",
        "df.head()"
      ]
    },
    {
      "cell_type": "code",
      "execution_count": 8,
      "id": "161dae7b",
      "metadata": {},
      "outputs": [
        {
          "name": "stderr",
          "output_type": "stream",
          "text": [
            "C:\\Users\\AKU\\AppData\\Local\\Temp\\ipykernel_11660\\2487329922.py:2: FutureWarning: The default value of regex will change from True to False in a future version.\n",
            "  df['Judul'] = df['Judul'].str.replace('\\d*', '')\n",
            "C:\\Users\\AKU\\AppData\\Local\\Temp\\ipykernel_11660\\2487329922.py:3: FutureWarning: The default value of regex will change from True to False in a future version.\n",
            "  df['Judul'] = df['Judul'].str.replace('[^\\w\\s]', ' ')\n"
          ]
        },
        {
          "data": {
            "text/html": [
              "<div>\n",
              "<style scoped>\n",
              "    .dataframe tbody tr th:only-of-type {\n",
              "        vertical-align: middle;\n",
              "    }\n",
              "\n",
              "    .dataframe tbody tr th {\n",
              "        vertical-align: top;\n",
              "    }\n",
              "\n",
              "    .dataframe thead th {\n",
              "        text-align: right;\n",
              "    }\n",
              "</style>\n",
              "<table border=\"1\" class=\"dataframe\">\n",
              "  <thead>\n",
              "    <tr style=\"text-align: right;\">\n",
              "      <th></th>\n",
              "      <th>Judul</th>\n",
              "      <th>Jenis</th>\n",
              "    </tr>\n",
              "  </thead>\n",
              "  <tbody>\n",
              "    <tr>\n",
              "      <th>0</th>\n",
              "      <td>wajah istri sultan kelantan yang pernah bersen...</td>\n",
              "      <td>lifestyle</td>\n",
              "    </tr>\n",
              "    <tr>\n",
              "      <th>1</th>\n",
              "      <td>nonton video porno bareng pasangan beri dampak...</td>\n",
              "      <td>health</td>\n",
              "    </tr>\n",
              "    <tr>\n",
              "      <th>2</th>\n",
              "      <td>cuek dengan isu perselingkuhan behati prinsloo...</td>\n",
              "      <td>health</td>\n",
              "    </tr>\n",
              "    <tr>\n",
              "      <th>3</th>\n",
              "      <td>skrining hormon tiroid pada bayi baru lahir bi...</td>\n",
              "      <td>health</td>\n",
              "    </tr>\n",
              "    <tr>\n",
              "      <th>4</th>\n",
              "      <td>dibayangi resesi harga emas bakal melambung di</td>\n",
              "      <td>bisnis</td>\n",
              "    </tr>\n",
              "  </tbody>\n",
              "</table>\n",
              "</div>"
            ],
            "text/plain": [
              "                                               Judul      Jenis\n",
              "0  wajah istri sultan kelantan yang pernah bersen...  lifestyle\n",
              "1  nonton video porno bareng pasangan beri dampak...     health\n",
              "2  cuek dengan isu perselingkuhan behati prinsloo...     health\n",
              "3  skrining hormon tiroid pada bayi baru lahir bi...     health\n",
              "4     dibayangi resesi harga emas bakal melambung di     bisnis"
            ]
          },
          "execution_count": 8,
          "metadata": {},
          "output_type": "execute_result"
        }
      ],
      "source": [
        "# menghilangkan karakter special dan numerik\n",
        "df['Judul'] = df['Judul'].str.replace('\\d*', '')\n",
        "df['Judul'] = df['Judul'].str.replace('[^\\w\\s]', ' ')\n",
        "df['Judul'] = df['Judul'].str.strip()\n",
        "df.head()"
      ]
    },
    {
      "cell_type": "markdown",
      "id": "3b6039e3",
      "metadata": {},
      "source": [
        "# Tokenizing and Stemming"
      ]
    },
    {
      "cell_type": "code",
      "execution_count": 9,
      "id": "846b9307",
      "metadata": {},
      "outputs": [
        {
          "data": {
            "text/html": [
              "<div>\n",
              "<style scoped>\n",
              "    .dataframe tbody tr th:only-of-type {\n",
              "        vertical-align: middle;\n",
              "    }\n",
              "\n",
              "    .dataframe tbody tr th {\n",
              "        vertical-align: top;\n",
              "    }\n",
              "\n",
              "    .dataframe thead th {\n",
              "        text-align: right;\n",
              "    }\n",
              "</style>\n",
              "<table border=\"1\" class=\"dataframe\">\n",
              "  <thead>\n",
              "    <tr style=\"text-align: right;\">\n",
              "      <th></th>\n",
              "      <th>Judul</th>\n",
              "      <th>Jenis</th>\n",
              "    </tr>\n",
              "  </thead>\n",
              "  <tbody>\n",
              "    <tr>\n",
              "      <th>0</th>\n",
              "      <td>wajah istri sultan lantan pernah sengketa miss...</td>\n",
              "      <td>lifestyle</td>\n",
              "    </tr>\n",
              "    <tr>\n",
              "      <th>1</th>\n",
              "      <td>nonton video porno bareng pasang beri dampak p...</td>\n",
              "      <td>health</td>\n",
              "    </tr>\n",
              "    <tr>\n",
              "      <th>2</th>\n",
              "      <td>cuek isu selingkuh behati prinsloo tangkap kam...</td>\n",
              "      <td>health</td>\n",
              "    </tr>\n",
              "    <tr>\n",
              "      <th>3</th>\n",
              "      <td>skrining hormon tiroid bayi baru lahir cegah g...</td>\n",
              "      <td>health</td>\n",
              "    </tr>\n",
              "    <tr>\n",
              "      <th>4</th>\n",
              "      <td>bayang resesi harga emas bakal lambung</td>\n",
              "      <td>bisnis</td>\n",
              "    </tr>\n",
              "  </tbody>\n",
              "</table>\n",
              "</div>"
            ],
            "text/plain": [
              "                                               Judul      Jenis\n",
              "0  wajah istri sultan lantan pernah sengketa miss...  lifestyle\n",
              "1  nonton video porno bareng pasang beri dampak p...     health\n",
              "2  cuek isu selingkuh behati prinsloo tangkap kam...     health\n",
              "3  skrining hormon tiroid bayi baru lahir cegah g...     health\n",
              "4             bayang resesi harga emas bakal lambung     bisnis"
            ]
          },
          "execution_count": 9,
          "metadata": {},
          "output_type": "execute_result"
        }
      ],
      "source": [
        "# stemming and tokenizing function to sastrawati\n",
        "def funSastrawati(val):\n",
        "    stop_factory = ArrayDictionary(StopWordRemoverFactory().get_stop_words())\n",
        "    str = StopWordRemover(stop_factory)\n",
        "    factory = StemmerFactory()\n",
        "    stemmer = factory.create_stemmer()\n",
        "    word = stemmer.stem(str.remove(val))\n",
        "    return word\n",
        "# Apply stemming and tokenizing\n",
        "df['Judul'] = df['Judul'].apply(funSastrawati)\n",
        "df.head()"
      ]
    },
    {
      "cell_type": "code",
      "execution_count": 10,
      "id": "b65eb4a9",
      "metadata": {},
      "outputs": [],
      "source": [
        "# menyimpan data clean\n",
        "df.to_csv(r'P:\\UKDC\\Kapital Selekta\\program\\clean.csv', index=False, header=True)"
      ]
    },
    {
      "cell_type": "code",
      "execution_count": 11,
      "id": "66863c5f",
      "metadata": {},
      "outputs": [
        {
          "data": {
            "text/plain": [
              "lifestyle    200\n",
              "health       200\n",
              "bisnis       200\n",
              "global       200\n",
              "Name: Jenis, dtype: int64"
            ]
          },
          "execution_count": 11,
          "metadata": {},
          "output_type": "execute_result"
        }
      ],
      "source": [
        "# Mengetahui jumlah jenis berita\n",
        "df['Jenis'].value_counts()"
      ]
    },
    {
      "cell_type": "code",
      "execution_count": 12,
      "id": "ebf79654",
      "metadata": {},
      "outputs": [
        {
          "data": {
            "text/html": [
              "<div>\n",
              "<style scoped>\n",
              "    .dataframe tbody tr th:only-of-type {\n",
              "        vertical-align: middle;\n",
              "    }\n",
              "\n",
              "    .dataframe tbody tr th {\n",
              "        vertical-align: top;\n",
              "    }\n",
              "\n",
              "    .dataframe thead th {\n",
              "        text-align: right;\n",
              "    }\n",
              "</style>\n",
              "<table border=\"1\" class=\"dataframe\">\n",
              "  <thead>\n",
              "    <tr style=\"text-align: right;\">\n",
              "      <th></th>\n",
              "      <th>Judul</th>\n",
              "      <th>Jenis</th>\n",
              "      <th>Label</th>\n",
              "    </tr>\n",
              "  </thead>\n",
              "  <tbody>\n",
              "    <tr>\n",
              "      <th>0</th>\n",
              "      <td>wajah istri sultan lantan pernah sengketa miss...</td>\n",
              "      <td>lifestyle</td>\n",
              "      <td>3</td>\n",
              "    </tr>\n",
              "    <tr>\n",
              "      <th>1</th>\n",
              "      <td>nonton video porno bareng pasang beri dampak p...</td>\n",
              "      <td>health</td>\n",
              "      <td>1</td>\n",
              "    </tr>\n",
              "    <tr>\n",
              "      <th>2</th>\n",
              "      <td>cuek isu selingkuh behati prinsloo tangkap kam...</td>\n",
              "      <td>health</td>\n",
              "      <td>1</td>\n",
              "    </tr>\n",
              "    <tr>\n",
              "      <th>3</th>\n",
              "      <td>skrining hormon tiroid bayi baru lahir cegah g...</td>\n",
              "      <td>health</td>\n",
              "      <td>1</td>\n",
              "    </tr>\n",
              "    <tr>\n",
              "      <th>4</th>\n",
              "      <td>bayang resesi harga emas bakal lambung</td>\n",
              "      <td>bisnis</td>\n",
              "      <td>0</td>\n",
              "    </tr>\n",
              "  </tbody>\n",
              "</table>\n",
              "</div>"
            ],
            "text/plain": [
              "                                               Judul      Jenis  Label\n",
              "0  wajah istri sultan lantan pernah sengketa miss...  lifestyle      3\n",
              "1  nonton video porno bareng pasang beri dampak p...     health      1\n",
              "2  cuek isu selingkuh behati prinsloo tangkap kam...     health      1\n",
              "3  skrining hormon tiroid bayi baru lahir cegah g...     health      1\n",
              "4             bayang resesi harga emas bakal lambung     bisnis      0"
            ]
          },
          "execution_count": 12,
          "metadata": {},
          "output_type": "execute_result"
        }
      ],
      "source": [
        "df['Label'] = df['Jenis'].map({\n",
        "    'bisnis' : 0,\n",
        "    'health' : 1,\n",
        "    'global' : 2,\n",
        "    'lifestyle' : 3,\n",
        "})\n",
        "df.head()"
      ]
    },
    {
      "cell_type": "code",
      "execution_count": 13,
      "id": "60b1ca28",
      "metadata": {},
      "outputs": [],
      "source": [
        "# Spliting data (pemodelan)\n",
        "\n",
        "X_train, X_test, y_train, y_test = train_test_split(df['Judul'].values, df['Label'].values, test_size=0.1, random_state = 90, stratify=df['Label'].values)"
      ]
    },
    {
      "cell_type": "markdown",
      "id": "08d464fc",
      "metadata": {},
      "source": [
        "# TF-IDF"
      ]
    },
    {
      "cell_type": "code",
      "execution_count": 24,
      "id": "1c657dac",
      "metadata": {},
      "outputs": [
        {
          "name": "stdout",
          "output_type": "stream",
          "text": [
            "  (0, 7354)\t0.46069328407484433\n",
            "  (0, 6259)\t0.46069328407484433\n",
            "  (0, 5945)\t0.433572373675853\n",
            "  (0, 3855)\t0.46069328407484433\n",
            "  (0, 3222)\t0.29175134829630023\n",
            "  (0, 410)\t0.3003019173721372\n",
            "  (1, 8017)\t0.4255724296536098\n",
            "  (1, 6002)\t0.4731939845392052\n",
            "  (1, 5999)\t0.44533716070509755\n",
            "  (1, 5799)\t0.44533716070509755\n",
            "  (1, 93)\t0.44533716070509755\n",
            "  (2, 4733)\t0.35430672334683594\n",
            "  (2, 3997)\t0.48376231528575614\n",
            "  (2, 3378)\t0.43203181605571594\n",
            "  (2, 2089)\t0.3385364436518058\n",
            "  (2, 1748)\t0.5140227174789143\n",
            "  (2, 1709)\t0.2737937184293555\n",
            "  (3, 8736)\t0.5068918316201293\n",
            "  (3, 6791)\t0.4104408571372853\n",
            "  (3, 5326)\t0.5068918316201293\n",
            "  (3, 603)\t0.5636130275871839\n",
            "  (4, 7823)\t0.32640495585139967\n",
            "  (4, 6680)\t0.2320180908227043\n",
            "  (4, 4057)\t0.34926703423275113\n",
            "  (4, 4056)\t0.3366851245729003\n",
            "  (4, 1943)\t0.2437257996678953\n",
            "  (4, 1500)\t0.36548793698808196\n",
            "  (4, 1479)\t0.2506387099069259\n",
            "  (4, 641)\t0.36548793698808196\n",
            "  (4, 418)\t0.3883500153694334\n",
            "  (4, 410)\t0.2531451146745897\n"
          ]
        }
      ],
      "source": [
        "# tf-idf\n",
        "tf = TfidfVectorizer(min_df=1, ngram_range=(1, 3))\n",
        "tfidf_train = tf.fit_transform(X_train)\n",
        "tfidf_test = tf.transform(X_test)\n",
        "print(tfidf_test[:5])"
      ]
    },
    {
      "cell_type": "markdown",
      "id": "9951b499",
      "metadata": {},
      "source": [
        "# SGD"
      ]
    },
    {
      "cell_type": "code",
      "execution_count": 87,
      "id": "37837708",
      "metadata": {},
      "outputs": [
        {
          "data": {
            "text/html": [
              "<style>#sk-container-id-18 {color: black;background-color: white;}#sk-container-id-18 pre{padding: 0;}#sk-container-id-18 div.sk-toggleable {background-color: white;}#sk-container-id-18 label.sk-toggleable__label {cursor: pointer;display: block;width: 100%;margin-bottom: 0;padding: 0.3em;box-sizing: border-box;text-align: center;}#sk-container-id-18 label.sk-toggleable__label-arrow:before {content: \"▸\";float: left;margin-right: 0.25em;color: #696969;}#sk-container-id-18 label.sk-toggleable__label-arrow:hover:before {color: black;}#sk-container-id-18 div.sk-estimator:hover label.sk-toggleable__label-arrow:before {color: black;}#sk-container-id-18 div.sk-toggleable__content {max-height: 0;max-width: 0;overflow: hidden;text-align: left;background-color: #f0f8ff;}#sk-container-id-18 div.sk-toggleable__content pre {margin: 0.2em;color: black;border-radius: 0.25em;background-color: #f0f8ff;}#sk-container-id-18 input.sk-toggleable__control:checked~div.sk-toggleable__content {max-height: 200px;max-width: 100%;overflow: auto;}#sk-container-id-18 input.sk-toggleable__control:checked~label.sk-toggleable__label-arrow:before {content: \"▾\";}#sk-container-id-18 div.sk-estimator input.sk-toggleable__control:checked~label.sk-toggleable__label {background-color: #d4ebff;}#sk-container-id-18 div.sk-label input.sk-toggleable__control:checked~label.sk-toggleable__label {background-color: #d4ebff;}#sk-container-id-18 input.sk-hidden--visually {border: 0;clip: rect(1px 1px 1px 1px);clip: rect(1px, 1px, 1px, 1px);height: 1px;margin: -1px;overflow: hidden;padding: 0;position: absolute;width: 1px;}#sk-container-id-18 div.sk-estimator {font-family: monospace;background-color: #f0f8ff;border: 1px dotted black;border-radius: 0.25em;box-sizing: border-box;margin-bottom: 0.5em;}#sk-container-id-18 div.sk-estimator:hover {background-color: #d4ebff;}#sk-container-id-18 div.sk-parallel-item::after {content: \"\";width: 100%;border-bottom: 1px solid gray;flex-grow: 1;}#sk-container-id-18 div.sk-label:hover label.sk-toggleable__label {background-color: #d4ebff;}#sk-container-id-18 div.sk-serial::before {content: \"\";position: absolute;border-left: 1px solid gray;box-sizing: border-box;top: 0;bottom: 0;left: 50%;z-index: 0;}#sk-container-id-18 div.sk-serial {display: flex;flex-direction: column;align-items: center;background-color: white;padding-right: 0.2em;padding-left: 0.2em;position: relative;}#sk-container-id-18 div.sk-item {position: relative;z-index: 1;}#sk-container-id-18 div.sk-parallel {display: flex;align-items: stretch;justify-content: center;background-color: white;position: relative;}#sk-container-id-18 div.sk-item::before, #sk-container-id-18 div.sk-parallel-item::before {content: \"\";position: absolute;border-left: 1px solid gray;box-sizing: border-box;top: 0;bottom: 0;left: 50%;z-index: -1;}#sk-container-id-18 div.sk-parallel-item {display: flex;flex-direction: column;z-index: 1;position: relative;background-color: white;}#sk-container-id-18 div.sk-parallel-item:first-child::after {align-self: flex-end;width: 50%;}#sk-container-id-18 div.sk-parallel-item:last-child::after {align-self: flex-start;width: 50%;}#sk-container-id-18 div.sk-parallel-item:only-child::after {width: 0;}#sk-container-id-18 div.sk-dashed-wrapped {border: 1px dashed gray;margin: 0 0.4em 0.5em 0.4em;box-sizing: border-box;padding-bottom: 0.4em;background-color: white;}#sk-container-id-18 div.sk-label label {font-family: monospace;font-weight: bold;display: inline-block;line-height: 1.2em;}#sk-container-id-18 div.sk-label-container {text-align: center;}#sk-container-id-18 div.sk-container {/* jupyter's `normalize.less` sets `[hidden] { display: none; }` but bootstrap.min.css set `[hidden] { display: none !important; }` so we also need the `!important` here to be able to override the default hidden behavior on the sphinx rendered scikit-learn.org. See: https://github.com/scikit-learn/scikit-learn/issues/21755 */display: inline-block !important;position: relative;}#sk-container-id-18 div.sk-text-repr-fallback {display: none;}</style><div id=\"sk-container-id-18\" class=\"sk-top-container\"><div class=\"sk-text-repr-fallback\"><pre>SGDClassifier()</pre><b>In a Jupyter environment, please rerun this cell to show the HTML representation or trust the notebook. <br />On GitHub, the HTML representation is unable to render, please try loading this page with nbviewer.org.</b></div><div class=\"sk-container\" hidden><div class=\"sk-item\"><div class=\"sk-estimator sk-toggleable\"><input class=\"sk-toggleable__control sk-hidden--visually\" id=\"sk-estimator-id-18\" type=\"checkbox\" checked><label for=\"sk-estimator-id-18\" class=\"sk-toggleable__label sk-toggleable__label-arrow\">SGDClassifier</label><div class=\"sk-toggleable__content\"><pre>SGDClassifier()</pre></div></div></div></div></div>"
            ],
            "text/plain": [
              "SGDClassifier()"
            ]
          },
          "execution_count": 87,
          "metadata": {},
          "output_type": "execute_result"
        }
      ],
      "source": [
        "modelSGD = SGDClassifier(max_iter=1000, tol=1e-3)\n",
        "modelSGD.fit(tfidf_train,y_train)"
      ]
    },
    {
      "cell_type": "code",
      "execution_count": 88,
      "id": "68525ac1",
      "metadata": {},
      "outputs": [
        {
          "name": "stdout",
          "output_type": "stream",
          "text": [
            "              precision    recall  f1-score   support\n",
            "\n",
            "           0       0.64      0.80      0.71        20\n",
            "           1       0.62      0.75      0.68        20\n",
            "           2       0.59      0.50      0.54        20\n",
            "           3       0.79      0.55      0.65        20\n",
            "\n",
            "    accuracy                           0.65        80\n",
            "   macro avg       0.66      0.65      0.65        80\n",
            "weighted avg       0.66      0.65      0.65        80\n",
            "\n"
          ]
        }
      ],
      "source": [
        "y_pred = modelSGD.predict(tfidf_test)\n",
        "print(classification_report(y_test,y_pred))"
      ]
    },
    {
      "cell_type": "markdown",
      "id": "ea9a72b2",
      "metadata": {},
      "source": [
        "# Test Sample"
      ]
    },
    {
      "cell_type": "code",
      "execution_count": 19,
      "id": "53797d2c",
      "metadata": {},
      "outputs": [
        {
          "data": {
            "text/html": [
              "<div>\n",
              "<style scoped>\n",
              "    .dataframe tbody tr th:only-of-type {\n",
              "        vertical-align: middle;\n",
              "    }\n",
              "\n",
              "    .dataframe tbody tr th {\n",
              "        vertical-align: top;\n",
              "    }\n",
              "\n",
              "    .dataframe thead th {\n",
              "        text-align: right;\n",
              "    }\n",
              "</style>\n",
              "<table border=\"1\" class=\"dataframe\">\n",
              "  <thead>\n",
              "    <tr style=\"text-align: right;\">\n",
              "      <th></th>\n",
              "      <th>Judul</th>\n",
              "    </tr>\n",
              "  </thead>\n",
              "  <tbody>\n",
              "    <tr>\n",
              "      <th>0</th>\n",
              "      <td>Berikut adalah potret para pemenang yang berha...</td>\n",
              "    </tr>\n",
              "    <tr>\n",
              "      <th>1</th>\n",
              "      <td>Selain Sandrinna Michelle masih ada sembilan p...</td>\n",
              "    </tr>\n",
              "    <tr>\n",
              "      <th>2</th>\n",
              "      <td>Berikut ini daftar pemenang SCTV Awards 2022 l...</td>\n",
              "    </tr>\n",
              "    <tr>\n",
              "      <th>3</th>\n",
              "      <td>Berikutini Link Live Streaming SCTV Awards 202...</td>\n",
              "    </tr>\n",
              "    <tr>\n",
              "      <th>4</th>\n",
              "      <td>SCTV award 2022 menganugerahkan aktor Cinta Br...</td>\n",
              "    </tr>\n",
              "  </tbody>\n",
              "</table>\n",
              "</div>"
            ],
            "text/plain": [
              "                                               Judul\n",
              "0  Berikut adalah potret para pemenang yang berha...\n",
              "1  Selain Sandrinna Michelle masih ada sembilan p...\n",
              "2  Berikut ini daftar pemenang SCTV Awards 2022 l...\n",
              "3  Berikutini Link Live Streaming SCTV Awards 202...\n",
              "4  SCTV award 2022 menganugerahkan aktor Cinta Br..."
            ]
          },
          "execution_count": 19,
          "metadata": {},
          "output_type": "execute_result"
        }
      ],
      "source": [
        "test = pd.read_csv(\"train.csv\")\n",
        "test.head()"
      ]
    },
    {
      "cell_type": "code",
      "execution_count": 20,
      "id": "8b77cf98",
      "metadata": {},
      "outputs": [
        {
          "name": "stderr",
          "output_type": "stream",
          "text": [
            "C:\\Users\\AKU\\AppData\\Local\\Temp\\ipykernel_11660\\1742386158.py:2: FutureWarning: The default value of regex will change from True to False in a future version.\n",
            "  test['Judul'] = test['Judul'].str.replace('\\d*', '')\n",
            "C:\\Users\\AKU\\AppData\\Local\\Temp\\ipykernel_11660\\1742386158.py:3: FutureWarning: The default value of regex will change from True to False in a future version.\n",
            "  test['Judul'] = test['Judul'].str.replace('[^\\w\\s]', ' ')\n"
          ]
        },
        {
          "data": {
            "text/html": [
              "<div>\n",
              "<style scoped>\n",
              "    .dataframe tbody tr th:only-of-type {\n",
              "        vertical-align: middle;\n",
              "    }\n",
              "\n",
              "    .dataframe tbody tr th {\n",
              "        vertical-align: top;\n",
              "    }\n",
              "\n",
              "    .dataframe thead th {\n",
              "        text-align: right;\n",
              "    }\n",
              "</style>\n",
              "<table border=\"1\" class=\"dataframe\">\n",
              "  <thead>\n",
              "    <tr style=\"text-align: right;\">\n",
              "      <th></th>\n",
              "      <th>Judul</th>\n",
              "    </tr>\n",
              "  </thead>\n",
              "  <tbody>\n",
              "    <tr>\n",
              "      <th>0</th>\n",
              "      <td>ikut potret menang hasil abadi tim kapanlagi c...</td>\n",
              "    </tr>\n",
              "    <tr>\n",
              "      <th>1</th>\n",
              "      <td>selain sandrinna michelle ada sembilan menang ...</td>\n",
              "    </tr>\n",
              "    <tr>\n",
              "      <th>2</th>\n",
              "      <td>ikut daftar menang sctv awards lengkap kategor...</td>\n",
              "    </tr>\n",
              "    <tr>\n",
              "      <th>3</th>\n",
              "      <td>berikutini link live streaming sctv awards tay...</td>\n",
              "    </tr>\n",
              "    <tr>\n",
              "      <th>4</th>\n",
              "      <td>sctv award anugerah aktor cinta brian aktor ut...</td>\n",
              "    </tr>\n",
              "  </tbody>\n",
              "</table>\n",
              "</div>"
            ],
            "text/plain": [
              "                                               Judul\n",
              "0  ikut potret menang hasil abadi tim kapanlagi c...\n",
              "1  selain sandrinna michelle ada sembilan menang ...\n",
              "2  ikut daftar menang sctv awards lengkap kategor...\n",
              "3  berikutini link live streaming sctv awards tay...\n",
              "4  sctv award anugerah aktor cinta brian aktor ut..."
            ]
          },
          "execution_count": 20,
          "metadata": {},
          "output_type": "execute_result"
        }
      ],
      "source": [
        "# menghilangkan karakter special dan numerik\n",
        "test['Judul'] = test['Judul'].str.replace('\\d*', '')\n",
        "test['Judul'] = test['Judul'].str.replace('[^\\w\\s]', ' ')\n",
        "test['Judul'] = test['Judul'].str.strip()\n",
        "\n",
        "# Apply stemming and tokenizing\n",
        "test['Judul'] = test['Judul'].apply(funSastrawati)\n",
        "test.head()"
      ]
    },
    {
      "cell_type": "code",
      "execution_count": 27,
      "id": "2f1c889c",
      "metadata": {},
      "outputs": [
        {
          "data": {
            "text/html": [
              "<div>\n",
              "<style scoped>\n",
              "    .dataframe tbody tr th:only-of-type {\n",
              "        vertical-align: middle;\n",
              "    }\n",
              "\n",
              "    .dataframe tbody tr th {\n",
              "        vertical-align: top;\n",
              "    }\n",
              "\n",
              "    .dataframe thead th {\n",
              "        text-align: right;\n",
              "    }\n",
              "</style>\n",
              "<table border=\"1\" class=\"dataframe\">\n",
              "  <thead>\n",
              "    <tr style=\"text-align: right;\">\n",
              "      <th></th>\n",
              "      <th>Judul</th>\n",
              "      <th>Jenis</th>\n",
              "    </tr>\n",
              "  </thead>\n",
              "  <tbody>\n",
              "    <tr>\n",
              "      <th>0</th>\n",
              "      <td>ikut potret menang hasil abadi tim kapanlagi c...</td>\n",
              "      <td>bisnis</td>\n",
              "    </tr>\n",
              "    <tr>\n",
              "      <th>1</th>\n",
              "      <td>selain sandrinna michelle ada sembilan menang ...</td>\n",
              "      <td>lifestyle</td>\n",
              "    </tr>\n",
              "    <tr>\n",
              "      <th>2</th>\n",
              "      <td>ikut daftar menang sctv awards lengkap kategor...</td>\n",
              "      <td>bisnis</td>\n",
              "    </tr>\n",
              "    <tr>\n",
              "      <th>3</th>\n",
              "      <td>berikutini link live streaming sctv awards tay...</td>\n",
              "      <td>bisnis</td>\n",
              "    </tr>\n",
              "    <tr>\n",
              "      <th>4</th>\n",
              "      <td>sctv award anugerah aktor cinta brian aktor ut...</td>\n",
              "      <td>global</td>\n",
              "    </tr>\n",
              "    <tr>\n",
              "      <th>...</th>\n",
              "      <td>...</td>\n",
              "      <td>...</td>\n",
              "    </tr>\n",
              "    <tr>\n",
              "      <th>126</th>\n",
              "      <td>dramatis marseille curi poin kandang as monaco...</td>\n",
              "      <td>global</td>\n",
              "    </tr>\n",
              "    <tr>\n",
              "      <th>127</th>\n",
              "      <td>sead kolasinac buat marseille curi tiga poin k...</td>\n",
              "      <td>bisnis</td>\n",
              "    </tr>\n",
              "    <tr>\n",
              "      <th>128</th>\n",
              "      <td>jakarta gol menit akhir sead kolasinac bawa ma...</td>\n",
              "      <td>global</td>\n",
              "    </tr>\n",
              "    <tr>\n",
              "      <th>129</th>\n",
              "      <td>marseille hadap as monaco tanding ligue stade ...</td>\n",
              "      <td>global</td>\n",
              "    </tr>\n",
              "    <tr>\n",
              "      <th>130</th>\n",
              "      <td>ac mil hasil kalah fiorentina berkat gol rafae...</td>\n",
              "      <td>global</td>\n",
              "    </tr>\n",
              "  </tbody>\n",
              "</table>\n",
              "<p>131 rows × 2 columns</p>\n",
              "</div>"
            ],
            "text/plain": [
              "                                                 Judul      Jenis\n",
              "0    ikut potret menang hasil abadi tim kapanlagi c...     bisnis\n",
              "1    selain sandrinna michelle ada sembilan menang ...  lifestyle\n",
              "2    ikut daftar menang sctv awards lengkap kategor...     bisnis\n",
              "3    berikutini link live streaming sctv awards tay...     bisnis\n",
              "4    sctv award anugerah aktor cinta brian aktor ut...     global\n",
              "..                                                 ...        ...\n",
              "126  dramatis marseille curi poin kandang as monaco...     global\n",
              "127  sead kolasinac buat marseille curi tiga poin k...     bisnis\n",
              "128  jakarta gol menit akhir sead kolasinac bawa ma...     global\n",
              "129  marseille hadap as monaco tanding ligue stade ...     global\n",
              "130  ac mil hasil kalah fiorentina berkat gol rafae...     global\n",
              "\n",
              "[131 rows x 2 columns]"
            ]
          },
          "execution_count": 27,
          "metadata": {},
          "output_type": "execute_result"
        }
      ],
      "source": [
        "# prediksi berita\n",
        "prediksi = modelSGD.predict(tf.transform(test['Judul'].values))\n",
        "test['Jenis'] = prediksi\n",
        "test['Jenis'] = test['Jenis'].map({\n",
        "    0 : 'bisnis',\n",
        "    1 : 'health',\n",
        "    2 : 'global',\n",
        "    3 : 'lifestyle',\n",
        "})\n",
        "test"
      ]
    },
    {
      "cell_type": "code",
      "execution_count": 22,
      "id": "29d48e04",
      "metadata": {},
      "outputs": [],
      "source": [
        "test.to_csv(r'P:\\UKDC\\Kapital Selekta\\program\\result.csv', index=False, header=True)"
      ]
    }
  ],
  "metadata": {
    "colab": {
      "provenance": []
    },
    "kernelspec": {
      "display_name": "Python 3.10.2 64-bit",
      "language": "python",
      "name": "python3"
    },
    "language_info": {
      "codemirror_mode": {
        "name": "ipython",
        "version": 3
      },
      "file_extension": ".py",
      "mimetype": "text/x-python",
      "name": "python",
      "nbconvert_exporter": "python",
      "pygments_lexer": "ipython3",
      "version": "3.10.2"
    },
    "vscode": {
      "interpreter": {
        "hash": "26de051ba29f2982a8de78e945f0abaf191376122a1563185a90213a26c5da77"
      }
    }
  },
  "nbformat": 4,
  "nbformat_minor": 5
}
