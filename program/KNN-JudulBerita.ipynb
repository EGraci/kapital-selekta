{
  "cells": [
    {
      "cell_type": "markdown",
      "id": "f6d8f9fa",
      "metadata": {},
      "source": [
        "# Liputan 6\n",
        "## Klasifikasi jenis berita berdasarkan judul"
      ]
    },
    {
      "cell_type": "code",
      "execution_count": 160,
      "id": "c0bc7ec7",
      "metadata": {},
      "outputs": [
        {
          "name": "stdout",
          "output_type": "stream",
          "text": [
            "Defaulting to user installation because normal site-packages is not writeable\n",
            "Requirement already satisfied: pandas in c:\\users\\aku\\appdata\\roaming\\python\\python310\\site-packages (1.5.1)\n",
            "Requirement already satisfied: python-dateutil>=2.8.1 in c:\\users\\aku\\appdata\\roaming\\python\\python310\\site-packages (from pandas) (2.8.2)\n",
            "Requirement already satisfied: pytz>=2020.1 in c:\\users\\aku\\appdata\\roaming\\python\\python310\\site-packages (from pandas) (2022.5)\n",
            "Requirement already satisfied: numpy>=1.21.0 in c:\\users\\aku\\appdata\\roaming\\python\\python310\\site-packages (from pandas) (1.23.4)\n",
            "Requirement already satisfied: six>=1.5 in c:\\users\\aku\\appdata\\roaming\\python\\python310\\site-packages (from python-dateutil>=2.8.1->pandas) (1.16.0)\n",
            "Defaulting to user installation because normal site-packages is not writeable\n",
            "Requirement already satisfied: numpy in c:\\users\\aku\\appdata\\roaming\\python\\python310\\site-packages (1.23.4)\n",
            "Defaulting to user installation because normal site-packages is not writeable\n",
            "Requirement already satisfied: nltk in c:\\users\\aku\\appdata\\roaming\\python\\python310\\site-packages (3.7)\n",
            "Requirement already satisfied: tqdm in c:\\users\\aku\\appdata\\roaming\\python\\python310\\site-packages (from nltk) (4.64.1)\n",
            "Requirement already satisfied: joblib in c:\\users\\aku\\appdata\\roaming\\python\\python310\\site-packages (from nltk) (1.2.0)\n",
            "Requirement already satisfied: click in c:\\users\\aku\\appdata\\roaming\\python\\python310\\site-packages (from nltk) (8.1.3)\n",
            "Requirement already satisfied: regex>=2021.8.3 in c:\\users\\aku\\appdata\\roaming\\python\\python310\\site-packages (from nltk) (2022.10.31)\n",
            "Requirement already satisfied: colorama in c:\\users\\aku\\appdata\\roaming\\python\\python310\\site-packages (from click->nltk) (0.4.5)\n",
            "Defaulting to user installation because normal site-packages is not writeable\n",
            "Requirement already satisfied: Sastrawi in c:\\users\\aku\\appdata\\roaming\\python\\python310\\site-packages (1.0.1)\n",
            "Defaulting to user installation because normal site-packages is not writeable\n",
            "Collecting sklearn\n",
            "  Downloading sklearn-0.0.post1.tar.gz (3.6 kB)\n",
            "  Preparing metadata (setup.py): started\n",
            "  Preparing metadata (setup.py): finished with status 'done'\n",
            "Installing collected packages: sklearn\n",
            "  Running setup.py install for sklearn: started\n",
            "  Running setup.py install for sklearn: finished with status 'done'\n",
            "Successfully installed sklearn-0.0.post1\n"
          ]
        },
        {
          "name": "stderr",
          "output_type": "stream",
          "text": [
            "  DEPRECATION: sklearn is being installed using the legacy 'setup.py install' method, because it does not have a 'pyproject.toml' and the 'wheel' package is not installed. pip 23.1 will enforce this behaviour change. A possible replacement is to enable the '--use-pep517' option. Discussion can be found at https://github.com/pypa/pip/issues/8559\n"
          ]
        }
      ],
      "source": [
        "# install libarary\n",
        "! pip install pandas\n",
        "! pip install numpy\n",
        "! pip install nltk\n",
        "! pip install Sastrawi\n",
        "! pip install sklearn\n"
      ]
    },
    {
      "cell_type": "code",
      "execution_count": 270,
      "id": "55ec4964",
      "metadata": {
        "id": "55ec4964"
      },
      "outputs": [],
      "source": [
        "# import library\n",
        "\n",
        "import pandas as pd\n",
        "import numpy as np\n",
        "from nltk.tokenize import word_tokenize\n",
        "from nltk.tokenize import sent_tokenize\n",
        "from Sastrawi.Stemmer.StemmerFactory import StemmerFactory\n",
        "from Sastrawi.StopWordRemover.StopWordRemoverFactory import StopWordRemoverFactory, StopWordRemover, ArrayDictionary\n",
        "from sklearn.feature_extraction.text import CountVectorizer\n",
        "from sklearn.feature_extraction.text import TfidfVectorizer\n",
        "from sklearn.model_selection import train_test_split\n",
        "from sklearn.preprocessing import StandardScaler\n",
        "import matplotlib.pyplot as plt\n",
        "# nltk.download()"
      ]
    },
    {
      "cell_type": "code",
      "execution_count": 194,
      "id": "7fde0acf",
      "metadata": {
        "id": "7fde0acf",
        "outputId": "c7370cc9-5817-47e9-b78f-74e65699861b"
      },
      "outputs": [
        {
          "data": {
            "text/html": [
              "<div>\n",
              "<style scoped>\n",
              "    .dataframe tbody tr th:only-of-type {\n",
              "        vertical-align: middle;\n",
              "    }\n",
              "\n",
              "    .dataframe tbody tr th {\n",
              "        vertical-align: top;\n",
              "    }\n",
              "\n",
              "    .dataframe thead th {\n",
              "        text-align: right;\n",
              "    }\n",
              "</style>\n",
              "<table border=\"1\" class=\"dataframe\">\n",
              "  <thead>\n",
              "    <tr style=\"text-align: right;\">\n",
              "      <th></th>\n",
              "      <th>Judul</th>\n",
              "      <th>Jenis</th>\n",
              "      <th>User Aktif</th>\n",
              "    </tr>\n",
              "  </thead>\n",
              "  <tbody>\n",
              "    <tr>\n",
              "      <th>0</th>\n",
              "      <td>Penyebab Wanita Gagal Raih Orgasme Saat Bercin...</td>\n",
              "      <td>Health</td>\n",
              "      <td>9</td>\n",
              "    </tr>\n",
              "    <tr>\n",
              "      <th>1</th>\n",
              "      <td>6 Potret Perayaan Ulang Tahun Okie Agustina ke...</td>\n",
              "      <td>Hot</td>\n",
              "      <td>7</td>\n",
              "    </tr>\n",
              "    <tr>\n",
              "      <th>2</th>\n",
              "      <td>Bacaan Doa Setelah Sholat Tahajud Rasulullah S...</td>\n",
              "      <td>Islami</td>\n",
              "      <td>7</td>\n",
              "    </tr>\n",
              "    <tr>\n",
              "      <th>3</th>\n",
              "      <td>Ternyata Pihak-Pihak Ini yang Disebut Punya Bi...</td>\n",
              "      <td>Crypto</td>\n",
              "      <td>6</td>\n",
              "    </tr>\n",
              "    <tr>\n",
              "      <th>4</th>\n",
              "      <td>Rekomendasi Film-Film Seru di Bioskop Sepanjan...</td>\n",
              "      <td>Regional</td>\n",
              "      <td>6</td>\n",
              "    </tr>\n",
              "  </tbody>\n",
              "</table>\n",
              "</div>"
            ],
            "text/plain": [
              "                                               Judul     Jenis  User Aktif\n",
              "0  Penyebab Wanita Gagal Raih Orgasme Saat Bercin...    Health           9\n",
              "1  6 Potret Perayaan Ulang Tahun Okie Agustina ke...       Hot           7\n",
              "2  Bacaan Doa Setelah Sholat Tahajud Rasulullah S...    Islami           7\n",
              "3  Ternyata Pihak-Pihak Ini yang Disebut Punya Bi...    Crypto           6\n",
              "4  Rekomendasi Film-Film Seru di Bioskop Sepanjan...  Regional           6"
            ]
          },
          "execution_count": 194,
          "metadata": {},
          "output_type": "execute_result"
        }
      ],
      "source": [
        "# load data\n",
        "\n",
        "df = pd.read_csv(\"raw.csv\")\n",
        "df.head()"
      ]
    },
    {
      "cell_type": "code",
      "execution_count": 195,
      "id": "49ade5e9",
      "metadata": {
        "id": "49ade5e9"
      },
      "outputs": [
        {
          "data": {
            "text/html": [
              "<div>\n",
              "<style scoped>\n",
              "    .dataframe tbody tr th:only-of-type {\n",
              "        vertical-align: middle;\n",
              "    }\n",
              "\n",
              "    .dataframe tbody tr th {\n",
              "        vertical-align: top;\n",
              "    }\n",
              "\n",
              "    .dataframe thead th {\n",
              "        text-align: right;\n",
              "    }\n",
              "</style>\n",
              "<table border=\"1\" class=\"dataframe\">\n",
              "  <thead>\n",
              "    <tr style=\"text-align: right;\">\n",
              "      <th></th>\n",
              "      <th>Judul</th>\n",
              "      <th>Jenis</th>\n",
              "    </tr>\n",
              "  </thead>\n",
              "  <tbody>\n",
              "    <tr>\n",
              "      <th>0</th>\n",
              "      <td>Penyebab Wanita Gagal Raih Orgasme Saat Bercin...</td>\n",
              "      <td>Health</td>\n",
              "    </tr>\n",
              "    <tr>\n",
              "      <th>1</th>\n",
              "      <td>6 Potret Perayaan Ulang Tahun Okie Agustina ke...</td>\n",
              "      <td>Hot</td>\n",
              "    </tr>\n",
              "    <tr>\n",
              "      <th>2</th>\n",
              "      <td>Bacaan Doa Setelah Sholat Tahajud Rasulullah S...</td>\n",
              "      <td>Islami</td>\n",
              "    </tr>\n",
              "    <tr>\n",
              "      <th>3</th>\n",
              "      <td>Ternyata Pihak-Pihak Ini yang Disebut Punya Bi...</td>\n",
              "      <td>Crypto</td>\n",
              "    </tr>\n",
              "    <tr>\n",
              "      <th>4</th>\n",
              "      <td>Rekomendasi Film-Film Seru di Bioskop Sepanjan...</td>\n",
              "      <td>Regional</td>\n",
              "    </tr>\n",
              "  </tbody>\n",
              "</table>\n",
              "</div>"
            ],
            "text/plain": [
              "                                               Judul     Jenis\n",
              "0  Penyebab Wanita Gagal Raih Orgasme Saat Bercin...    Health\n",
              "1  6 Potret Perayaan Ulang Tahun Okie Agustina ke...       Hot\n",
              "2  Bacaan Doa Setelah Sholat Tahajud Rasulullah S...    Islami\n",
              "3  Ternyata Pihak-Pihak Ini yang Disebut Punya Bi...    Crypto\n",
              "4  Rekomendasi Film-Film Seru di Bioskop Sepanjan...  Regional"
            ]
          },
          "execution_count": 195,
          "metadata": {},
          "output_type": "execute_result"
        }
      ],
      "source": [
        "# memilih kolom-kolom yang akan di drop \n",
        "\n",
        "to_drop = ['User Aktif']\n",
        "\n",
        "# melakukan drop pada data yang dipilih\n",
        "\n",
        "df.drop(to_drop, inplace=True, axis=1)\n",
        "\n",
        "# Hasil penghilenang kolom\n",
        "df.head()"
      ]
    },
    {
      "cell_type": "code",
      "execution_count": 196,
      "id": "fea27921",
      "metadata": {
        "id": "fea27921",
        "outputId": "661c161f-7484-406f-ec28-04b842ee5299",
        "scrolled": true
      },
      "outputs": [
        {
          "data": {
            "text/html": [
              "<div>\n",
              "<style scoped>\n",
              "    .dataframe tbody tr th:only-of-type {\n",
              "        vertical-align: middle;\n",
              "    }\n",
              "\n",
              "    .dataframe tbody tr th {\n",
              "        vertical-align: top;\n",
              "    }\n",
              "\n",
              "    .dataframe thead th {\n",
              "        text-align: right;\n",
              "    }\n",
              "</style>\n",
              "<table border=\"1\" class=\"dataframe\">\n",
              "  <thead>\n",
              "    <tr style=\"text-align: right;\">\n",
              "      <th></th>\n",
              "      <th>Judul</th>\n",
              "      <th>Jenis</th>\n",
              "    </tr>\n",
              "  </thead>\n",
              "  <tbody>\n",
              "    <tr>\n",
              "      <th>count</th>\n",
              "      <td>1350</td>\n",
              "      <td>1357</td>\n",
              "    </tr>\n",
              "    <tr>\n",
              "      <th>unique</th>\n",
              "      <td>1296</td>\n",
              "      <td>35</td>\n",
              "    </tr>\n",
              "    <tr>\n",
              "      <th>top</th>\n",
              "      <td>Rekam Jejak Fallincy Mbak Topi Subak Musuh Ber...</td>\n",
              "      <td>Hot</td>\n",
              "    </tr>\n",
              "    <tr>\n",
              "      <th>freq</th>\n",
              "      <td>5</td>\n",
              "      <td>356</td>\n",
              "    </tr>\n",
              "  </tbody>\n",
              "</table>\n",
              "</div>"
            ],
            "text/plain": [
              "                                                    Judul Jenis\n",
              "count                                                1350  1357\n",
              "unique                                               1296    35\n",
              "top     Rekam Jejak Fallincy Mbak Topi Subak Musuh Ber...   Hot\n",
              "freq                                                    5   356"
            ]
          },
          "execution_count": 196,
          "metadata": {},
          "output_type": "execute_result"
        }
      ],
      "source": [
        "# melihat statistik dasar \n",
        "\n",
        "df.describe()"
      ]
    },
    {
      "cell_type": "code",
      "execution_count": 197,
      "id": "dac3843c",
      "metadata": {},
      "outputs": [
        {
          "data": {
            "text/html": [
              "<div>\n",
              "<style scoped>\n",
              "    .dataframe tbody tr th:only-of-type {\n",
              "        vertical-align: middle;\n",
              "    }\n",
              "\n",
              "    .dataframe tbody tr th {\n",
              "        vertical-align: top;\n",
              "    }\n",
              "\n",
              "    .dataframe thead th {\n",
              "        text-align: right;\n",
              "    }\n",
              "</style>\n",
              "<table border=\"1\" class=\"dataframe\">\n",
              "  <thead>\n",
              "    <tr style=\"text-align: right;\">\n",
              "      <th></th>\n",
              "      <th>Judul</th>\n",
              "      <th>Jenis</th>\n",
              "    </tr>\n",
              "  </thead>\n",
              "  <tbody>\n",
              "    <tr>\n",
              "      <th>count</th>\n",
              "      <td>1249</td>\n",
              "      <td>1249</td>\n",
              "    </tr>\n",
              "    <tr>\n",
              "      <th>unique</th>\n",
              "      <td>1249</td>\n",
              "      <td>29</td>\n",
              "    </tr>\n",
              "    <tr>\n",
              "      <th>top</th>\n",
              "      <td>Penyebab Wanita Gagal Raih Orgasme Saat Bercin...</td>\n",
              "      <td>Hot</td>\n",
              "    </tr>\n",
              "    <tr>\n",
              "      <th>freq</th>\n",
              "      <td>1</td>\n",
              "      <td>319</td>\n",
              "    </tr>\n",
              "  </tbody>\n",
              "</table>\n",
              "</div>"
            ],
            "text/plain": [
              "                                                    Judul Jenis\n",
              "count                                                1249  1249\n",
              "unique                                               1249    29\n",
              "top     Penyebab Wanita Gagal Raih Orgasme Saat Bercin...   Hot\n",
              "freq                                                    1   319"
            ]
          },
          "execution_count": 197,
          "metadata": {},
          "output_type": "execute_result"
        }
      ],
      "source": [
        "# menghilangkan data judul yang sama\n",
        "df.drop_duplicates(subset=\"Judul\", keep=False, inplace=True)\n",
        "df.describe()"
      ]
    },
    {
      "cell_type": "markdown",
      "id": "a9592cbf",
      "metadata": {},
      "source": [
        "# Case folding"
      ]
    },
    {
      "cell_type": "code",
      "execution_count": 198,
      "id": "d0135f48",
      "metadata": {},
      "outputs": [
        {
          "data": {
            "text/html": [
              "<div>\n",
              "<style scoped>\n",
              "    .dataframe tbody tr th:only-of-type {\n",
              "        vertical-align: middle;\n",
              "    }\n",
              "\n",
              "    .dataframe tbody tr th {\n",
              "        vertical-align: top;\n",
              "    }\n",
              "\n",
              "    .dataframe thead th {\n",
              "        text-align: right;\n",
              "    }\n",
              "</style>\n",
              "<table border=\"1\" class=\"dataframe\">\n",
              "  <thead>\n",
              "    <tr style=\"text-align: right;\">\n",
              "      <th></th>\n",
              "      <th>Judul</th>\n",
              "      <th>Jenis</th>\n",
              "    </tr>\n",
              "  </thead>\n",
              "  <tbody>\n",
              "    <tr>\n",
              "      <th>0</th>\n",
              "      <td>penyebab wanita gagal raih orgasme saat bercin...</td>\n",
              "      <td>health</td>\n",
              "    </tr>\n",
              "    <tr>\n",
              "      <th>1</th>\n",
              "      <td>6 potret perayaan ulang tahun okie agustina ke...</td>\n",
              "      <td>hot</td>\n",
              "    </tr>\n",
              "    <tr>\n",
              "      <th>3</th>\n",
              "      <td>ternyata pihak-pihak ini yang disebut punya bi...</td>\n",
              "      <td>crypto</td>\n",
              "    </tr>\n",
              "    <tr>\n",
              "      <th>4</th>\n",
              "      <td>rekomendasi film-film seru di bioskop sepanjan...</td>\n",
              "      <td>regional</td>\n",
              "    </tr>\n",
              "    <tr>\n",
              "      <th>5</th>\n",
              "      <td>manfaat sholat istikharah tata cara niat doa d...</td>\n",
              "      <td>regional</td>\n",
              "    </tr>\n",
              "  </tbody>\n",
              "</table>\n",
              "</div>"
            ],
            "text/plain": [
              "                                               Judul     Jenis\n",
              "0  penyebab wanita gagal raih orgasme saat bercin...    health\n",
              "1  6 potret perayaan ulang tahun okie agustina ke...       hot\n",
              "3  ternyata pihak-pihak ini yang disebut punya bi...    crypto\n",
              "4  rekomendasi film-film seru di bioskop sepanjan...  regional\n",
              "5  manfaat sholat istikharah tata cara niat doa d...  regional"
            ]
          },
          "execution_count": 198,
          "metadata": {},
          "output_type": "execute_result"
        }
      ],
      "source": [
        "# mengubah ke lower case\n",
        "df['Judul'] = df['Judul'].str.lower()\n",
        "df['Jenis'] = df['Jenis'].str.lower()\n",
        "\n",
        "df.head()"
      ]
    },
    {
      "cell_type": "code",
      "execution_count": 199,
      "id": "161dae7b",
      "metadata": {},
      "outputs": [
        {
          "name": "stderr",
          "output_type": "stream",
          "text": [
            "C:\\Users\\AKU\\AppData\\Local\\Temp\\ipykernel_3356\\2487329922.py:2: FutureWarning: The default value of regex will change from True to False in a future version.\n",
            "  df['Judul'] = df['Judul'].str.replace('\\d*', '')\n",
            "C:\\Users\\AKU\\AppData\\Local\\Temp\\ipykernel_3356\\2487329922.py:3: FutureWarning: The default value of regex will change from True to False in a future version.\n",
            "  df['Judul'] = df['Judul'].str.replace('[^\\w\\s]', ' ')\n"
          ]
        },
        {
          "data": {
            "text/html": [
              "<div>\n",
              "<style scoped>\n",
              "    .dataframe tbody tr th:only-of-type {\n",
              "        vertical-align: middle;\n",
              "    }\n",
              "\n",
              "    .dataframe tbody tr th {\n",
              "        vertical-align: top;\n",
              "    }\n",
              "\n",
              "    .dataframe thead th {\n",
              "        text-align: right;\n",
              "    }\n",
              "</style>\n",
              "<table border=\"1\" class=\"dataframe\">\n",
              "  <thead>\n",
              "    <tr style=\"text-align: right;\">\n",
              "      <th></th>\n",
              "      <th>Judul</th>\n",
              "      <th>Jenis</th>\n",
              "    </tr>\n",
              "  </thead>\n",
              "  <tbody>\n",
              "    <tr>\n",
              "      <th>0</th>\n",
              "      <td>penyebab wanita gagal raih orgasme saat bercin...</td>\n",
              "      <td>health</td>\n",
              "    </tr>\n",
              "    <tr>\n",
              "      <th>1</th>\n",
              "      <td>potret perayaan ulang tahun okie agustina ke  ...</td>\n",
              "      <td>hot</td>\n",
              "    </tr>\n",
              "    <tr>\n",
              "      <th>3</th>\n",
              "      <td>ternyata pihak pihak ini yang disebut punya bi...</td>\n",
              "      <td>crypto</td>\n",
              "    </tr>\n",
              "    <tr>\n",
              "      <th>4</th>\n",
              "      <td>rekomendasi film film seru di bioskop sepanjan...</td>\n",
              "      <td>regional</td>\n",
              "    </tr>\n",
              "    <tr>\n",
              "      <th>5</th>\n",
              "      <td>manfaat sholat istikharah tata cara niat doa d...</td>\n",
              "      <td>regional</td>\n",
              "    </tr>\n",
              "  </tbody>\n",
              "</table>\n",
              "</div>"
            ],
            "text/plain": [
              "                                               Judul     Jenis\n",
              "0  penyebab wanita gagal raih orgasme saat bercin...    health\n",
              "1  potret perayaan ulang tahun okie agustina ke  ...       hot\n",
              "3  ternyata pihak pihak ini yang disebut punya bi...    crypto\n",
              "4  rekomendasi film film seru di bioskop sepanjan...  regional\n",
              "5  manfaat sholat istikharah tata cara niat doa d...  regional"
            ]
          },
          "execution_count": 199,
          "metadata": {},
          "output_type": "execute_result"
        }
      ],
      "source": [
        "# menghilangkan karakter special dan numerik\n",
        "df['Judul'] = df['Judul'].str.replace('\\d*', '')\n",
        "df['Judul'] = df['Judul'].str.replace('[^\\w\\s]', ' ')\n",
        "df['Judul'] = df['Judul'].str.strip()\n",
        "df.head()"
      ]
    },
    {
      "cell_type": "markdown",
      "id": "3b6039e3",
      "metadata": {},
      "source": [
        "# Tokenizing and Stemming"
      ]
    },
    {
      "cell_type": "code",
      "execution_count": 200,
      "id": "846b9307",
      "metadata": {},
      "outputs": [
        {
          "data": {
            "text/html": [
              "<div>\n",
              "<style scoped>\n",
              "    .dataframe tbody tr th:only-of-type {\n",
              "        vertical-align: middle;\n",
              "    }\n",
              "\n",
              "    .dataframe tbody tr th {\n",
              "        vertical-align: top;\n",
              "    }\n",
              "\n",
              "    .dataframe thead th {\n",
              "        text-align: right;\n",
              "    }\n",
              "</style>\n",
              "<table border=\"1\" class=\"dataframe\">\n",
              "  <thead>\n",
              "    <tr style=\"text-align: right;\">\n",
              "      <th></th>\n",
              "      <th>Judul</th>\n",
              "      <th>Jenis</th>\n",
              "    </tr>\n",
              "  </thead>\n",
              "  <tbody>\n",
              "    <tr>\n",
              "      <th>0</th>\n",
              "      <td>sebab wanita gagal raih orgasme cinta salah sa...</td>\n",
              "      <td>health</td>\n",
              "    </tr>\n",
              "    <tr>\n",
              "      <th>1</th>\n",
              "      <td>potret raya ulang tahun okie agustina rias bik...</td>\n",
              "      <td>hot</td>\n",
              "    </tr>\n",
              "    <tr>\n",
              "      <th>3</th>\n",
              "      <td>nyata pihak pihak yang sebut punya bitcoin ban...</td>\n",
              "      <td>crypto</td>\n",
              "    </tr>\n",
              "    <tr>\n",
              "      <th>4</th>\n",
              "      <td>rekomendasi film film seru bioskop panjang sep...</td>\n",
              "      <td>regional</td>\n",
              "    </tr>\n",
              "    <tr>\n",
              "      <th>5</th>\n",
              "      <td>manfaat sholat istikharah tata cara niat doa w...</td>\n",
              "      <td>regional</td>\n",
              "    </tr>\n",
              "  </tbody>\n",
              "</table>\n",
              "</div>"
            ],
            "text/plain": [
              "                                               Judul     Jenis\n",
              "0  sebab wanita gagal raih orgasme cinta salah sa...    health\n",
              "1  potret raya ulang tahun okie agustina rias bik...       hot\n",
              "3  nyata pihak pihak yang sebut punya bitcoin ban...    crypto\n",
              "4  rekomendasi film film seru bioskop panjang sep...  regional\n",
              "5  manfaat sholat istikharah tata cara niat doa w...  regional"
            ]
          },
          "execution_count": 200,
          "metadata": {},
          "output_type": "execute_result"
        }
      ],
      "source": [
        "# stemming and tokenizing function to sastrawati\n",
        "def funSastrawati(val):\n",
        "    stop_factory = ArrayDictionary(StopWordRemoverFactory().get_stop_words())\n",
        "    str = StopWordRemover(stop_factory)\n",
        "    factory = StemmerFactory()\n",
        "    stemmer = factory.create_stemmer()\n",
        "    word = stemmer.stem(str.remove(val))\n",
        "    return word\n",
        "# Apply stemming and tokenizing\n",
        "df['Judul'] = df['Judul'].apply(funSastrawati)\n",
        "df.head()"
      ]
    },
    {
      "cell_type": "code",
      "execution_count": 235,
      "id": "c2661696",
      "metadata": {},
      "outputs": [
        {
          "data": {
            "text/plain": [
              "Judul      string\n",
              "Jenis    category\n",
              "dtype: object"
            ]
          },
          "execution_count": 235,
          "metadata": {},
          "output_type": "execute_result"
        }
      ],
      "source": [
        "df['Judul'] = df['Judul'].astype('string')\n",
        "df['Jenis'] = df['Jenis'].astype('category')\n",
        "df.dtypes"
      ]
    },
    {
      "cell_type": "code",
      "execution_count": 277,
      "id": "727aeb29",
      "metadata": {},
      "outputs": [
        {
          "data": {
            "text/plain": [
              "Jenis\n",
              "asian            0\n",
              "bisnis          53\n",
              "bola            28\n",
              "cek             11\n",
              "citizen6       103\n",
              "crypto           8\n",
              "dan              0\n",
              "disabilitas      2\n",
              "fashion          6\n",
              "global          57\n",
              "health         163\n",
              "hot            319\n",
              "indonesia        0\n",
              "islami          34\n",
              "jateng           3\n",
              "jatim            4\n",
              "kabar           54\n",
              "lifestyle       94\n",
              "news            38\n",
              "otomotif        30\n",
              "photo            8\n",
              "pileg            0\n",
              "pilkada          0\n",
              "regional        44\n",
              "saham            3\n",
              "showbiz        107\n",
              "surabaya         8\n",
              "tekno           62\n",
              "video            5\n",
              "dtype: int64"
            ]
          },
          "execution_count": 277,
          "metadata": {},
          "output_type": "execute_result"
        }
      ],
      "source": [
        "coba = df\n",
        "grouped = df.groupby('Jenis').size()\n",
        "# axis = grouped.plot(kind='bar')\n",
        "# plt.show()\n",
        "for name, show in zip(grouped.index, grouped):\n",
        "    if(show < 2):\n",
        "        coba.drop(coba.loc[coba['Jenis'] == name].index, inplace=True)\n",
        "coba.groupby('Jenis').size()"
      ]
    },
    {
      "cell_type": "code",
      "execution_count": 278,
      "id": "1c657dac",
      "metadata": {},
      "outputs": [
        {
          "data": {
            "text/plain": [
              "<1244x3256 sparse matrix of type '<class 'numpy.float64'>'\n",
              "\twith 9348 stored elements in Compressed Sparse Row format>"
            ]
          },
          "execution_count": 278,
          "metadata": {},
          "output_type": "execute_result"
        }
      ],
      "source": [
        "# tf df\n",
        "tf = TfidfVectorizer()\n",
        "kata = tf.fit_transform(coba['Judul'].astype('U'))\n",
        "kata"
      ]
    },
    {
      "cell_type": "code",
      "execution_count": 279,
      "id": "60b1ca28",
      "metadata": {},
      "outputs": [],
      "source": [
        "# Spliting data \n",
        "\n",
        "X_train, X_test, y_train, y_test = train_test_split(kata, df['Judul'], test_size=0.2, random_state = 42)"
      ]
    },
    {
      "cell_type": "code",
      "execution_count": 280,
      "id": "d088a50b",
      "metadata": {},
      "outputs": [
        {
          "ename": "ValueError",
          "evalue": "Cannot center sparse matrices: pass `with_mean=False` instead. See docstring for motivation and alternatives.",
          "output_type": "error",
          "traceback": [
            "\u001b[1;31m---------------------------------------------------------------------------\u001b[0m",
            "\u001b[1;31mValueError\u001b[0m                                Traceback (most recent call last)",
            "Cell \u001b[1;32mIn [280], line 3\u001b[0m\n\u001b[0;32m      1\u001b[0m scaler \u001b[39m=\u001b[39m StandardScaler()\n\u001b[0;32m      2\u001b[0m \u001b[39m# Fit only on X_train\u001b[39;00m\n\u001b[1;32m----> 3\u001b[0m scaler\u001b[39m.\u001b[39;49mfit(X_train)\n\u001b[0;32m      5\u001b[0m \u001b[39m# Scale both X_train and X_test\u001b[39;00m\n\u001b[0;32m      6\u001b[0m X_train \u001b[39m=\u001b[39m scaler\u001b[39m.\u001b[39mtransform(X_train)\n",
            "File \u001b[1;32m~\\AppData\\Roaming\\Python\\Python310\\site-packages\\sklearn\\preprocessing\\_data.py:809\u001b[0m, in \u001b[0;36mStandardScaler.fit\u001b[1;34m(self, X, y, sample_weight)\u001b[0m\n\u001b[0;32m    807\u001b[0m \u001b[39m# Reset internal state before fitting\u001b[39;00m\n\u001b[0;32m    808\u001b[0m \u001b[39mself\u001b[39m\u001b[39m.\u001b[39m_reset()\n\u001b[1;32m--> 809\u001b[0m \u001b[39mreturn\u001b[39;00m \u001b[39mself\u001b[39;49m\u001b[39m.\u001b[39;49mpartial_fit(X, y, sample_weight)\n",
            "File \u001b[1;32m~\\AppData\\Roaming\\Python\\Python310\\site-packages\\sklearn\\preprocessing\\_data.py:872\u001b[0m, in \u001b[0;36mStandardScaler.partial_fit\u001b[1;34m(self, X, y, sample_weight)\u001b[0m\n\u001b[0;32m    870\u001b[0m \u001b[39mif\u001b[39;00m sparse\u001b[39m.\u001b[39missparse(X):\n\u001b[0;32m    871\u001b[0m     \u001b[39mif\u001b[39;00m \u001b[39mself\u001b[39m\u001b[39m.\u001b[39mwith_mean:\n\u001b[1;32m--> 872\u001b[0m         \u001b[39mraise\u001b[39;00m \u001b[39mValueError\u001b[39;00m(\n\u001b[0;32m    873\u001b[0m             \u001b[39m\"\u001b[39m\u001b[39mCannot center sparse matrices: pass `with_mean=False` \u001b[39m\u001b[39m\"\u001b[39m\n\u001b[0;32m    874\u001b[0m             \u001b[39m\"\u001b[39m\u001b[39minstead. See docstring for motivation and alternatives.\u001b[39m\u001b[39m\"\u001b[39m\n\u001b[0;32m    875\u001b[0m         )\n\u001b[0;32m    876\u001b[0m     sparse_constructor \u001b[39m=\u001b[39m (\n\u001b[0;32m    877\u001b[0m         sparse\u001b[39m.\u001b[39mcsr_matrix \u001b[39mif\u001b[39;00m X\u001b[39m.\u001b[39mformat \u001b[39m==\u001b[39m \u001b[39m\"\u001b[39m\u001b[39mcsr\u001b[39m\u001b[39m\"\u001b[39m \u001b[39melse\u001b[39;00m sparse\u001b[39m.\u001b[39mcsc_matrix\n\u001b[0;32m    878\u001b[0m     )\n\u001b[0;32m    880\u001b[0m     \u001b[39mif\u001b[39;00m \u001b[39mself\u001b[39m\u001b[39m.\u001b[39mwith_std:\n\u001b[0;32m    881\u001b[0m         \u001b[39m# First pass\u001b[39;00m\n",
            "\u001b[1;31mValueError\u001b[0m: Cannot center sparse matrices: pass `with_mean=False` instead. See docstring for motivation and alternatives."
          ]
        }
      ],
      "source": [
        "\n",
        "scaler = StandardScaler()\n",
        "# Fit only on X_train\n",
        "scaler.fit(X_train)\n",
        "\n",
        "# Scale both X_train and X_test\n",
        "X_train = scaler.transform(X_train)\n",
        "X_test = scaler.transform(X_test)"
      ]
    }
  ],
  "metadata": {
    "colab": {
      "provenance": []
    },
    "kernelspec": {
      "display_name": "Python 3.10.2 64-bit",
      "language": "python",
      "name": "python3"
    },
    "language_info": {
      "codemirror_mode": {
        "name": "ipython",
        "version": 3
      },
      "file_extension": ".py",
      "mimetype": "text/x-python",
      "name": "python",
      "nbconvert_exporter": "python",
      "pygments_lexer": "ipython3",
      "version": "3.10.2"
    },
    "vscode": {
      "interpreter": {
        "hash": "26de051ba29f2982a8de78e945f0abaf191376122a1563185a90213a26c5da77"
      }
    }
  },
  "nbformat": 4,
  "nbformat_minor": 5
}
