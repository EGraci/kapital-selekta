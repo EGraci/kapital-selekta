{
  "cells": [
    {
      "cell_type": "markdown",
      "id": "f6d8f9fa",
      "metadata": {},
      "source": [
        "# Liputan 6\n",
        "## Klasifikasi jenis berita berdasarkan judul"
      ]
    },
    {
      "cell_type": "code",
      "execution_count": 1,
      "id": "c0bc7ec7",
      "metadata": {},
      "outputs": [
        {
          "name": "stdout",
          "output_type": "stream",
          "text": [
            "Defaulting to user installation because normal site-packages is not writeable\n",
            "Requirement already satisfied: pandas in c:\\users\\aku\\appdata\\roaming\\python\\python310\\site-packages (1.5.1)\n",
            "Requirement already satisfied: python-dateutil>=2.8.1 in c:\\users\\aku\\appdata\\roaming\\python\\python310\\site-packages (from pandas) (2.8.2)\n",
            "Requirement already satisfied: numpy>=1.21.0 in c:\\users\\aku\\appdata\\roaming\\python\\python310\\site-packages (from pandas) (1.23.4)\n",
            "Requirement already satisfied: pytz>=2020.1 in c:\\users\\aku\\appdata\\roaming\\python\\python310\\site-packages (from pandas) (2022.5)\n",
            "Requirement already satisfied: six>=1.5 in c:\\users\\aku\\appdata\\roaming\\python\\python310\\site-packages (from python-dateutil>=2.8.1->pandas) (1.16.0)\n",
            "Defaulting to user installation because normal site-packages is not writeable\n",
            "Requirement already satisfied: numpy in c:\\users\\aku\\appdata\\roaming\\python\\python310\\site-packages (1.23.4)\n",
            "Defaulting to user installation because normal site-packages is not writeable\n",
            "Requirement already satisfied: nltk in c:\\users\\aku\\appdata\\roaming\\python\\python310\\site-packages (3.7)\n",
            "Requirement already satisfied: joblib in c:\\users\\aku\\appdata\\roaming\\python\\python310\\site-packages (from nltk) (1.2.0)\n",
            "Requirement already satisfied: tqdm in c:\\users\\aku\\appdata\\roaming\\python\\python310\\site-packages (from nltk) (4.64.1)\n",
            "Requirement already satisfied: click in c:\\users\\aku\\appdata\\roaming\\python\\python310\\site-packages (from nltk) (8.1.3)\n",
            "Requirement already satisfied: regex>=2021.8.3 in c:\\users\\aku\\appdata\\roaming\\python\\python310\\site-packages (from nltk) (2022.10.31)\n",
            "Requirement already satisfied: colorama in c:\\users\\aku\\appdata\\roaming\\python\\python310\\site-packages (from click->nltk) (0.4.5)\n",
            "Defaulting to user installation because normal site-packages is not writeable\n",
            "Requirement already satisfied: Sastrawi in c:\\users\\aku\\appdata\\roaming\\python\\python310\\site-packages (1.0.1)\n",
            "Defaulting to user installation because normal site-packages is not writeable\n",
            "Requirement already satisfied: sklearn in c:\\users\\aku\\appdata\\roaming\\python\\python310\\site-packages (0.0.post1)\n"
          ]
        }
      ],
      "source": [
        "# install libarary\n",
        "! pip install pandas\n",
        "! pip install numpy\n",
        "! pip install nltk\n",
        "! pip install Sastrawi\n",
        "! pip install sklearn\n"
      ]
    },
    {
      "cell_type": "code",
      "execution_count": 3,
      "id": "55ec4964",
      "metadata": {
        "id": "55ec4964"
      },
      "outputs": [],
      "source": [
        "# import library\n",
        "\n",
        "import pandas as pd\n",
        "import numpy as np\n",
        "from nltk.tokenize import word_tokenize\n",
        "from nltk.tokenize import sent_tokenize\n",
        "from Sastrawi.Stemmer.StemmerFactory import StemmerFactory\n",
        "from Sastrawi.StopWordRemover.StopWordRemoverFactory import StopWordRemoverFactory, StopWordRemover, ArrayDictionary\n",
        "from sklearn.feature_extraction.text import CountVectorizer\n",
        "from sklearn.feature_extraction.text import TfidfVectorizer\n",
        "from sklearn.model_selection import train_test_split\n",
        "from sklearn.preprocessing import StandardScaler\n",
        "from sklearn.neighbors import KNeighborsClassifier\n",
        "import matplotlib.pyplot as plt\n",
        "# nltk.download()"
      ]
    },
    {
      "cell_type": "code",
      "execution_count": 4,
      "id": "7fde0acf",
      "metadata": {
        "id": "7fde0acf",
        "outputId": "c7370cc9-5817-47e9-b78f-74e65699861b"
      },
      "outputs": [
        {
          "data": {
            "text/html": [
              "<div>\n",
              "<style scoped>\n",
              "    .dataframe tbody tr th:only-of-type {\n",
              "        vertical-align: middle;\n",
              "    }\n",
              "\n",
              "    .dataframe tbody tr th {\n",
              "        vertical-align: top;\n",
              "    }\n",
              "\n",
              "    .dataframe thead th {\n",
              "        text-align: right;\n",
              "    }\n",
              "</style>\n",
              "<table border=\"1\" class=\"dataframe\">\n",
              "  <thead>\n",
              "    <tr style=\"text-align: right;\">\n",
              "      <th></th>\n",
              "      <th>Judul</th>\n",
              "      <th>Jenis</th>\n",
              "      <th>User Aktif</th>\n",
              "    </tr>\n",
              "  </thead>\n",
              "  <tbody>\n",
              "    <tr>\n",
              "      <th>0</th>\n",
              "      <td>Penyebab Wanita Gagal Raih Orgasme Saat Bercin...</td>\n",
              "      <td>Health</td>\n",
              "      <td>9</td>\n",
              "    </tr>\n",
              "    <tr>\n",
              "      <th>1</th>\n",
              "      <td>6 Potret Perayaan Ulang Tahun Okie Agustina ke...</td>\n",
              "      <td>Hot</td>\n",
              "      <td>7</td>\n",
              "    </tr>\n",
              "    <tr>\n",
              "      <th>2</th>\n",
              "      <td>Bacaan Doa Setelah Sholat Tahajud Rasulullah S...</td>\n",
              "      <td>Islami</td>\n",
              "      <td>7</td>\n",
              "    </tr>\n",
              "    <tr>\n",
              "      <th>3</th>\n",
              "      <td>Ternyata Pihak-Pihak Ini yang Disebut Punya Bi...</td>\n",
              "      <td>Crypto</td>\n",
              "      <td>6</td>\n",
              "    </tr>\n",
              "    <tr>\n",
              "      <th>4</th>\n",
              "      <td>Rekomendasi Film-Film Seru di Bioskop Sepanjan...</td>\n",
              "      <td>Regional</td>\n",
              "      <td>6</td>\n",
              "    </tr>\n",
              "  </tbody>\n",
              "</table>\n",
              "</div>"
            ],
            "text/plain": [
              "                                               Judul     Jenis  User Aktif\n",
              "0  Penyebab Wanita Gagal Raih Orgasme Saat Bercin...    Health           9\n",
              "1  6 Potret Perayaan Ulang Tahun Okie Agustina ke...       Hot           7\n",
              "2  Bacaan Doa Setelah Sholat Tahajud Rasulullah S...    Islami           7\n",
              "3  Ternyata Pihak-Pihak Ini yang Disebut Punya Bi...    Crypto           6\n",
              "4  Rekomendasi Film-Film Seru di Bioskop Sepanjan...  Regional           6"
            ]
          },
          "execution_count": 4,
          "metadata": {},
          "output_type": "execute_result"
        }
      ],
      "source": [
        "# load data\n",
        "\n",
        "df = pd.read_csv(\"raw.csv\")\n",
        "df.head()"
      ]
    },
    {
      "cell_type": "code",
      "execution_count": 5,
      "id": "49ade5e9",
      "metadata": {
        "id": "49ade5e9"
      },
      "outputs": [
        {
          "data": {
            "text/html": [
              "<div>\n",
              "<style scoped>\n",
              "    .dataframe tbody tr th:only-of-type {\n",
              "        vertical-align: middle;\n",
              "    }\n",
              "\n",
              "    .dataframe tbody tr th {\n",
              "        vertical-align: top;\n",
              "    }\n",
              "\n",
              "    .dataframe thead th {\n",
              "        text-align: right;\n",
              "    }\n",
              "</style>\n",
              "<table border=\"1\" class=\"dataframe\">\n",
              "  <thead>\n",
              "    <tr style=\"text-align: right;\">\n",
              "      <th></th>\n",
              "      <th>Judul</th>\n",
              "      <th>Jenis</th>\n",
              "    </tr>\n",
              "  </thead>\n",
              "  <tbody>\n",
              "    <tr>\n",
              "      <th>0</th>\n",
              "      <td>Penyebab Wanita Gagal Raih Orgasme Saat Bercin...</td>\n",
              "      <td>Health</td>\n",
              "    </tr>\n",
              "    <tr>\n",
              "      <th>1</th>\n",
              "      <td>6 Potret Perayaan Ulang Tahun Okie Agustina ke...</td>\n",
              "      <td>Hot</td>\n",
              "    </tr>\n",
              "    <tr>\n",
              "      <th>2</th>\n",
              "      <td>Bacaan Doa Setelah Sholat Tahajud Rasulullah S...</td>\n",
              "      <td>Islami</td>\n",
              "    </tr>\n",
              "    <tr>\n",
              "      <th>3</th>\n",
              "      <td>Ternyata Pihak-Pihak Ini yang Disebut Punya Bi...</td>\n",
              "      <td>Crypto</td>\n",
              "    </tr>\n",
              "    <tr>\n",
              "      <th>4</th>\n",
              "      <td>Rekomendasi Film-Film Seru di Bioskop Sepanjan...</td>\n",
              "      <td>Regional</td>\n",
              "    </tr>\n",
              "  </tbody>\n",
              "</table>\n",
              "</div>"
            ],
            "text/plain": [
              "                                               Judul     Jenis\n",
              "0  Penyebab Wanita Gagal Raih Orgasme Saat Bercin...    Health\n",
              "1  6 Potret Perayaan Ulang Tahun Okie Agustina ke...       Hot\n",
              "2  Bacaan Doa Setelah Sholat Tahajud Rasulullah S...    Islami\n",
              "3  Ternyata Pihak-Pihak Ini yang Disebut Punya Bi...    Crypto\n",
              "4  Rekomendasi Film-Film Seru di Bioskop Sepanjan...  Regional"
            ]
          },
          "execution_count": 5,
          "metadata": {},
          "output_type": "execute_result"
        }
      ],
      "source": [
        "# memilih kolom-kolom yang akan di drop \n",
        "\n",
        "to_drop = ['User Aktif']\n",
        "\n",
        "# melakukan drop pada data yang dipilih\n",
        "\n",
        "df.drop(to_drop, inplace=True, axis=1)\n",
        "\n",
        "# Hasil penghilenang kolom\n",
        "df.head()"
      ]
    },
    {
      "cell_type": "code",
      "execution_count": 6,
      "id": "fea27921",
      "metadata": {
        "id": "fea27921",
        "outputId": "661c161f-7484-406f-ec28-04b842ee5299",
        "scrolled": true
      },
      "outputs": [
        {
          "data": {
            "text/html": [
              "<div>\n",
              "<style scoped>\n",
              "    .dataframe tbody tr th:only-of-type {\n",
              "        vertical-align: middle;\n",
              "    }\n",
              "\n",
              "    .dataframe tbody tr th {\n",
              "        vertical-align: top;\n",
              "    }\n",
              "\n",
              "    .dataframe thead th {\n",
              "        text-align: right;\n",
              "    }\n",
              "</style>\n",
              "<table border=\"1\" class=\"dataframe\">\n",
              "  <thead>\n",
              "    <tr style=\"text-align: right;\">\n",
              "      <th></th>\n",
              "      <th>Judul</th>\n",
              "      <th>Jenis</th>\n",
              "    </tr>\n",
              "  </thead>\n",
              "  <tbody>\n",
              "    <tr>\n",
              "      <th>count</th>\n",
              "      <td>1350</td>\n",
              "      <td>1357</td>\n",
              "    </tr>\n",
              "    <tr>\n",
              "      <th>unique</th>\n",
              "      <td>1296</td>\n",
              "      <td>35</td>\n",
              "    </tr>\n",
              "    <tr>\n",
              "      <th>top</th>\n",
              "      <td>Rekam Jejak Fallincy Mbak Topi Subak Musuh Ber...</td>\n",
              "      <td>Hot</td>\n",
              "    </tr>\n",
              "    <tr>\n",
              "      <th>freq</th>\n",
              "      <td>5</td>\n",
              "      <td>356</td>\n",
              "    </tr>\n",
              "  </tbody>\n",
              "</table>\n",
              "</div>"
            ],
            "text/plain": [
              "                                                    Judul Jenis\n",
              "count                                                1350  1357\n",
              "unique                                               1296    35\n",
              "top     Rekam Jejak Fallincy Mbak Topi Subak Musuh Ber...   Hot\n",
              "freq                                                    5   356"
            ]
          },
          "execution_count": 6,
          "metadata": {},
          "output_type": "execute_result"
        }
      ],
      "source": [
        "# melihat statistik dasar \n",
        "\n",
        "df.describe()"
      ]
    },
    {
      "cell_type": "code",
      "execution_count": 7,
      "id": "dac3843c",
      "metadata": {},
      "outputs": [
        {
          "data": {
            "text/html": [
              "<div>\n",
              "<style scoped>\n",
              "    .dataframe tbody tr th:only-of-type {\n",
              "        vertical-align: middle;\n",
              "    }\n",
              "\n",
              "    .dataframe tbody tr th {\n",
              "        vertical-align: top;\n",
              "    }\n",
              "\n",
              "    .dataframe thead th {\n",
              "        text-align: right;\n",
              "    }\n",
              "</style>\n",
              "<table border=\"1\" class=\"dataframe\">\n",
              "  <thead>\n",
              "    <tr style=\"text-align: right;\">\n",
              "      <th></th>\n",
              "      <th>Judul</th>\n",
              "      <th>Jenis</th>\n",
              "    </tr>\n",
              "  </thead>\n",
              "  <tbody>\n",
              "    <tr>\n",
              "      <th>count</th>\n",
              "      <td>1249</td>\n",
              "      <td>1249</td>\n",
              "    </tr>\n",
              "    <tr>\n",
              "      <th>unique</th>\n",
              "      <td>1249</td>\n",
              "      <td>29</td>\n",
              "    </tr>\n",
              "    <tr>\n",
              "      <th>top</th>\n",
              "      <td>Penyebab Wanita Gagal Raih Orgasme Saat Bercin...</td>\n",
              "      <td>Hot</td>\n",
              "    </tr>\n",
              "    <tr>\n",
              "      <th>freq</th>\n",
              "      <td>1</td>\n",
              "      <td>319</td>\n",
              "    </tr>\n",
              "  </tbody>\n",
              "</table>\n",
              "</div>"
            ],
            "text/plain": [
              "                                                    Judul Jenis\n",
              "count                                                1249  1249\n",
              "unique                                               1249    29\n",
              "top     Penyebab Wanita Gagal Raih Orgasme Saat Bercin...   Hot\n",
              "freq                                                    1   319"
            ]
          },
          "execution_count": 7,
          "metadata": {},
          "output_type": "execute_result"
        }
      ],
      "source": [
        "# menghilangkan data judul yang sama\n",
        "df.drop_duplicates(subset=\"Judul\", keep=False, inplace=True)\n",
        "df.describe()"
      ]
    },
    {
      "cell_type": "markdown",
      "id": "a9592cbf",
      "metadata": {},
      "source": [
        "# Case folding"
      ]
    },
    {
      "cell_type": "code",
      "execution_count": 8,
      "id": "d0135f48",
      "metadata": {},
      "outputs": [
        {
          "data": {
            "text/html": [
              "<div>\n",
              "<style scoped>\n",
              "    .dataframe tbody tr th:only-of-type {\n",
              "        vertical-align: middle;\n",
              "    }\n",
              "\n",
              "    .dataframe tbody tr th {\n",
              "        vertical-align: top;\n",
              "    }\n",
              "\n",
              "    .dataframe thead th {\n",
              "        text-align: right;\n",
              "    }\n",
              "</style>\n",
              "<table border=\"1\" class=\"dataframe\">\n",
              "  <thead>\n",
              "    <tr style=\"text-align: right;\">\n",
              "      <th></th>\n",
              "      <th>Judul</th>\n",
              "      <th>Jenis</th>\n",
              "    </tr>\n",
              "  </thead>\n",
              "  <tbody>\n",
              "    <tr>\n",
              "      <th>0</th>\n",
              "      <td>penyebab wanita gagal raih orgasme saat bercin...</td>\n",
              "      <td>health</td>\n",
              "    </tr>\n",
              "    <tr>\n",
              "      <th>1</th>\n",
              "      <td>6 potret perayaan ulang tahun okie agustina ke...</td>\n",
              "      <td>hot</td>\n",
              "    </tr>\n",
              "    <tr>\n",
              "      <th>3</th>\n",
              "      <td>ternyata pihak-pihak ini yang disebut punya bi...</td>\n",
              "      <td>crypto</td>\n",
              "    </tr>\n",
              "    <tr>\n",
              "      <th>4</th>\n",
              "      <td>rekomendasi film-film seru di bioskop sepanjan...</td>\n",
              "      <td>regional</td>\n",
              "    </tr>\n",
              "    <tr>\n",
              "      <th>5</th>\n",
              "      <td>manfaat sholat istikharah tata cara niat doa d...</td>\n",
              "      <td>regional</td>\n",
              "    </tr>\n",
              "  </tbody>\n",
              "</table>\n",
              "</div>"
            ],
            "text/plain": [
              "                                               Judul     Jenis\n",
              "0  penyebab wanita gagal raih orgasme saat bercin...    health\n",
              "1  6 potret perayaan ulang tahun okie agustina ke...       hot\n",
              "3  ternyata pihak-pihak ini yang disebut punya bi...    crypto\n",
              "4  rekomendasi film-film seru di bioskop sepanjan...  regional\n",
              "5  manfaat sholat istikharah tata cara niat doa d...  regional"
            ]
          },
          "execution_count": 8,
          "metadata": {},
          "output_type": "execute_result"
        }
      ],
      "source": [
        "# mengubah ke lower case\n",
        "df['Judul'] = df['Judul'].str.lower()\n",
        "df['Jenis'] = df['Jenis'].str.lower()\n",
        "\n",
        "df.head()"
      ]
    },
    {
      "cell_type": "code",
      "execution_count": 9,
      "id": "161dae7b",
      "metadata": {},
      "outputs": [
        {
          "name": "stderr",
          "output_type": "stream",
          "text": [
            "C:\\Users\\AKU\\AppData\\Local\\Temp\\ipykernel_13148\\2487329922.py:2: FutureWarning: The default value of regex will change from True to False in a future version.\n",
            "  df['Judul'] = df['Judul'].str.replace('\\d*', '')\n",
            "C:\\Users\\AKU\\AppData\\Local\\Temp\\ipykernel_13148\\2487329922.py:3: FutureWarning: The default value of regex will change from True to False in a future version.\n",
            "  df['Judul'] = df['Judul'].str.replace('[^\\w\\s]', ' ')\n"
          ]
        },
        {
          "data": {
            "text/html": [
              "<div>\n",
              "<style scoped>\n",
              "    .dataframe tbody tr th:only-of-type {\n",
              "        vertical-align: middle;\n",
              "    }\n",
              "\n",
              "    .dataframe tbody tr th {\n",
              "        vertical-align: top;\n",
              "    }\n",
              "\n",
              "    .dataframe thead th {\n",
              "        text-align: right;\n",
              "    }\n",
              "</style>\n",
              "<table border=\"1\" class=\"dataframe\">\n",
              "  <thead>\n",
              "    <tr style=\"text-align: right;\">\n",
              "      <th></th>\n",
              "      <th>Judul</th>\n",
              "      <th>Jenis</th>\n",
              "    </tr>\n",
              "  </thead>\n",
              "  <tbody>\n",
              "    <tr>\n",
              "      <th>0</th>\n",
              "      <td>penyebab wanita gagal raih orgasme saat bercin...</td>\n",
              "      <td>health</td>\n",
              "    </tr>\n",
              "    <tr>\n",
              "      <th>1</th>\n",
              "      <td>potret perayaan ulang tahun okie agustina ke  ...</td>\n",
              "      <td>hot</td>\n",
              "    </tr>\n",
              "    <tr>\n",
              "      <th>3</th>\n",
              "      <td>ternyata pihak pihak ini yang disebut punya bi...</td>\n",
              "      <td>crypto</td>\n",
              "    </tr>\n",
              "    <tr>\n",
              "      <th>4</th>\n",
              "      <td>rekomendasi film film seru di bioskop sepanjan...</td>\n",
              "      <td>regional</td>\n",
              "    </tr>\n",
              "    <tr>\n",
              "      <th>5</th>\n",
              "      <td>manfaat sholat istikharah tata cara niat doa d...</td>\n",
              "      <td>regional</td>\n",
              "    </tr>\n",
              "  </tbody>\n",
              "</table>\n",
              "</div>"
            ],
            "text/plain": [
              "                                               Judul     Jenis\n",
              "0  penyebab wanita gagal raih orgasme saat bercin...    health\n",
              "1  potret perayaan ulang tahun okie agustina ke  ...       hot\n",
              "3  ternyata pihak pihak ini yang disebut punya bi...    crypto\n",
              "4  rekomendasi film film seru di bioskop sepanjan...  regional\n",
              "5  manfaat sholat istikharah tata cara niat doa d...  regional"
            ]
          },
          "execution_count": 9,
          "metadata": {},
          "output_type": "execute_result"
        }
      ],
      "source": [
        "# menghilangkan karakter special dan numerik\n",
        "df['Judul'] = df['Judul'].str.replace('\\d*', '')\n",
        "df['Judul'] = df['Judul'].str.replace('[^\\w\\s]', ' ')\n",
        "df['Judul'] = df['Judul'].str.strip()\n",
        "df.head()"
      ]
    },
    {
      "cell_type": "markdown",
      "id": "3b6039e3",
      "metadata": {},
      "source": [
        "# Tokenizing and Stemming"
      ]
    },
    {
      "cell_type": "code",
      "execution_count": 10,
      "id": "846b9307",
      "metadata": {},
      "outputs": [
        {
          "data": {
            "text/html": [
              "<div>\n",
              "<style scoped>\n",
              "    .dataframe tbody tr th:only-of-type {\n",
              "        vertical-align: middle;\n",
              "    }\n",
              "\n",
              "    .dataframe tbody tr th {\n",
              "        vertical-align: top;\n",
              "    }\n",
              "\n",
              "    .dataframe thead th {\n",
              "        text-align: right;\n",
              "    }\n",
              "</style>\n",
              "<table border=\"1\" class=\"dataframe\">\n",
              "  <thead>\n",
              "    <tr style=\"text-align: right;\">\n",
              "      <th></th>\n",
              "      <th>Judul</th>\n",
              "      <th>Jenis</th>\n",
              "    </tr>\n",
              "  </thead>\n",
              "  <tbody>\n",
              "    <tr>\n",
              "      <th>0</th>\n",
              "      <td>sebab wanita gagal raih orgasme cinta salah sa...</td>\n",
              "      <td>health</td>\n",
              "    </tr>\n",
              "    <tr>\n",
              "      <th>1</th>\n",
              "      <td>potret raya ulang tahun okie agustina rias bik...</td>\n",
              "      <td>hot</td>\n",
              "    </tr>\n",
              "    <tr>\n",
              "      <th>3</th>\n",
              "      <td>nyata pihak pihak yang sebut punya bitcoin ban...</td>\n",
              "      <td>crypto</td>\n",
              "    </tr>\n",
              "    <tr>\n",
              "      <th>4</th>\n",
              "      <td>rekomendasi film film seru bioskop panjang sep...</td>\n",
              "      <td>regional</td>\n",
              "    </tr>\n",
              "    <tr>\n",
              "      <th>5</th>\n",
              "      <td>manfaat sholat istikharah tata cara niat doa w...</td>\n",
              "      <td>regional</td>\n",
              "    </tr>\n",
              "  </tbody>\n",
              "</table>\n",
              "</div>"
            ],
            "text/plain": [
              "                                               Judul     Jenis\n",
              "0  sebab wanita gagal raih orgasme cinta salah sa...    health\n",
              "1  potret raya ulang tahun okie agustina rias bik...       hot\n",
              "3  nyata pihak pihak yang sebut punya bitcoin ban...    crypto\n",
              "4  rekomendasi film film seru bioskop panjang sep...  regional\n",
              "5  manfaat sholat istikharah tata cara niat doa w...  regional"
            ]
          },
          "execution_count": 10,
          "metadata": {},
          "output_type": "execute_result"
        }
      ],
      "source": [
        "# stemming and tokenizing function to sastrawati\n",
        "def funSastrawati(val):\n",
        "    stop_factory = ArrayDictionary(StopWordRemoverFactory().get_stop_words())\n",
        "    str = StopWordRemover(stop_factory)\n",
        "    factory = StemmerFactory()\n",
        "    stemmer = factory.create_stemmer()\n",
        "    word = stemmer.stem(str.remove(val))\n",
        "    return word\n",
        "# Apply stemming and tokenizing\n",
        "df['Judul'] = df['Judul'].apply(funSastrawati)\n",
        "df.head()"
      ]
    },
    {
      "cell_type": "code",
      "execution_count": 11,
      "id": "c2661696",
      "metadata": {},
      "outputs": [
        {
          "data": {
            "text/plain": [
              "Judul      string\n",
              "Jenis    category\n",
              "dtype: object"
            ]
          },
          "execution_count": 11,
          "metadata": {},
          "output_type": "execute_result"
        }
      ],
      "source": [
        "df['Judul'] = df['Judul'].astype('string')\n",
        "df['Jenis'] = df['Jenis'].astype('category')\n",
        "df.dtypes"
      ]
    },
    {
      "cell_type": "code",
      "execution_count": 21,
      "id": "1c657dac",
      "metadata": {},
      "outputs": [
        {
          "data": {
            "text/plain": [
              "<1244x3256 sparse matrix of type '<class 'numpy.float64'>'\n",
              "\twith 9348 stored elements in Compressed Sparse Row format>"
            ]
          },
          "execution_count": 21,
          "metadata": {},
          "output_type": "execute_result"
        }
      ],
      "source": [
        "# tf df\n",
        "tf = TfidfVectorizer()\n",
        "kata = tf.fit_transform(df['Judul'].astype('U'))\n",
        "kata"
      ]
    },
    {
      "cell_type": "code",
      "execution_count": 22,
      "id": "60b1ca28",
      "metadata": {},
      "outputs": [],
      "source": [
        "# Spliting data \n",
        "\n",
        "X_train, X_test, y_train, y_test = train_test_split(kata, df['Judul'], test_size=0.2, random_state = 42)"
      ]
    },
    {
      "cell_type": "code",
      "execution_count": 23,
      "id": "37837708",
      "metadata": {},
      "outputs": [
        {
          "data": {
            "text/html": [
              "<style>#sk-container-id-2 {color: black;background-color: white;}#sk-container-id-2 pre{padding: 0;}#sk-container-id-2 div.sk-toggleable {background-color: white;}#sk-container-id-2 label.sk-toggleable__label {cursor: pointer;display: block;width: 100%;margin-bottom: 0;padding: 0.3em;box-sizing: border-box;text-align: center;}#sk-container-id-2 label.sk-toggleable__label-arrow:before {content: \"▸\";float: left;margin-right: 0.25em;color: #696969;}#sk-container-id-2 label.sk-toggleable__label-arrow:hover:before {color: black;}#sk-container-id-2 div.sk-estimator:hover label.sk-toggleable__label-arrow:before {color: black;}#sk-container-id-2 div.sk-toggleable__content {max-height: 0;max-width: 0;overflow: hidden;text-align: left;background-color: #f0f8ff;}#sk-container-id-2 div.sk-toggleable__content pre {margin: 0.2em;color: black;border-radius: 0.25em;background-color: #f0f8ff;}#sk-container-id-2 input.sk-toggleable__control:checked~div.sk-toggleable__content {max-height: 200px;max-width: 100%;overflow: auto;}#sk-container-id-2 input.sk-toggleable__control:checked~label.sk-toggleable__label-arrow:before {content: \"▾\";}#sk-container-id-2 div.sk-estimator input.sk-toggleable__control:checked~label.sk-toggleable__label {background-color: #d4ebff;}#sk-container-id-2 div.sk-label input.sk-toggleable__control:checked~label.sk-toggleable__label {background-color: #d4ebff;}#sk-container-id-2 input.sk-hidden--visually {border: 0;clip: rect(1px 1px 1px 1px);clip: rect(1px, 1px, 1px, 1px);height: 1px;margin: -1px;overflow: hidden;padding: 0;position: absolute;width: 1px;}#sk-container-id-2 div.sk-estimator {font-family: monospace;background-color: #f0f8ff;border: 1px dotted black;border-radius: 0.25em;box-sizing: border-box;margin-bottom: 0.5em;}#sk-container-id-2 div.sk-estimator:hover {background-color: #d4ebff;}#sk-container-id-2 div.sk-parallel-item::after {content: \"\";width: 100%;border-bottom: 1px solid gray;flex-grow: 1;}#sk-container-id-2 div.sk-label:hover label.sk-toggleable__label {background-color: #d4ebff;}#sk-container-id-2 div.sk-serial::before {content: \"\";position: absolute;border-left: 1px solid gray;box-sizing: border-box;top: 0;bottom: 0;left: 50%;z-index: 0;}#sk-container-id-2 div.sk-serial {display: flex;flex-direction: column;align-items: center;background-color: white;padding-right: 0.2em;padding-left: 0.2em;position: relative;}#sk-container-id-2 div.sk-item {position: relative;z-index: 1;}#sk-container-id-2 div.sk-parallel {display: flex;align-items: stretch;justify-content: center;background-color: white;position: relative;}#sk-container-id-2 div.sk-item::before, #sk-container-id-2 div.sk-parallel-item::before {content: \"\";position: absolute;border-left: 1px solid gray;box-sizing: border-box;top: 0;bottom: 0;left: 50%;z-index: -1;}#sk-container-id-2 div.sk-parallel-item {display: flex;flex-direction: column;z-index: 1;position: relative;background-color: white;}#sk-container-id-2 div.sk-parallel-item:first-child::after {align-self: flex-end;width: 50%;}#sk-container-id-2 div.sk-parallel-item:last-child::after {align-self: flex-start;width: 50%;}#sk-container-id-2 div.sk-parallel-item:only-child::after {width: 0;}#sk-container-id-2 div.sk-dashed-wrapped {border: 1px dashed gray;margin: 0 0.4em 0.5em 0.4em;box-sizing: border-box;padding-bottom: 0.4em;background-color: white;}#sk-container-id-2 div.sk-label label {font-family: monospace;font-weight: bold;display: inline-block;line-height: 1.2em;}#sk-container-id-2 div.sk-label-container {text-align: center;}#sk-container-id-2 div.sk-container {/* jupyter's `normalize.less` sets `[hidden] { display: none; }` but bootstrap.min.css set `[hidden] { display: none !important; }` so we also need the `!important` here to be able to override the default hidden behavior on the sphinx rendered scikit-learn.org. See: https://github.com/scikit-learn/scikit-learn/issues/21755 */display: inline-block !important;position: relative;}#sk-container-id-2 div.sk-text-repr-fallback {display: none;}</style><div id=\"sk-container-id-2\" class=\"sk-top-container\"><div class=\"sk-text-repr-fallback\"><pre>KNeighborsClassifier(weights=&#x27;distance&#x27;)</pre><b>In a Jupyter environment, please rerun this cell to show the HTML representation or trust the notebook. <br />On GitHub, the HTML representation is unable to render, please try loading this page with nbviewer.org.</b></div><div class=\"sk-container\" hidden><div class=\"sk-item\"><div class=\"sk-estimator sk-toggleable\"><input class=\"sk-toggleable__control sk-hidden--visually\" id=\"sk-estimator-id-2\" type=\"checkbox\" checked><label for=\"sk-estimator-id-2\" class=\"sk-toggleable__label sk-toggleable__label-arrow\">KNeighborsClassifier</label><div class=\"sk-toggleable__content\"><pre>KNeighborsClassifier(weights=&#x27;distance&#x27;)</pre></div></div></div></div></div>"
            ],
            "text/plain": [
              "KNeighborsClassifier(weights='distance')"
            ]
          },
          "execution_count": 23,
          "metadata": {},
          "output_type": "execute_result"
        }
      ],
      "source": [
        "modelknn = KNeighborsClassifier(n_neighbors=5, weights='distance')\n",
        "modelknn.fit(X_train,y_train)"
      ]
    },
    {
      "cell_type": "code",
      "execution_count": 19,
      "id": "53797d2c",
      "metadata": {},
      "outputs": [
        {
          "data": {
            "text/html": [
              "<div>\n",
              "<style scoped>\n",
              "    .dataframe tbody tr th:only-of-type {\n",
              "        vertical-align: middle;\n",
              "    }\n",
              "\n",
              "    .dataframe tbody tr th {\n",
              "        vertical-align: top;\n",
              "    }\n",
              "\n",
              "    .dataframe thead th {\n",
              "        text-align: right;\n",
              "    }\n",
              "</style>\n",
              "<table border=\"1\" class=\"dataframe\">\n",
              "  <thead>\n",
              "    <tr style=\"text-align: right;\">\n",
              "      <th></th>\n",
              "      <th>Judul</th>\n",
              "    </tr>\n",
              "  </thead>\n",
              "  <tbody>\n",
              "    <tr>\n",
              "      <th>0</th>\n",
              "      <td>Berikut adalah potret para pemenang yang berha...</td>\n",
              "    </tr>\n",
              "    <tr>\n",
              "      <th>1</th>\n",
              "      <td>Selain Sandrinna Michelle masih ada sembilan p...</td>\n",
              "    </tr>\n",
              "    <tr>\n",
              "      <th>2</th>\n",
              "      <td>Berikut ini daftar pemenang SCTV Awards 2022 l...</td>\n",
              "    </tr>\n",
              "    <tr>\n",
              "      <th>3</th>\n",
              "      <td>Berikutini Link Live Streaming SCTV Awards 202...</td>\n",
              "    </tr>\n",
              "    <tr>\n",
              "      <th>4</th>\n",
              "      <td>SCTV award 2022 menganugerahkan aktor Cinta Br...</td>\n",
              "    </tr>\n",
              "  </tbody>\n",
              "</table>\n",
              "</div>"
            ],
            "text/plain": [
              "                                               Judul\n",
              "0  Berikut adalah potret para pemenang yang berha...\n",
              "1  Selain Sandrinna Michelle masih ada sembilan p...\n",
              "2  Berikut ini daftar pemenang SCTV Awards 2022 l...\n",
              "3  Berikutini Link Live Streaming SCTV Awards 202...\n",
              "4  SCTV award 2022 menganugerahkan aktor Cinta Br..."
            ]
          },
          "execution_count": 19,
          "metadata": {},
          "output_type": "execute_result"
        }
      ],
      "source": [
        "train = pd.read_csv(\"train.csv\")\n",
        "train.head()"
      ]
    },
    {
      "cell_type": "code",
      "execution_count": 20,
      "id": "8b77cf98",
      "metadata": {},
      "outputs": [
        {
          "name": "stderr",
          "output_type": "stream",
          "text": [
            "C:\\Users\\AKU\\AppData\\Local\\Temp\\ipykernel_13148\\1640136434.py:2: FutureWarning: The default value of regex will change from True to False in a future version.\n",
            "  train['Judul'] = train['Judul'].str.replace('\\d*', '')\n",
            "C:\\Users\\AKU\\AppData\\Local\\Temp\\ipykernel_13148\\1640136434.py:3: FutureWarning: The default value of regex will change from True to False in a future version.\n",
            "  train['Judul'] = train['Judul'].str.replace('[^\\w\\s]', ' ')\n"
          ]
        },
        {
          "data": {
            "text/html": [
              "<div>\n",
              "<style scoped>\n",
              "    .dataframe tbody tr th:only-of-type {\n",
              "        vertical-align: middle;\n",
              "    }\n",
              "\n",
              "    .dataframe tbody tr th {\n",
              "        vertical-align: top;\n",
              "    }\n",
              "\n",
              "    .dataframe thead th {\n",
              "        text-align: right;\n",
              "    }\n",
              "</style>\n",
              "<table border=\"1\" class=\"dataframe\">\n",
              "  <thead>\n",
              "    <tr style=\"text-align: right;\">\n",
              "      <th></th>\n",
              "      <th>Judul</th>\n",
              "    </tr>\n",
              "  </thead>\n",
              "  <tbody>\n",
              "    <tr>\n",
              "      <th>0</th>\n",
              "      <td>ikut potret menang hasil abadi tim kapanlagi c...</td>\n",
              "    </tr>\n",
              "    <tr>\n",
              "      <th>1</th>\n",
              "      <td>selain sandrinna michelle ada sembilan menang ...</td>\n",
              "    </tr>\n",
              "    <tr>\n",
              "      <th>2</th>\n",
              "      <td>ikut daftar menang sctv awards lengkap kategor...</td>\n",
              "    </tr>\n",
              "    <tr>\n",
              "      <th>3</th>\n",
              "      <td>berikutini link live streaming sctv awards tay...</td>\n",
              "    </tr>\n",
              "    <tr>\n",
              "      <th>4</th>\n",
              "      <td>sctv award anugerah aktor cinta brian aktor ut...</td>\n",
              "    </tr>\n",
              "  </tbody>\n",
              "</table>\n",
              "</div>"
            ],
            "text/plain": [
              "                                               Judul\n",
              "0  ikut potret menang hasil abadi tim kapanlagi c...\n",
              "1  selain sandrinna michelle ada sembilan menang ...\n",
              "2  ikut daftar menang sctv awards lengkap kategor...\n",
              "3  berikutini link live streaming sctv awards tay...\n",
              "4  sctv award anugerah aktor cinta brian aktor ut..."
            ]
          },
          "execution_count": 20,
          "metadata": {},
          "output_type": "execute_result"
        }
      ],
      "source": [
        "# menghilangkan karakter special dan numerik\n",
        "train['Judul'] = train['Judul'].str.replace('\\d*', '')\n",
        "train['Judul'] = train['Judul'].str.replace('[^\\w\\s]', ' ')\n",
        "train['Judul'] = train['Judul'].str.strip()\n",
        "\n",
        "# Apply stemming and tokenizing\n",
        "train['Judul'] = train['Judul'].apply(funSastrawati)\n",
        "train.head()"
      ]
    },
    {
      "cell_type": "code",
      "execution_count": 24,
      "id": "727aeb29",
      "metadata": {},
      "outputs": [
        {
          "data": {
            "text/plain": [
              "['asian',\n",
              " 'bisnis',\n",
              " 'bola',\n",
              " 'cek',\n",
              " 'citizen6',\n",
              " 'crypto',\n",
              " 'dan',\n",
              " 'disabilitas',\n",
              " 'fashion',\n",
              " 'global',\n",
              " 'health',\n",
              " 'hot',\n",
              " 'indonesia',\n",
              " 'islami',\n",
              " 'jateng',\n",
              " 'jatim',\n",
              " 'kabar',\n",
              " 'lifestyle',\n",
              " 'news',\n",
              " 'otomotif',\n",
              " 'photo',\n",
              " 'pileg',\n",
              " 'pilkada',\n",
              " 'regional',\n",
              " 'saham',\n",
              " 'showbiz',\n",
              " 'surabaya',\n",
              " 'tekno',\n",
              " 'video']"
            ]
          },
          "execution_count": 24,
          "metadata": {},
          "output_type": "execute_result"
        }
      ],
      "source": [
        "kategori = []\n",
        "grouped = df.groupby('Jenis').size()\n",
        "# axis = grouped.plot(kind='bar')\n",
        "# plt.show()\n",
        "for name, show in zip(grouped.index, grouped):\n",
        "    kategori.append(name)\n",
        "kategori"
      ]
    },
    {
      "cell_type": "code",
      "execution_count": 26,
      "id": "bca21a83",
      "metadata": {},
      "outputs": [
        {
          "ename": "AttributeError",
          "evalue": "transform not found",
          "output_type": "error",
          "traceback": [
            "\u001b[1;31m---------------------------------------------------------------------------\u001b[0m",
            "\u001b[1;31mAttributeError\u001b[0m                            Traceback (most recent call last)",
            "Cell \u001b[1;32mIn [26], line 5\u001b[0m\n\u001b[0;32m      3\u001b[0m arr_teks \u001b[39m=\u001b[39m []\n\u001b[0;32m      4\u001b[0m arr_teks\u001b[39m.\u001b[39mappend(teks)\n\u001b[1;32m----> 5\u001b[0m vektor \u001b[39m=\u001b[39m kata\u001b[39m.\u001b[39;49mtransform(arr_teks)\n\u001b[0;32m      6\u001b[0m prediksi_label_knn \u001b[39m=\u001b[39m modelknn\u001b[39m.\u001b[39mpredict(vektor)\n\u001b[0;32m      7\u001b[0m \u001b[39mprint\u001b[39m(teks, \u001b[39m\"\u001b[39m\u001b[39m:\u001b[39m\u001b[39m\\n\u001b[39;00m\u001b[39m\"\u001b[39m \u001b[39m+\u001b[39m \u001b[39m\"\u001b[39m\u001b[39m- kelompok: \u001b[39m\u001b[39m\"\u001b[39m \u001b[39m+\u001b[39m kategori[np\u001b[39m.\u001b[39mint(prediksi_label_knn)]\u001b[39m+\u001b[39m \u001b[39m\"\u001b[39m\u001b[39m\\n\u001b[39;00m\u001b[39m\"\u001b[39m)\n",
            "File \u001b[1;32m~\\AppData\\Roaming\\Python\\Python310\\site-packages\\scipy\\sparse\\_base.py:771\u001b[0m, in \u001b[0;36mspmatrix.__getattr__\u001b[1;34m(self, attr)\u001b[0m\n\u001b[0;32m    769\u001b[0m     \u001b[39mreturn\u001b[39;00m \u001b[39mself\u001b[39m\u001b[39m.\u001b[39mgetnnz()\n\u001b[0;32m    770\u001b[0m \u001b[39melse\u001b[39;00m:\n\u001b[1;32m--> 771\u001b[0m     \u001b[39mraise\u001b[39;00m \u001b[39mAttributeError\u001b[39;00m(attr \u001b[39m+\u001b[39m \u001b[39m\"\u001b[39m\u001b[39m not found\u001b[39m\u001b[39m\"\u001b[39m)\n",
            "\u001b[1;31mAttributeError\u001b[0m: transform not found"
          ]
        }
      ],
      "source": [
        "# loop untuk prediksi kelompok\n",
        "for teks in train['Judul']:\n",
        "    arr_teks = []\n",
        "    arr_teks.append(teks)\n",
        "    vektor = kata.transform(arr_teks)\n",
        "    prediksi_label_knn = modelknn.predict(vektor)\n",
        "    prediksi_label_knn\n",
        "    # print(teks, \":\\n\" + \"- kelompok: \" + kategori[np.int(prediksi_label_knn)]+ \"\\n\")"
      ]
    },
    {
      "cell_type": "code",
      "execution_count": 16,
      "id": "d088a50b",
      "metadata": {},
      "outputs": [
        {
          "ename": "ValueError",
          "evalue": "Cannot center sparse matrices: pass `with_mean=False` instead. See docstring for motivation and alternatives.",
          "output_type": "error",
          "traceback": [
            "\u001b[1;31m---------------------------------------------------------------------------\u001b[0m",
            "\u001b[1;31mValueError\u001b[0m                                Traceback (most recent call last)",
            "Cell \u001b[1;32mIn [16], line 3\u001b[0m\n\u001b[0;32m      1\u001b[0m scaler \u001b[39m=\u001b[39m StandardScaler()\n\u001b[0;32m      2\u001b[0m \u001b[39m# Fit only on X_train\u001b[39;00m\n\u001b[1;32m----> 3\u001b[0m scaler\u001b[39m.\u001b[39;49mfit(X_train)\n\u001b[0;32m      5\u001b[0m \u001b[39m# Scale both X_train and X_test\u001b[39;00m\n\u001b[0;32m      6\u001b[0m X_train \u001b[39m=\u001b[39m scaler\u001b[39m.\u001b[39mtransform(X_train)\n",
            "File \u001b[1;32m~\\AppData\\Roaming\\Python\\Python310\\site-packages\\sklearn\\preprocessing\\_data.py:809\u001b[0m, in \u001b[0;36mStandardScaler.fit\u001b[1;34m(self, X, y, sample_weight)\u001b[0m\n\u001b[0;32m    807\u001b[0m \u001b[39m# Reset internal state before fitting\u001b[39;00m\n\u001b[0;32m    808\u001b[0m \u001b[39mself\u001b[39m\u001b[39m.\u001b[39m_reset()\n\u001b[1;32m--> 809\u001b[0m \u001b[39mreturn\u001b[39;00m \u001b[39mself\u001b[39;49m\u001b[39m.\u001b[39;49mpartial_fit(X, y, sample_weight)\n",
            "File \u001b[1;32m~\\AppData\\Roaming\\Python\\Python310\\site-packages\\sklearn\\preprocessing\\_data.py:872\u001b[0m, in \u001b[0;36mStandardScaler.partial_fit\u001b[1;34m(self, X, y, sample_weight)\u001b[0m\n\u001b[0;32m    870\u001b[0m \u001b[39mif\u001b[39;00m sparse\u001b[39m.\u001b[39missparse(X):\n\u001b[0;32m    871\u001b[0m     \u001b[39mif\u001b[39;00m \u001b[39mself\u001b[39m\u001b[39m.\u001b[39mwith_mean:\n\u001b[1;32m--> 872\u001b[0m         \u001b[39mraise\u001b[39;00m \u001b[39mValueError\u001b[39;00m(\n\u001b[0;32m    873\u001b[0m             \u001b[39m\"\u001b[39m\u001b[39mCannot center sparse matrices: pass `with_mean=False` \u001b[39m\u001b[39m\"\u001b[39m\n\u001b[0;32m    874\u001b[0m             \u001b[39m\"\u001b[39m\u001b[39minstead. See docstring for motivation and alternatives.\u001b[39m\u001b[39m\"\u001b[39m\n\u001b[0;32m    875\u001b[0m         )\n\u001b[0;32m    876\u001b[0m     sparse_constructor \u001b[39m=\u001b[39m (\n\u001b[0;32m    877\u001b[0m         sparse\u001b[39m.\u001b[39mcsr_matrix \u001b[39mif\u001b[39;00m X\u001b[39m.\u001b[39mformat \u001b[39m==\u001b[39m \u001b[39m\"\u001b[39m\u001b[39mcsr\u001b[39m\u001b[39m\"\u001b[39m \u001b[39melse\u001b[39;00m sparse\u001b[39m.\u001b[39mcsc_matrix\n\u001b[0;32m    878\u001b[0m     )\n\u001b[0;32m    880\u001b[0m     \u001b[39mif\u001b[39;00m \u001b[39mself\u001b[39m\u001b[39m.\u001b[39mwith_std:\n\u001b[0;32m    881\u001b[0m         \u001b[39m# First pass\u001b[39;00m\n",
            "\u001b[1;31mValueError\u001b[0m: Cannot center sparse matrices: pass `with_mean=False` instead. See docstring for motivation and alternatives."
          ]
        }
      ],
      "source": [
        "\n",
        "scaler = StandardScaler()\n",
        "# Fit only on X_train\n",
        "scaler.fit(X_train)\n",
        "\n",
        "# Scale both X_train and X_test\n",
        "X_train = scaler.transform(X_train)\n",
        "X_test = scaler.transform(X_test)"
      ]
    }
  ],
  "metadata": {
    "colab": {
      "provenance": []
    },
    "kernelspec": {
      "display_name": "Python 3.10.2 64-bit",
      "language": "python",
      "name": "python3"
    },
    "language_info": {
      "codemirror_mode": {
        "name": "ipython",
        "version": 3
      },
      "file_extension": ".py",
      "mimetype": "text/x-python",
      "name": "python",
      "nbconvert_exporter": "python",
      "pygments_lexer": "ipython3",
      "version": "3.10.2"
    },
    "vscode": {
      "interpreter": {
        "hash": "26de051ba29f2982a8de78e945f0abaf191376122a1563185a90213a26c5da77"
      }
    }
  },
  "nbformat": 4,
  "nbformat_minor": 5
}
