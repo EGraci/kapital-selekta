{
  "cells": [
    {
      "cell_type": "markdown",
      "id": "be59917d",
      "metadata": {
        "id": "be59917d"
      },
      "source": [
        "# Klasifikasi Berita Liputan6"
      ]
    },
    {
      "cell_type": "code",
      "execution_count": 15,
      "id": "55ec4964",
      "metadata": {
        "id": "55ec4964"
      },
      "outputs": [],
      "source": [
        "# import library\n",
        "\n",
        "import pandas as pd\n",
        "import numpy as np"
      ]
    },
    {
      "cell_type": "code",
      "execution_count": 70,
      "id": "7fde0acf",
      "metadata": {
        "id": "7fde0acf",
        "outputId": "c7370cc9-5817-47e9-b78f-74e65699861b"
      },
      "outputs": [
        {
          "data": {
            "text/html": [
              "<div>\n",
              "<style scoped>\n",
              "    .dataframe tbody tr th:only-of-type {\n",
              "        vertical-align: middle;\n",
              "    }\n",
              "\n",
              "    .dataframe tbody tr th {\n",
              "        vertical-align: top;\n",
              "    }\n",
              "\n",
              "    .dataframe thead th {\n",
              "        text-align: right;\n",
              "    }\n",
              "</style>\n",
              "<table border=\"1\" class=\"dataframe\">\n",
              "  <thead>\n",
              "    <tr style=\"text-align: right;\">\n",
              "      <th></th>\n",
              "      <th>Judul</th>\n",
              "    </tr>\n",
              "  </thead>\n",
              "  <tbody>\n",
              "    <tr>\n",
              "      <th>0</th>\n",
              "      <td>Kondisi Kejiwaan Yusuf Mansur Disorot Akibat K...</td>\n",
              "    </tr>\n",
              "    <tr>\n",
              "      <th>1</th>\n",
              "      <td>Nagita Slavina dan RANS Trending Usai Disebut ...</td>\n",
              "    </tr>\n",
              "    <tr>\n",
              "      <th>2</th>\n",
              "      <td>Berita Indonesia vs Australia Hari Ini - Kabar...</td>\n",
              "    </tr>\n",
              "    <tr>\n",
              "      <th>3</th>\n",
              "      <td>Alas Roban Jawa Tengah Penampakan Bikin Sopir ...</td>\n",
              "    </tr>\n",
              "  </tbody>\n",
              "</table>\n",
              "</div>"
            ],
            "text/plain": [
              "                                               Judul\n",
              "0  Kondisi Kejiwaan Yusuf Mansur Disorot Akibat K...\n",
              "1  Nagita Slavina dan RANS Trending Usai Disebut ...\n",
              "2  Berita Indonesia vs Australia Hari Ini - Kabar...\n",
              "3  Alas Roban Jawa Tengah Penampakan Bikin Sopir ..."
            ]
          },
          "execution_count": 70,
          "metadata": {},
          "output_type": "execute_result"
        }
      ],
      "source": [
        "# load data\n",
        "\n",
        "df = pd.read_csv(\"raw.csv\")\n",
        "df.head()"
      ]
    },
    {
      "cell_type": "code",
      "execution_count": null,
      "id": "b42dc9f2",
      "metadata": {
        "id": "b42dc9f2",
        "outputId": "44b55788-cc80-407d-d45a-7311e2abee2d"
      },
      "outputs": [],
      "source": [
        "# periksa tipe datanya utk masing2 varibael/kolom/fitur dengan .dtypes\n",
        "\n",
        "print(df.dtypes)"
      ]
    },
    {
      "cell_type": "code",
      "execution_count": null,
      "id": "fea27921",
      "metadata": {
        "id": "fea27921",
        "outputId": "661c161f-7484-406f-ec28-04b842ee5299",
        "scrolled": true
      },
      "outputs": [],
      "source": [
        "# melihat statistik dasar \n",
        "\n",
        "df.describe()"
      ]
    },
    {
      "cell_type": "markdown",
      "id": "1503def0",
      "metadata": {
        "id": "1503def0"
      },
      "source": [
        "## Membuang (drop) Kolom\n",
        "---\n",
        "\n",
        "* Membuang Kolom pada DataFrame\n",
        "* Sering ditemukan beberapa kategori data tidak terlalu berguna di dataset, misal untuk menganalisis IPK mahasiswa , data nama orangtua, alamat adalah data tidak penting\n",
        "* Pandas menyediakan fungsi untuk membuang (drop) kolom-kolom yang tidak diinginkan dengan fungsi <code style=\"background:#E5E7E9 ;color:black\">drop()</code>."
      ]
    },
    {
      "cell_type": "code",
      "execution_count": null,
      "id": "4588e361",
      "metadata": {
        "id": "4588e361",
        "outputId": "98e611bf-cb17-4e61-995e-f2715a08323f",
        "scrolled": true
      },
      "outputs": [],
      "source": [
        "# melihat pada lima entri pertama \n",
        "\n",
        "df.head()"
      ]
    },
    {
      "cell_type": "markdown",
      "id": "f6bb5c29",
      "metadata": {
        "id": "f6bb5c29"
      },
      "source": [
        "Dapat dilihat bahwa beberapa kolom memberikan informasi tambahan yang akan membantu perpustakaan tetapi tidak terlalu deskriptif tentang buku itu sendiri, diantaranya kolom: *Edition Statement, Corporate Author, Corporate Contributors, Former owner, Engraver, Issuance type and Shelfmarks.*"
      ]
    },
    {
      "cell_type": "code",
      "execution_count": null,
      "id": "49ade5e9",
      "metadata": {
        "id": "49ade5e9"
      },
      "outputs": [],
      "source": [
        "# memilih kolom-kolom yang akan di drop \n",
        "\n",
        "to_drop = ['Edition Statement', \n",
        "           'Corporate Author', \n",
        "           'Corporate Contributors', \n",
        "           'Former owner', \n",
        "           'Engraver',\n",
        "           'Contributors',\n",
        "           'Issuance type',\n",
        "           'Shelfmarks']"
      ]
    },
    {
      "cell_type": "markdown",
      "id": "f5f96885",
      "metadata": {
        "id": "f5f96885"
      },
      "source": [
        "Kita definisikan daftar (list) nama dari semua kolom yang ingin kita drop. Kemudian jalankan perintah fungsi <code style=\"background:#E5E7E9 ;color:black\">drop()</code>,  dengan melewatkan parameter inplace bernilai True dan parameter axis bernilai 1"
      ]
    },
    {
      "cell_type": "code",
      "execution_count": null,
      "id": "fb157de6",
      "metadata": {
        "id": "fb157de6"
      },
      "outputs": [],
      "source": [
        "# melakukan drop pada data yang dipilih\n",
        "\n",
        "df.drop(to_drop, inplace=True, axis=1)"
      ]
    },
    {
      "cell_type": "code",
      "execution_count": null,
      "id": "5059ad9a",
      "metadata": {
        "id": "5059ad9a",
        "outputId": "af110be6-56e9-4178-dbb2-19755ed0af8e"
      },
      "outputs": [],
      "source": [
        "# inspeksi ulang DataFrame, kolom yang tidak diinginkan sudah dibuang\n",
        "\n",
        "df.head()"
      ]
    },
    {
      "cell_type": "markdown",
      "id": "7cda7f4b",
      "metadata": {
        "id": "7cda7f4b"
      },
      "source": [
        "#### Alternatif untuk membuang kolom, dengan meneruskannya langsung ke parameter columns daripada memisahkan label-label yang mau dibuang."
      ]
    },
    {
      "cell_type": "code",
      "execution_count": null,
      "id": "9cb6fb31",
      "metadata": {
        "id": "9cb6fb31"
      },
      "outputs": [],
      "source": [
        "#df.drop(colums=to_drop, inplace=True)"
      ]
    },
    {
      "cell_type": "markdown",
      "id": "170d8466",
      "metadata": {
        "id": "170d8466"
      },
      "source": [
        "### Sintak di atas ini lebih intuitif dan mudah dibaca, bukan?."
      ]
    },
    {
      "cell_type": "code",
      "execution_count": null,
      "id": "97ba0422",
      "metadata": {
        "id": "97ba0422",
        "outputId": "23c818a7-32c1-496a-e4b1-0b917b632d3d"
      },
      "outputs": [],
      "source": [
        "# cek ulang data\n",
        "\n",
        "df.head()"
      ]
    },
    {
      "cell_type": "markdown",
      "id": "c180ada7",
      "metadata": {
        "id": "c180ada7"
      },
      "source": [
        "## Mengubah Indeks di DataFrame\n",
        "---\n",
        "\n",
        "\n",
        "* Index dalam Pandas memperluas fungsionalitas array NumPy untuk memungkinkan pemotongan (slicing) dan pelabelan yang lebih fleksibel. Dalam banyak kasus, akan sangat membantu jika menggunakan field pengenal data yang bernilai unik sebagai indeksnya.\n",
        "* Sebagai contoh, dengan dataset di slide sebelumnya, praktiknya saat pustakawan mencari record, biasanya akan memasukan identifier unik suatu buku:"
      ]
    },
    {
      "cell_type": "code",
      "execution_count": null,
      "id": "2f4b8aac",
      "metadata": {
        "id": "2f4b8aac",
        "outputId": "d35e3992-63ac-46b9-8989-1c74f9002995"
      },
      "outputs": [],
      "source": [
        "# cek nilai unik identifier\n",
        "\n",
        "df['Identifier'].is_unique"
      ]
    },
    {
      "cell_type": "code",
      "execution_count": null,
      "id": "80f84fa2",
      "metadata": {
        "id": "80f84fa2",
        "outputId": "380b04ea-39fa-4107-e795-f721cf237dc0",
        "scrolled": true
      },
      "outputs": [],
      "source": [
        "# ganti indeks yang ada pada kolom menggunakan set_index\n",
        "\n",
        "df = df.set_index('Identifier')\n",
        "df.head()"
      ]
    },
    {
      "cell_type": "markdown",
      "id": "314373f6",
      "metadata": {
        "id": "314373f6"
      },
      "source": [
        "Kita dapat mengakses setiap records dengan cara yang mudah dengan <code style=\"background:#E5E7E9 ;color:black\">loc[]</code>. Cara ini digunakan untuk *label-based indexing*, yaitu memberi label suatu baris atau kolom tanpa memperhatikan posisi/lokasinya."
      ]
    },
    {
      "cell_type": "code",
      "execution_count": null,
      "id": "550c5653",
      "metadata": {
        "id": "550c5653",
        "outputId": "b9c63153-2ce3-438c-8a7d-867d16c1b79b",
        "scrolled": true
      },
      "outputs": [],
      "source": [
        "# akses record ke 206\n",
        "\n",
        "df.loc[206]\n",
        "\n",
        "# .loc[] --> seleksi dengan menggunakan label/bilangan bulat  "
      ]
    },
    {
      "cell_type": "markdown",
      "id": "1acf718e",
      "metadata": {
        "id": "1acf718e"
      },
      "source": [
        "#### Dengan kata lain, 206 adalah label pertama dari indeks. "
      ]
    },
    {
      "cell_type": "markdown",
      "id": "8ce772d3",
      "metadata": {
        "id": "8ce772d3"
      },
      "source": [
        "* Untuk mengakses berdasarkan posisinya, gunakan <code style=\"background:#E5E7E9 ;color:black\">df.iloc[]</code>\n",
        "\n",
        "* Pada slide sebelumnya, Indeks yang digunakan adalah RangeIndex: integer mulai dari 0, analog dengan range di Python. Dengan meneruskan nama kolom ke set_index, maka indeks telah diubah ke nilai dalam Identifier.\n",
        "\n",
        "* Diperhatikan pada langkah sebelumnya bahwa telah dilakukan penetapan kembali variabel ke objek yang dikembalikan oleh metode dengan df = df.set_index(...). Ini karena, secara default, metode mengembalikan salinan objek yang dimodifikasi dan tidak membuat perubahan secara langsung ke objek. Hal ini dapat dihindari dengan mengatur parameter inplace:"
      ]
    },
    {
      "cell_type": "code",
      "execution_count": null,
      "id": "8c5be29a",
      "metadata": {
        "id": "8c5be29a",
        "scrolled": true
      },
      "outputs": [],
      "source": [
        "#df.set_index('Identifier', inplace=True)"
      ]
    },
    {
      "cell_type": "markdown",
      "id": "ae49b63a",
      "metadata": {
        "id": "ae49b63a"
      },
      "source": [
        "## Merapihkan Fields dalam Data \n",
        "---\n",
        "\n",
        "* Slide sebelumnya telah dibuang beberapa kolom tidak penting dan diubah indeks pada DataFrame hingga menjadi lebih masuk akal. \n",
        "* Selanjutnya, akan dibersihkan kolom tertentu dan mengubah menjadi bentuk/format yang seragam hingga dataset lebih mudah dipahami dan memastikan konsistensi. Dalam slide berikutnya akan dibersihkan Date of Publication dan  Place of Publication.\n",
        "* Dalam inspeksi, semua tipe data saat ini adalah objek dtype yang analog dengan str di native Python\n",
        "* Cara ini dilakukan sebagai rangkuman saat setiap field tidak dapat dirapihkan sebagai data numerik atau data kategorik dan data yang digunakan cukup “kotor” atau “berantakan”. "
      ]
    },
    {
      "cell_type": "code",
      "execution_count": null,
      "id": "fae701c5",
      "metadata": {
        "id": "fae701c5",
        "outputId": "0b2844b2-c6a6-40e6-d9b1-4eb740dc7297"
      },
      "outputs": [],
      "source": [
        "# menghitung frekuensi nilai objek\n",
        "\n",
        "df.dtypes.value_counts()"
      ]
    },
    {
      "cell_type": "markdown",
      "id": "6a23cd97",
      "metadata": {
        "id": "6a23cd97"
      },
      "source": [
        "##### Satu kolom yang masuk akal untuk menerapkan nilai numerik adalah tanggal publikasi sehingga kita dapat melakukan perhitungan di awal:"
      ]
    },
    {
      "cell_type": "code",
      "execution_count": null,
      "id": "745f76b3",
      "metadata": {
        "id": "745f76b3",
        "outputId": "d8edf884-fc5a-440b-ed39-132b15297d57",
        "scrolled": true
      },
      "outputs": [],
      "source": [
        "# seleksi data dari 1905 dengan output hanya pada field tanggal publikasi\n",
        "\n",
        "df.loc[1905:, 'Date of Publication'].head(10)"
      ]
    },
    {
      "cell_type": "markdown",
      "id": "0776a67e",
      "metadata": {
        "id": "0776a67e"
      },
      "source": [
        "Buku tertentu hanya memiliki satu tanggal publikasi. Oleh karena itu perlu dilakukan hal berikut:\n",
        "\n",
        "    1. Hilangkan tanggal lain dalam kurung siku, 1879[1878]\n",
        "    2. Konversi rentang tanggal ke “start date”, 1860-63; 1839, 38-54\n",
        "    3. Hilangkan tanggal yang tidak jelas dan gantikan dengan NaN NumPy, [1879?] -> NaN\n",
        "    4. Konversi string nan ke nilai NaN  NumPy"
      ]
    },
    {
      "cell_type": "code",
      "execution_count": null,
      "id": "90508808",
      "metadata": {
        "id": "90508808"
      },
      "outputs": [],
      "source": [
        "# menggunakan ekspresi reguler (Regex) tunggal untuk mengekstrak tahun publikasi\n",
        "\n",
        "regex = r'^(\\d{4})'"
      ]
    },
    {
      "cell_type": "markdown",
      "id": "7ed1af58",
      "metadata": {
        "id": "7ed1af58"
      },
      "source": [
        "Catatan :\n",
        "\n",
        "- Perintah <code style=\"background:#E5E7E9 ;color:black\">\\d</code> mewakili sebarang digit \n",
        "- <code style=\"background:#E5E7E9 ;color:black\">{4}</code> mengulangi aturan (rule) sebanyak empat kali. \n",
        "- Kararakter <code style=\"background:#E5E7E9 ;color:black\">^</code> sesuai dengan awal string, dan tanda dalam kurung \n",
        "- <code style=\"background:#E5E7E9 ;color:black\">()</code> menunjukkan capturing group yang memberikan sinyal ke Pandas bahwa akan dilakukan ekstraksi bagian Regex tersebut. "
      ]
    },
    {
      "cell_type": "code",
      "execution_count": null,
      "id": "4184b64c",
      "metadata": {
        "id": "4184b64c",
        "outputId": "a766c83f-d7bb-4488-8a49-6b0e62b82c9e"
      },
      "outputs": [],
      "source": [
        "# jalankan regex di dataset\n",
        "\n",
        "extr = df['Date of Publication'].str.extract(r'^(\\d{4})', expand=False)\n",
        "extr.head()\n",
        "\n",
        "# expand=False: --> Jika Benar, kembalikan  DataFrame dengan satu kolom per grup tangkapan.  \n",
        "# Jika Salah, kembalikan Seri/Indeks jika ada satu  grup tangkapan atau DataFrame jika ada beberapa  grup tangkapan."
      ]
    },
    {
      "cell_type": "markdown",
      "id": "ede51dfa",
      "metadata": {
        "id": "ede51dfa"
      },
      "source": [
        "Secara teknis, kolom tsb masih memiliki object dtype, namun dengan mudah kita dapatkan versi numeriknya dengan perintah <code style=\"background:#E5E7E9 ;color:black\">pd.to_numeric</code>\n"
      ]
    },
    {
      "cell_type": "code",
      "execution_count": null,
      "id": "5cd61dc5",
      "metadata": {
        "id": "5cd61dc5",
        "outputId": "22d599ba-fc17-4269-b87f-20e3aa7e5864"
      },
      "outputs": [],
      "source": [
        "# mendapatkan versi numeriknya dengan perintah pd.to_numeric\n",
        "\n",
        "df['Date of Publication'] = pd.to_numeric(extr)\n",
        "df['Date of Publication'].dtype"
      ]
    },
    {
      "cell_type": "markdown",
      "id": "597016ac",
      "metadata": {
        "id": "597016ac"
      },
      "source": [
        "Ini menghasilkan sekitar 1/10 nilai yang hilang, cost yang cukup kecil dampaknya untuk saat ini karena dapat melakukan perhitungan pada nilai valid yang tersisa:\n"
      ]
    },
    {
      "cell_type": "code",
      "execution_count": null,
      "id": "16c1651d",
      "metadata": {
        "id": "16c1651d",
        "outputId": "daa1ca18-83ef-4d15-8e2c-39752a2a10fa"
      },
      "outputs": [],
      "source": [
        "# perhitungan pada nilai valid yang tersisa\n",
        "\n",
        "df['Date of Publication'].isnull().sum() / len(df)"
      ]
    },
    {
      "cell_type": "markdown",
      "id": "8c2ccc54",
      "metadata": {
        "id": "8c2ccc54"
      },
      "source": [
        "## Membersihkan Kolom dengan Kombinasi metode str dengan NumPy \n",
        "---\n",
        "* Slide sebelumnya dibahas penggunaan df['Date of Publication'].str. Atribut ini adalah cara akses cepat operasi string di Pandas yang menyerupai operasi pada native Python atau mengkompilasi regex seperti <code style=\"background:#E5E7E9 ;color:black\">.split()</code>, <code style=\"background:#E5E7E9 ;color:black\">.replace()</code>, dan <code style=\"background:#E5E7E9 ;color:black\">.capitalize()</code>.\n",
        "* Untuk membersihkan field Place of Publication, kombinasikan metode str di Panda dengan fungsi np.where di NumPy yang mirip dengan bentuk vektor dari makro IF() di Excell, dengan sintak berikut:"
      ]
    },
    {
      "cell_type": "code",
      "execution_count": null,
      "id": "94f28202",
      "metadata": {
        "id": "94f28202"
      },
      "outputs": [],
      "source": [
        "#np.where(condition, then, else)"
      ]
    },
    {
      "cell_type": "markdown",
      "id": "39e55f8f",
      "metadata": {
        "id": "39e55f8f"
      },
      "source": [
        "* condition mirip dengan objek array atau Boolean .then adalah nilai yang digunakan jika condition mengevaluasi menjadi True, dan else untuk mengevaluasi nilai selainnya.\n",
        "\n",
        "* <code style=\"background:#E5E7E9 ;color:black\">.capitalize().where</code> membawa tiap elemen dalam objek digunakan untuk condition dan memeriksa elemen tertentu menjadi True dalam konteks kondisi dan mengembalikan ndarray terdiri dari then atau else, tergantung pada prakteknya.\n",
        "\n",
        "\n",
        "* Dapat juga dituliskan dalam berkalang (nested) menjadi pernyataan If-Then, memungkinkan menghitung nilai berbasiskan kondisi berganda:\n"
      ]
    },
    {
      "cell_type": "code",
      "execution_count": null,
      "id": "427a76d4",
      "metadata": {
        "id": "427a76d4"
      },
      "outputs": [],
      "source": [
        "#np.where(condition1, x1, \n",
        "        #np.where(condition2, x2, \n",
        "            #np.where(condition3, x3, ...)))"
      ]
    },
    {
      "cell_type": "markdown",
      "id": "fa39cb48",
      "metadata": {
        "id": "fa39cb48"
      },
      "source": [
        "* Kemudian, dapat digunakan dua fungsi tsb untuk membersihkan field Place of Publication karena kolom tsb memiliki objek string. Berikut adalah isi dari kolom:\n"
      ]
    },
    {
      "cell_type": "code",
      "execution_count": null,
      "id": "58b8e8cf",
      "metadata": {
        "id": "58b8e8cf",
        "outputId": "670b6d49-f389-4da8-a4ec-029607d7b8d3"
      },
      "outputs": [],
      "source": [
        "# isi kolom 'Place of Publication'\n",
        "\n",
        "df['Place of Publication'].head(10)"
      ]
    },
    {
      "cell_type": "markdown",
      "id": "a15f5f51",
      "metadata": {
        "id": "a15f5f51"
      },
      "source": [
        "* Dilihat pada hasil di atas, field  place of publication masih ada informasi yang tidak penting. Jika dilihat lebih teliti, kasus ini untuk beberapa baris yang place of publication -nya di “London” dan “Oxford”\n"
      ]
    },
    {
      "cell_type": "code",
      "execution_count": null,
      "id": "7c09fa1c",
      "metadata": {
        "id": "7c09fa1c",
        "outputId": "b26cbee6-3873-4910-abf4-740cc6e2e85b"
      },
      "outputs": [],
      "source": [
        "df.loc[4157862]"
      ]
    },
    {
      "cell_type": "code",
      "execution_count": null,
      "id": "6f3b777b",
      "metadata": {
        "id": "6f3b777b",
        "outputId": "ac66c30f-9269-47f3-d2ec-98eb2f9feb9f"
      },
      "outputs": [],
      "source": [
        "df.loc[4159587]"
      ]
    },
    {
      "cell_type": "markdown",
      "id": "822fd61f",
      "metadata": {
        "id": "822fd61f"
      },
      "source": [
        "* Pada dua entri di atas, dua buku  diterbitkan di tempat yang sama (newcastle upon tyne) namun salah satunya memilik tanda hubung (-) \n",
        "* Untuk membersihkan kolom ini dalam sekali jalan, gunakan <code style=\"background:#E5E7E9 ;color:black\">str.contains()</code> untuk mendapatkan Boolean mask.\n"
      ]
    },
    {
      "cell_type": "code",
      "execution_count": null,
      "id": "b8cdaafe",
      "metadata": {
        "id": "b8cdaafe",
        "outputId": "50f0a8f3-6619-4b5e-b110-29b7a69841de"
      },
      "outputs": [],
      "source": [
        "# mendapatkan boolean mask\n",
        "\n",
        "pub = df['Place of Publication']\n",
        "london = pub.str.contains('London')\n",
        "london[:5]"
      ]
    },
    {
      "cell_type": "code",
      "execution_count": null,
      "id": "71831e02",
      "metadata": {
        "id": "71831e02"
      },
      "outputs": [],
      "source": [
        "oxford = pub.str.contains('Oxford')"
      ]
    },
    {
      "cell_type": "markdown",
      "id": "f6ea8b48",
      "metadata": {
        "id": "f6ea8b48"
      },
      "source": [
        "* Kombinasikan dengan np.where:"
      ]
    },
    {
      "cell_type": "code",
      "execution_count": null,
      "id": "7bbef5d5",
      "metadata": {
        "id": "7bbef5d5",
        "outputId": "6d2cb36f-3df6-48b0-e3d5-ed07d2120a73"
      },
      "outputs": [],
      "source": [
        "df['Place of Publication'] = np.where(london, 'London',\n",
        "                                      np.where(oxford, 'Oxford',\n",
        "                                               pub.str.replace('-', ' ')))\n",
        "df['Place of Publication'].head()"
      ]
    },
    {
      "cell_type": "markdown",
      "id": "f59f2bc9",
      "metadata": {
        "id": "f59f2bc9"
      },
      "source": [
        "* Di sini, fungsi np.where berbentuk struktur nested, dimana condition berbentuk Series dari Boolean dengan str.contains(). Metode contains() bekerja mirip dengan keyword in yang digunakan untuk mencari kejadian suatu entitas  dalam kondisi pengulangan iterasi (atau substring dalam suatu string) \n",
        "\n",
        "* Pergantian tanda hubung (hypen) dengan spasi dengan str.replace() dan re-assign ke kolom dalam DataFrame.\n",
        "* Walau pada kenyataan masih banyak dataset ini (kolom dan baris) yang “kotor” , namun dalam contoh di sini hanya dibahas pada dua kolom\n",
        "\n",
        "* Coba periksa kembali untuk lima entri pertama, hasilnya akan lebih rapih dan “bersih” dibandingkan dataset awal sebelum dilakukan cleaning data.\n",
        "\n",
        "\n"
      ]
    },
    {
      "cell_type": "code",
      "execution_count": null,
      "id": "ce571588",
      "metadata": {
        "id": "ce571588",
        "outputId": "1bf85da5-69f6-4a70-8f84-6be74f2a8156"
      },
      "outputs": [],
      "source": [
        "# menampilkan data\n",
        "\n",
        "df.head()"
      ]
    },
    {
      "cell_type": "markdown",
      "id": "c44841e7",
      "metadata": {
        "id": "c44841e7"
      },
      "source": [
        "## Membersihkan Seluruh Dataset dengan Fungsi applymap\n",
        "---\n",
        "* Pada situasi tertentu, data berantakan alias “kotor” tidak hanya berlaku di sebagian kolom atau baris (record) tapi menyebar ke banyak bagian dataset. \n",
        "* Cara berikut dapat diterapkan untuk semua cell atau elemen di DataFrame (dataset).\n",
        "* Metode .applymap() dapat diterapkan, dimana similar dengan fungsi built-in yaitu fungsi map().  \n",
        "\n",
        "\n",
        "* Terapkan fungsi applymap() pada file “university_towns.txt”:\n",
        "\n"
      ]
    },
    {
      "cell_type": "markdown",
      "id": "dff44338",
      "metadata": {
        "id": "dff44338"
      },
      "source": [
        "![image.png](attachment:image.png)\n",
        "\n",
        "                                             tampilan Command Promt pada windows"
      ]
    },
    {
      "cell_type": "markdown",
      "id": "512e619a",
      "metadata": {
        "id": "512e619a"
      },
      "source": [
        "![image-2.png](attachment:image-2.png)\n",
        "                                                                \n",
        "                                                  tampilan terminal Linux"
      ]
    },
    {
      "cell_type": "markdown",
      "id": "ff9717d7",
      "metadata": {
        "id": "ff9717d7"
      },
      "source": [
        "* Dapat dilihat di atas, bahwa nama negara bagian(state) diikuti dengan kota asal universitas: StateA TownA1 TownA2 StateB TownB1 TownB2.... \n",
        "dan memiliki substring ”[edit]” \n",
        "\n",
        "\n",
        "* Kita dapat memanfaatkan pola ini dengan membuat list of (state, city) tuples dan wrapping daftar (list) dalam DataFrame. \n",
        "\n"
      ]
    },
    {
      "cell_type": "code",
      "execution_count": null,
      "id": "90085bb5",
      "metadata": {
        "id": "90085bb5",
        "outputId": "52a796c0-b345-441b-c1f4-6de72fc3c99b",
        "scrolled": true
      },
      "outputs": [],
      "source": [
        "university_towns = []\n",
        "with open(\"university_towns.txt\") as file:\n",
        "     for line in file:\n",
        "         if '[edit]' in line:\n",
        "             # Remember this `state` until the next is found\n",
        "             state = line\n",
        "         else:\n",
        "             # Otherwise, we have a city; keep `state` as last-seen\n",
        "             university_towns.append((state, line))\n",
        "\n",
        "university_towns[:5]"
      ]
    },
    {
      "cell_type": "markdown",
      "id": "fc73553b",
      "metadata": {
        "id": "fc73553b"
      },
      "source": [
        "* Kita dapat membungkus (wrap) daftar ini dalam DataFrame dan mengatur kolom sebagai “State” and “RegionName”.\n",
        "* Pandas akan mengambil setiap elemen dalam daftar dan mengatur \"State\" ke nilai kiri dan “RegionName” ke nilai kanan.\n",
        "* Hasilnya adalah DataFrame sbb:"
      ]
    },
    {
      "cell_type": "code",
      "execution_count": null,
      "id": "5c87e973",
      "metadata": {
        "id": "5c87e973",
        "outputId": "d0a1795c-defb-4198-b527-a4b26552fb50"
      },
      "outputs": [],
      "source": [
        "towns_df = pd.DataFrame(university_towns,\n",
        "                        columns=['State', 'RegionName'])\n",
        "\n",
        "towns_df.head()"
      ]
    },
    {
      "cell_type": "markdown",
      "id": "0d8354ec",
      "metadata": {
        "id": "0d8354ec"
      },
      "source": [
        "* Pandas, mempermudah dalam pembersihan string dengan hanya membutuhkan nama state  dan nama town dan dapat membuang lainnya. Selain dapat kembali menggunakan metode  .str() di Pandas, dapat juga menggunakan applymap() untuk memetakan setiap elemen di DataFrame\n",
        "* Perhatikan kasus sederhana pada contoh DataFrame berikut:  \n"
      ]
    },
    {
      "cell_type": "code",
      "execution_count": null,
      "id": "862af8a4",
      "metadata": {
        "id": "862af8a4",
        "outputId": "8012bb73-8bb2-45f3-b8f1-11fb5a13ed9a"
      },
      "outputs": [],
      "source": [
        "contoh_data = {0 : ['mock','python','real','numpy'],\n",
        "               1 : ['Dataset','pandas','python','clean']}\n",
        "\n",
        "contoh_dataframe = pd.DataFrame(contoh_data)\n",
        "\n",
        "contoh_dataframe.head()"
      ]
    },
    {
      "cell_type": "markdown",
      "id": "5d62c07d",
      "metadata": {
        "id": "5d62c07d"
      },
      "source": [
        "* Pada contoh di atas, setiap sel (“Mock”, “Dataset”, “Python”, “Real”, dll) adalah elemen. Oleh karena itu perintah applymap() akan menerapkan fungsi ke setiap elemen secara independen. Mari kita definisikan fungsi tsb:  \n"
      ]
    },
    {
      "cell_type": "code",
      "execution_count": null,
      "id": "c13d3740",
      "metadata": {
        "id": "c13d3740"
      },
      "outputs": [],
      "source": [
        "def get_citystate(item):\n",
        "     if ' (' in item:\n",
        "         return item[:item.find(' (')]\n",
        "     elif '[' in item:\n",
        "         return item[:item.find('[')]\n",
        "     else:\n",
        "         return item"
      ]
    },
    {
      "cell_type": "markdown",
      "id": "04b61c28",
      "metadata": {
        "id": "04b61c28"
      },
      "source": [
        "* applymap() di Pandas hanya butuh satu parameter , yaitu fungsi yang diterapkan ke setiap elemen: \n"
      ]
    },
    {
      "cell_type": "code",
      "execution_count": null,
      "id": "2bd6b490",
      "metadata": {
        "id": "2bd6b490"
      },
      "outputs": [],
      "source": [
        "towns_df =  towns_df.applymap(get_citystate)"
      ]
    },
    {
      "cell_type": "markdown",
      "id": "2adffa71",
      "metadata": {
        "id": "2adffa71"
      },
      "source": [
        "* Pertama, definisikan fungsi Python yang mengambil setiap elemen  dari DataFrame sebagai parameternya. Di dalam fungsi, pengecekan dilakukan utk menentukan apakah ada elemen atau tidak!\n",
        "* Tergantung pada pengecekan, nilai dikembalikan berdasarkan fungsi. \n",
        "* Lalu, fungsi applymap() dipanggil pada objek yg ada. Sehingga kita dapatkan DataFrame yang relatif lebigh rapih\n",
        "\n"
      ]
    },
    {
      "cell_type": "code",
      "execution_count": null,
      "id": "aa2b6114",
      "metadata": {
        "id": "aa2b6114",
        "outputId": "b9c3a00e-3855-4b90-94d0-720aa2a4919f"
      },
      "outputs": [],
      "source": [
        "towns_df.head()"
      ]
    },
    {
      "cell_type": "markdown",
      "id": "91b40dcb",
      "metadata": {
        "id": "91b40dcb"
      },
      "source": [
        "## Mengganti Nama Kolom \n",
        "---\n",
        "\n",
        "* Seringkali dalam dataset yang dimiliki ada nama kolom yang suli utk dipahami atau informasi yang tidak penting dalam beberapa baris awal/akhir, misal definisi istilah atau footnotes.\n",
        "* Oleh karena itu dapat dilakukan penggantian nama dan melewatkan beberapa baris sehingga bisa dilakukan analisis informasi dari baris yang benar atau dapat dipahami. \n",
        "* Kita akan lakukan untuk lima baris awal dataset “olympic.csv”:"
      ]
    },
    {
      "cell_type": "markdown",
      "id": "4c1db039",
      "metadata": {
        "id": "4c1db039"
      },
      "source": [
        "![image.png](attachment:image.png)\n",
        "\n",
        "                                                Tampilan Command Prompt Windows"
      ]
    },
    {
      "cell_type": "markdown",
      "id": "af68d267",
      "metadata": {
        "id": "af68d267"
      },
      "source": [
        "![image.png](attachment:image.png)\n",
        "\n",
        "                                                    Tampilan Terminal Linux"
      ]
    },
    {
      "cell_type": "markdown",
      "id": "48e00ee8",
      "metadata": {
        "id": "48e00ee8"
      },
      "source": [
        "* Kemudian, baca dalam DataFrame di Pandas:\n"
      ]
    },
    {
      "cell_type": "code",
      "execution_count": null,
      "id": "33e4d79a",
      "metadata": {
        "id": "33e4d79a",
        "outputId": "0f3959d5-00e5-497e-f3ce-1efd03dbc5bd"
      },
      "outputs": [],
      "source": [
        "olympics_df = pd.read_csv(\"olympics.csv\")\n",
        "olympics_df.head()"
      ]
    },
    {
      "cell_type": "markdown",
      "id": "8af1e32c",
      "metadata": {
        "id": "8af1e32c"
      },
      "source": [
        "* Hasilnya berantakan! Kolom adalah bentuk string integer indeks 0. Baris yang harusnya sebegai header pada olympics_df.iloc[0]. Hal ini terjadi karena file CSV mulai dengan 0, 1, 2, ...., 15. \n",
        "* Dan, jika kita ke sumber dataset ini, akan terlihat NaN yang ada harusnya berisikan “Country” dan “Summer” maksudnya adala”Summer Games” dan “01!” harusnya adalah “Gold” , dll. \n",
        "\n",
        "\n",
        "* Oleh karena itu, hal berikut yang perlu dilakukan:\n",
        "    1. Melewatkan (skip) satu baris dan atur header sebagai baris pertama (indeks-0)\n",
        "    2. Mengganti Nama Kolom\n",
        " \n",
        " \n",
        " "
      ]
    },
    {
      "cell_type": "markdown",
      "id": "fe16be24",
      "metadata": {
        "id": "fe16be24"
      },
      "source": [
        "* Melewatkan baris dan atur header dapat dilakukan pada saat membaca file CSV dengan mempassing beberapa parameter ke fungsi read_csv().\n",
        "* Fungsi read_csv() memerlukan banyak parameter opsional, namun utk kasus ini hanya diperlukan satu (header) yang dihilangkan pada baris ke-0, dengan hasil sbb:\n",
        "\n",
        "\n",
        "* Hasil fungsi read_csv() dan menghilangkan satu baris (header):"
      ]
    },
    {
      "cell_type": "code",
      "execution_count": null,
      "id": "77cd1b16",
      "metadata": {
        "id": "77cd1b16",
        "outputId": "b7097f67-01b2-4fd8-e51c-366a76ed447e"
      },
      "outputs": [],
      "source": [
        "olympics_df = pd.read_csv(\"olympics.csv\", header=1)\n",
        "olympics_df.head()"
      ]
    },
    {
      "cell_type": "markdown",
      "id": "2de38357",
      "metadata": {
        "id": "2de38357"
      },
      "source": [
        "* Sekarang, yang tampak di atas adalah sekumpulan baris yang benar sebagai header dan semua baris yang tidak dibutuhkan telah dihilangkan. \n",
        "* Pandas telah merubah nama kolom yang mengandung nama “countries” dari NaN  menjadi Unnamed:0\n",
        "\n",
        "\n",
        "* Utk mengganti nama kolom, digunakan metode rename() DataFrame yg memungkinkan memberi label pada axis berdasarkan pemetaan (dalam kasus ini yaitu dict)\n",
        "* Mulai dengan mendefinisikan suatu kamus yang memetakan nama kolom saat ini sebagi kunci ke yang lebih dapat digunakan” "
      ]
    },
    {
      "cell_type": "code",
      "execution_count": null,
      "id": "0139fde0",
      "metadata": {
        "id": "0139fde0"
      },
      "outputs": [],
      "source": [
        "new_names =  {'Unnamed: 0': 'Country',\n",
        "               '? Summer': 'Summer Olympics',\n",
        "               '01 !': 'Gold',\n",
        "               '02 !': 'Silver',\n",
        "               '03 !': 'Bronze',\n",
        "               '? Winter': 'Winter Olympics',\n",
        "               '01 !.1': 'Gold.1',\n",
        "               '02 !.1': 'Silver.1',\n",
        "               '03 !.1': 'Bronze.1',\n",
        "               '? Games': '# Games',\n",
        "               '01 !.2': 'Gold.2',\n",
        "               '02 !.2': 'Silver.2',\n",
        "               '03 !.2': 'Bronze.2'}"
      ]
    },
    {
      "cell_type": "markdown",
      "id": "26010390",
      "metadata": {
        "id": "26010390"
      },
      "source": [
        "* Kemudian, panggil fungsi rename() pada objek dimaksud:\n"
      ]
    },
    {
      "cell_type": "code",
      "execution_count": null,
      "id": "10a329e6",
      "metadata": {
        "id": "10a329e6"
      },
      "outputs": [],
      "source": [
        "olympics_df.rename(columns=new_names, inplace=True)"
      ]
    },
    {
      "cell_type": "markdown",
      "id": "cbee1166",
      "metadata": {
        "id": "cbee1166"
      },
      "source": [
        "* Atur inplace menjadi True,\n",
        "     dengan hasil sbb:\n"
      ]
    },
    {
      "cell_type": "code",
      "execution_count": null,
      "id": "f4a8b63d",
      "metadata": {
        "id": "f4a8b63d",
        "outputId": "e223c7a6-60ad-44fd-be69-80a7e6a81f47"
      },
      "outputs": [],
      "source": [
        "olympics_df.head()"
      ]
    }
  ],
  "metadata": {
    "colab": {
      "provenance": []
    },
    "kernelspec": {
      "display_name": "Python 3.10.2 64-bit",
      "language": "python",
      "name": "python3"
    },
    "language_info": {
      "codemirror_mode": {
        "name": "ipython",
        "version": 3
      },
      "file_extension": ".py",
      "mimetype": "text/x-python",
      "name": "python",
      "nbconvert_exporter": "python",
      "pygments_lexer": "ipython3",
      "version": "3.10.2"
    },
    "vscode": {
      "interpreter": {
        "hash": "26de051ba29f2982a8de78e945f0abaf191376122a1563185a90213a26c5da77"
      }
    }
  },
  "nbformat": 4,
  "nbformat_minor": 5
}
